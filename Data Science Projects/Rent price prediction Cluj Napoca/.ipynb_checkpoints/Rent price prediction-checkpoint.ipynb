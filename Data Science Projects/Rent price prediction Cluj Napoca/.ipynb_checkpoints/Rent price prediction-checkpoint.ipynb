{
 "cells": [
  {
   "cell_type": "code",
   "execution_count": 1,
   "metadata": {},
   "outputs": [],
   "source": [
    "import pandas as pd\n",
    "import numpy as np\n",
    "from matplotlib import pyplot as plt\n",
    "%matplotlib inline"
   ]
  },
  {
   "cell_type": "code",
   "execution_count": 2,
   "metadata": {},
   "outputs": [
    {
     "data": {
      "text/html": [
       "<div>\n",
       "<style scoped>\n",
       "    .dataframe tbody tr th:only-of-type {\n",
       "        vertical-align: middle;\n",
       "    }\n",
       "\n",
       "    .dataframe tbody tr th {\n",
       "        vertical-align: top;\n",
       "    }\n",
       "\n",
       "    .dataframe thead th {\n",
       "        text-align: right;\n",
       "    }\n",
       "</style>\n",
       "<table border=\"1\" class=\"dataframe\">\n",
       "  <thead>\n",
       "    <tr style=\"text-align: right;\">\n",
       "      <th></th>\n",
       "      <th>currency</th>\n",
       "      <th>floor</th>\n",
       "      <th>neighborhood</th>\n",
       "      <th>new_building</th>\n",
       "      <th>partitioning</th>\n",
       "      <th>price</th>\n",
       "      <th>rooms</th>\n",
       "      <th>space</th>\n",
       "    </tr>\n",
       "  </thead>\n",
       "  <tbody>\n",
       "    <tr>\n",
       "      <th>0</th>\n",
       "      <td>EUR / lună</td>\n",
       "      <td>Etaj 5/7</td>\n",
       "      <td>Cluj-Napoca, zona Central</td>\n",
       "      <td>NaN</td>\n",
       "      <td>Semidecomandat</td>\n",
       "      <td>400</td>\n",
       "      <td>2 camere</td>\n",
       "      <td>58.5 mp utili</td>\n",
       "    </tr>\n",
       "    <tr>\n",
       "      <th>1</th>\n",
       "      <td>EUR / lună</td>\n",
       "      <td>Etaj 8/10</td>\n",
       "      <td>Cluj-Napoca, zona Mănăştur</td>\n",
       "      <td>NaN</td>\n",
       "      <td>Semidecomandat</td>\n",
       "      <td>280</td>\n",
       "      <td>2 camere</td>\n",
       "      <td>52 mp utili</td>\n",
       "    </tr>\n",
       "    <tr>\n",
       "      <th>2</th>\n",
       "      <td>EUR / lună</td>\n",
       "      <td>Etaj 3/3</td>\n",
       "      <td>Cluj-Napoca, zona Zorilor</td>\n",
       "      <td>Bloc nou</td>\n",
       "      <td>Semidecomandat</td>\n",
       "      <td>400</td>\n",
       "      <td>3 camere</td>\n",
       "      <td>84 mp utili</td>\n",
       "    </tr>\n",
       "    <tr>\n",
       "      <th>3</th>\n",
       "      <td>EUR / lună</td>\n",
       "      <td>Parter/4</td>\n",
       "      <td>Cluj-Napoca, zona Gheorgheni</td>\n",
       "      <td>NaN</td>\n",
       "      <td>Semidecomandat</td>\n",
       "      <td>400</td>\n",
       "      <td>3 camere</td>\n",
       "      <td>65 mp utili</td>\n",
       "    </tr>\n",
       "    <tr>\n",
       "      <th>4</th>\n",
       "      <td>EUR / lună</td>\n",
       "      <td>Etaj 1/2</td>\n",
       "      <td>Cluj-Napoca, zona Zorilor</td>\n",
       "      <td>Bloc nou</td>\n",
       "      <td>Decomandat</td>\n",
       "      <td>420</td>\n",
       "      <td>2 camere</td>\n",
       "      <td>55 mp utili</td>\n",
       "    </tr>\n",
       "  </tbody>\n",
       "</table>\n",
       "</div>"
      ],
      "text/plain": [
       "     currency      floor                  neighborhood new_building  \\\n",
       "0  EUR / lună   Etaj 5/7     Cluj-Napoca, zona Central          NaN   \n",
       "1  EUR / lună  Etaj 8/10    Cluj-Napoca, zona Mănăştur          NaN   \n",
       "2  EUR / lună   Etaj 3/3     Cluj-Napoca, zona Zorilor     Bloc nou   \n",
       "3  EUR / lună   Parter/4  Cluj-Napoca, zona Gheorgheni          NaN   \n",
       "4  EUR / lună   Etaj 1/2     Cluj-Napoca, zona Zorilor     Bloc nou   \n",
       "\n",
       "     partitioning price     rooms          space  \n",
       "0  Semidecomandat   400  2 camere  58.5 mp utili  \n",
       "1  Semidecomandat   280  2 camere    52 mp utili  \n",
       "2  Semidecomandat   400  3 camere    84 mp utili  \n",
       "3  Semidecomandat   400  3 camere    65 mp utili  \n",
       "4      Decomandat   420  2 camere    55 mp utili  "
      ]
     },
     "execution_count": 2,
     "metadata": {},
     "output_type": "execute_result"
    }
   ],
   "source": [
    "df = pd.read_csv('Web Scraping Rent Prices/rent_price_results.csv', decimal=',')\n",
    "df.head()"
   ]
  },
  {
   "cell_type": "code",
   "execution_count": 3,
   "metadata": {},
   "outputs": [
    {
     "data": {
      "text/plain": [
       "(5005, 8)"
      ]
     },
     "execution_count": 3,
     "metadata": {},
     "output_type": "execute_result"
    }
   ],
   "source": [
    "df.shape"
   ]
  },
  {
   "cell_type": "code",
   "execution_count": 4,
   "metadata": {},
   "outputs": [
    {
     "data": {
      "text/plain": [
       "currency\n",
       "EUR + TVA / lună      48\n",
       "EUR / lună          4947\n",
       "RON / lună             8\n",
       "Name: currency, dtype: int64"
      ]
     },
     "execution_count": 4,
     "metadata": {},
     "output_type": "execute_result"
    }
   ],
   "source": [
    "df.groupby('currency')['currency'].count()"
   ]
  },
  {
   "cell_type": "code",
   "execution_count": 5,
   "metadata": {},
   "outputs": [],
   "source": [
    "df['currency'] = df['currency'].str[:3]"
   ]
  },
  {
   "cell_type": "code",
   "execution_count": 6,
   "metadata": {
    "scrolled": false
   },
   "outputs": [
    {
     "data": {
      "text/plain": [
       "currency\n",
       "EUR    4995\n",
       "RON       8\n",
       "Name: currency, dtype: int64"
      ]
     },
     "execution_count": 6,
     "metadata": {},
     "output_type": "execute_result"
    }
   ],
   "source": [
    "df.groupby('currency')['currency'].count()"
   ]
  },
  {
   "cell_type": "code",
   "execution_count": 7,
   "metadata": {},
   "outputs": [
    {
     "data": {
      "text/plain": [
       "partitioning\n",
       "Bloc nou            15\n",
       "Circular             9\n",
       "Decomandat        2348\n",
       "Imobil nou           1\n",
       "Nedecomandat        50\n",
       "Semidecomandat    2508\n",
       "Vagon                8\n",
       "Name: partitioning, dtype: int64"
      ]
     },
     "execution_count": 7,
     "metadata": {},
     "output_type": "execute_result"
    }
   ],
   "source": [
    "df.groupby('partitioning')['partitioning'].count()"
   ]
  },
  {
   "cell_type": "code",
   "execution_count": 8,
   "metadata": {},
   "outputs": [],
   "source": [
    "def switch_rows_partitioning(df, variable, element):\n",
    "    for content in df[variable]:\n",
    "        if element == content:\n",
    "            df[[variable,'new_building']] = df[['new_building',variable]].where(df[variable] == element, df[[variable,'new_building']].values)"
   ]
  },
  {
   "cell_type": "code",
   "execution_count": 9,
   "metadata": {},
   "outputs": [],
   "source": [
    "switch_rows_partitioning(df,'partitioning','Bloc nou')\n",
    "switch_rows_partitioning(df,'partitioning','Imobil nou')"
   ]
  },
  {
   "cell_type": "code",
   "execution_count": 10,
   "metadata": {},
   "outputs": [
    {
     "data": {
      "text/plain": [
       "partitioning\n",
       "Circular             9\n",
       "Decomandat        2348\n",
       "Nedecomandat        50\n",
       "Semidecomandat    2508\n",
       "Vagon                8\n",
       "Name: partitioning, dtype: int64"
      ]
     },
     "execution_count": 10,
     "metadata": {},
     "output_type": "execute_result"
    }
   ],
   "source": [
    "df.groupby('partitioning')['partitioning'].count()"
   ]
  },
  {
   "cell_type": "code",
   "execution_count": 11,
   "metadata": {
    "scrolled": true
   },
   "outputs": [
    {
     "data": {
      "text/plain": [
       "floor\n",
       "Decomandat      2\n",
       "Demisol         5\n",
       "Demisol/1      10\n",
       "Demisol/2       8\n",
       "Demisol/3       3\n",
       "Demisol/4       5\n",
       "Demisol/5       2\n",
       "Etaj 1         66\n",
       "Etaj 1/1      122\n",
       "Etaj 1/10      62\n",
       "Etaj 1/11      10\n",
       "Etaj 1/2      127\n",
       "Etaj 1/20       1\n",
       "Etaj 1/3      151\n",
       "Etaj 1/4      342\n",
       "Etaj 1/5       55\n",
       "Etaj 1/6       63\n",
       "Etaj 1/7       23\n",
       "Etaj 1/8       70\n",
       "Etaj 1/9       10\n",
       "Etaj 10         4\n",
       "Etaj 10/10     49\n",
       "Etaj 10/11     21\n",
       "Etaj 10/12      1\n",
       "Etaj 11/11      3\n",
       "Etaj 11/12      3\n",
       "Etaj 12/12      1\n",
       "Etaj 2         60\n",
       "Etaj 2/10      55\n",
       "Etaj 2/11      11\n",
       "Etaj 2/2      133\n",
       "Etaj 2/3      136\n",
       "Etaj 2/4      327\n",
       "Etaj 2/5       37\n",
       "Etaj 2/6       44\n",
       "Etaj 2/7       23\n",
       "Etaj 2/8       54\n",
       "Etaj 2/9        9\n",
       "Etaj 3         44\n",
       "Etaj 3/10      54\n",
       "Etaj 3/11      19\n",
       "Etaj 3/12       1\n",
       "Etaj 3/3       76\n",
       "Etaj 3/4      335\n",
       "Etaj 3/5       73\n",
       "Etaj 3/6       61\n",
       "Etaj 3/7       24\n",
       "Etaj 3/8       55\n",
       "Etaj 3/9        7\n",
       "Etaj 4         24\n",
       "Etaj 4/10      50\n",
       "Etaj 4/11       3\n",
       "Etaj 4/12       1\n",
       "Etaj 4/4      237\n",
       "Name: floor, dtype: int64"
      ]
     },
     "execution_count": 11,
     "metadata": {},
     "output_type": "execute_result"
    }
   ],
   "source": [
    "df.groupby('floor')['floor'].count().head(-55)"
   ]
  },
  {
   "cell_type": "code",
   "execution_count": 12,
   "metadata": {},
   "outputs": [
    {
     "data": {
      "text/plain": [
       "currency           2\n",
       "floor              1\n",
       "neighborhood       0\n",
       "new_building    3444\n",
       "partitioning      82\n",
       "price              2\n",
       "rooms              0\n",
       "space              0\n",
       "dtype: int64"
      ]
     },
     "execution_count": 12,
     "metadata": {},
     "output_type": "execute_result"
    }
   ],
   "source": [
    "df.isnull().sum()"
   ]
  },
  {
   "cell_type": "code",
   "execution_count": 13,
   "metadata": {},
   "outputs": [],
   "source": [
    "df.dropna(subset=['floor', 'price'], inplace=True)"
   ]
  },
  {
   "cell_type": "code",
   "execution_count": 14,
   "metadata": {
    "scrolled": true
   },
   "outputs": [
    {
     "data": {
      "text/plain": [
       "currency           0\n",
       "floor              0\n",
       "neighborhood       0\n",
       "new_building    3441\n",
       "partitioning      81\n",
       "price              0\n",
       "rooms              0\n",
       "space              0\n",
       "dtype: int64"
      ]
     },
     "execution_count": 14,
     "metadata": {},
     "output_type": "execute_result"
    }
   ],
   "source": [
    "df.isnull().sum()"
   ]
  },
  {
   "cell_type": "code",
   "execution_count": 15,
   "metadata": {},
   "outputs": [],
   "source": [
    "df.loc[df.floor.str.contains('Demisol'), 'floor'] = '0'"
   ]
  },
  {
   "cell_type": "code",
   "execution_count": 16,
   "metadata": {},
   "outputs": [],
   "source": [
    "def switch_rows_floor(df, variable, element):\n",
    "    for content in df[variable]:\n",
    "        if element in content:\n",
    "            df[[variable,'space']] = df[['space',variable]].where(df[variable] == element, df[[variable,'space']].values)\n",
    "            df[['space','partitioning']] = df[['partitioning','space']].where(df['space'] == element, df[['space','partitioning']].values)\n",
    "            df[['space','new_building']] = df[['new_building','space']].where(df['space'] == 'Bloc Nou', df[['space','new_building']].values)"
   ]
  },
  {
   "cell_type": "code",
   "execution_count": 17,
   "metadata": {},
   "outputs": [],
   "source": [
    "switch_rows_floor(df,'floor','Decomandat')"
   ]
  },
  {
   "cell_type": "code",
   "execution_count": 18,
   "metadata": {},
   "outputs": [
    {
     "data": {
      "text/plain": [
       "floor\n",
       "0                      33\n",
       "Etaj 1                 66\n",
       "Etaj 1/1              122\n",
       "Etaj 1/10              62\n",
       "Etaj 1/11              10\n",
       "                     ... \n",
       "Parter/7               16\n",
       "Parter/8               44\n",
       "Parter/9                4\n",
       "Semidecomandat          4\n",
       "Ultimele 2 etaje/4      2\n",
       "Name: floor, Length: 103, dtype: int64"
      ]
     },
     "execution_count": 18,
     "metadata": {},
     "output_type": "execute_result"
    }
   ],
   "source": [
    "df.groupby('floor')['floor'].count()"
   ]
  },
  {
   "cell_type": "code",
   "execution_count": 19,
   "metadata": {},
   "outputs": [],
   "source": [
    "switch_rows_floor(df,'floor','Semidecomandat')"
   ]
  },
  {
   "cell_type": "code",
   "execution_count": 20,
   "metadata": {},
   "outputs": [],
   "source": [
    "df.loc[df.floor.str.contains('Ultimele 2 etaje/4'), 'floor'] = '2'"
   ]
  },
  {
   "cell_type": "code",
   "execution_count": 21,
   "metadata": {},
   "outputs": [],
   "source": [
    "df.loc[df.floor.str.contains('Etaj'), 'floor'] = df.floor.str[5:]"
   ]
  },
  {
   "cell_type": "code",
   "execution_count": 22,
   "metadata": {},
   "outputs": [],
   "source": [
    "df.loc[df.floor.str.contains('Parter'), 'floor'] = '1'"
   ]
  },
  {
   "cell_type": "code",
   "execution_count": 23,
   "metadata": {},
   "outputs": [
    {
     "data": {
      "text/plain": [
       "floor\n",
       "0              33\n",
       "1             928\n",
       "1/1           122\n",
       "1/10           62\n",
       "1/11           10\n",
       "             ... \n",
       "Mansarda/2     18\n",
       "Mansarda/3     11\n",
       "Mansarda/4     10\n",
       "Mansarda/5      4\n",
       "Mansarda/7      1\n",
       "Name: floor, Length: 90, dtype: int64"
      ]
     },
     "execution_count": 23,
     "metadata": {},
     "output_type": "execute_result"
    }
   ],
   "source": [
    "df.groupby('floor')['floor'].count()"
   ]
  },
  {
   "cell_type": "code",
   "execution_count": 24,
   "metadata": {},
   "outputs": [],
   "source": [
    "df.loc[df.floor.str.contains('Mansarda'), 'floor'] = '100'"
   ]
  },
  {
   "cell_type": "code",
   "execution_count": 25,
   "metadata": {},
   "outputs": [],
   "source": [
    "df.loc[df.floor.str.contains('/'), 'floor'] = df.floor.str.split('/').str[0]"
   ]
  },
  {
   "cell_type": "code",
   "execution_count": 26,
   "metadata": {},
   "outputs": [
    {
     "data": {
      "text/plain": [
       "floor\n",
       "0        33\n",
       "1      1967\n",
       "10       75\n",
       "100      54\n",
       "11        6\n",
       "12        1\n",
       "2       891\n",
       "3       751\n",
       "4       470\n",
       "5       228\n",
       "6       150\n",
       "7       158\n",
       "8       118\n",
       "9       100\n",
       "Name: floor, dtype: int64"
      ]
     },
     "execution_count": 26,
     "metadata": {},
     "output_type": "execute_result"
    }
   ],
   "source": [
    "df.groupby('floor')['floor'].count()"
   ]
  },
  {
   "cell_type": "code",
   "execution_count": 27,
   "metadata": {},
   "outputs": [
    {
     "data": {
      "text/plain": [
       "neighborhood\n",
       "Cluj-Napoca, zona Aeroport                 4\n",
       "Cluj-Napoca, zona Andrei Muresanu          4\n",
       "Cluj-Napoca, zona Andrei Mureşanu        121\n",
       "Cluj-Napoca, zona Aurel Vlaicu             7\n",
       "Cluj-Napoca, zona Baciu                    2\n",
       "Cluj-Napoca, zona Borhanci                47\n",
       "Cluj-Napoca, zona Bulgaria                10\n",
       "Cluj-Napoca, zona Buna Ziua               11\n",
       "Cluj-Napoca, zona Bună Ziua              244\n",
       "Cluj-Napoca, zona Calea Turzii            36\n",
       "Cluj-Napoca, zona Central                765\n",
       "Cluj-Napoca, zona Cordos                   1\n",
       "Cluj-Napoca, zona Câmpului                 6\n",
       "Cluj-Napoca, zona Dâmbul Rotund           17\n",
       "Cluj-Napoca, zona Europa                 109\n",
       "Cluj-Napoca, zona Exterior Vest            1\n",
       "Cluj-Napoca, zona Gară                    26\n",
       "Cluj-Napoca, zona Gheorgheni             855\n",
       "Cluj-Napoca, zona Grigorescu             185\n",
       "Cluj-Napoca, zona Gruia                   27\n",
       "Cluj-Napoca, zona Haşdeu                  14\n",
       "Cluj-Napoca, zona Horea                   19\n",
       "Cluj-Napoca, zona Intre Lacuri             6\n",
       "Cluj-Napoca, zona Iris                    56\n",
       "Cluj-Napoca, zona Manastur                24\n",
       "Cluj-Napoca, zona Marasti                 48\n",
       "Cluj-Napoca, zona Mănăştur               522\n",
       "Cluj-Napoca, zona Mărăşti                672\n",
       "Cluj-Napoca, zona P-ta Mihai Viteazul      1\n",
       "Cluj-Napoca, zona P-ţa Mihai Viteazul     52\n",
       "Cluj-Napoca, zona Plopilor               107\n",
       "Cluj-Napoca, zona Semicentral            159\n",
       "Cluj-Napoca, zona Someşeni                15\n",
       "Cluj-Napoca, zona Sopor                   26\n",
       "Cluj-Napoca, zona Ultracentral            95\n",
       "Cluj-Napoca, zona Zorilor                559\n",
       "Cluj-Napoca, zona Între Lacuri           149\n",
       "Name: neighborhood, dtype: int64"
      ]
     },
     "execution_count": 27,
     "metadata": {},
     "output_type": "execute_result"
    }
   ],
   "source": [
    "df.groupby('neighborhood')['neighborhood'].count()"
   ]
  },
  {
   "cell_type": "code",
   "execution_count": 28,
   "metadata": {},
   "outputs": [],
   "source": [
    "df['neighborhood'] = df['neighborhood'].str[18:]"
   ]
  },
  {
   "cell_type": "code",
   "execution_count": 29,
   "metadata": {},
   "outputs": [],
   "source": [
    "df.neighborhood.replace(to_replace=['Andrei Mureşanu', 'Bună Ziua', 'Câmpului', 'Dâmbul Rotund', 'Gară', 'Haşdeu', 'Între Lacuri', 'Mărăşti', 'Mănăştur', 'P-ţa Mihai Viteazul', 'Someşeni'],\n",
    "           value= ['Andrei Muresanu', 'Buna Ziua', 'Campului', 'Dambul Rotund','Gara', 'Hasdeu', 'Intre Lacuri', 'Marasti', 'Manastur', 'P-ta Mihai Viteazul', 'Someseni'], \n",
    "           inplace=True)"
   ]
  },
  {
   "cell_type": "code",
   "execution_count": 30,
   "metadata": {
    "scrolled": true
   },
   "outputs": [
    {
     "data": {
      "text/plain": [
       "neighborhood\n",
       "Aeroport                 4\n",
       "Andrei Muresanu        125\n",
       "Aurel Vlaicu             7\n",
       "Baciu                    2\n",
       "Borhanci                47\n",
       "Bulgaria                10\n",
       "Buna Ziua              255\n",
       "Calea Turzii            36\n",
       "Campului                 6\n",
       "Central                765\n",
       "Cordos                   1\n",
       "Dambul Rotund           17\n",
       "Europa                 109\n",
       "Exterior Vest            1\n",
       "Gara                    26\n",
       "Gheorgheni             855\n",
       "Grigorescu             185\n",
       "Gruia                   27\n",
       "Hasdeu                  14\n",
       "Horea                   19\n",
       "Intre Lacuri           155\n",
       "Iris                    56\n",
       "Manastur               546\n",
       "Marasti                720\n",
       "P-ta Mihai Viteazul     53\n",
       "Plopilor               107\n",
       "Semicentral            159\n",
       "Someseni                15\n",
       "Sopor                   26\n",
       "Ultracentral            95\n",
       "Zorilor                559\n",
       "Name: neighborhood, dtype: int64"
      ]
     },
     "execution_count": 30,
     "metadata": {},
     "output_type": "execute_result"
    }
   ],
   "source": [
    "df.groupby('neighborhood')['neighborhood'].count()"
   ]
  },
  {
   "cell_type": "code",
   "execution_count": 31,
   "metadata": {},
   "outputs": [
    {
     "data": {
      "text/plain": [
       "new_building\n",
       "Bloc nou      1471\n",
       "Imobil nou      90\n",
       "Name: new_building, dtype: int64"
      ]
     },
     "execution_count": 31,
     "metadata": {},
     "output_type": "execute_result"
    }
   ],
   "source": [
    "df.groupby('new_building')['new_building'].count()"
   ]
  },
  {
   "cell_type": "code",
   "execution_count": 32,
   "metadata": {},
   "outputs": [
    {
     "data": {
      "text/plain": [
       "3441"
      ]
     },
     "execution_count": 32,
     "metadata": {},
     "output_type": "execute_result"
    }
   ],
   "source": [
    "df.new_building.isnull().sum()"
   ]
  },
  {
   "cell_type": "code",
   "execution_count": 33,
   "metadata": {},
   "outputs": [],
   "source": [
    "df.new_building = df.new_building.fillna('Imobil vechi')"
   ]
  },
  {
   "cell_type": "code",
   "execution_count": 34,
   "metadata": {
    "scrolled": true
   },
   "outputs": [],
   "source": [
    "df.loc[df.new_building.str.contains('Bloc nou'), 'new_building'] = 'Imobil nou'"
   ]
  },
  {
   "cell_type": "code",
   "execution_count": 35,
   "metadata": {},
   "outputs": [
    {
     "data": {
      "text/plain": [
       "new_building\n",
       "Imobil nou      1561\n",
       "Imobil vechi    3441\n",
       "Name: new_building, dtype: int64"
      ]
     },
     "execution_count": 35,
     "metadata": {},
     "output_type": "execute_result"
    }
   ],
   "source": [
    "df.groupby('new_building')['new_building'].count()"
   ]
  },
  {
   "cell_type": "code",
   "execution_count": 36,
   "metadata": {
    "scrolled": true
   },
   "outputs": [
    {
     "data": {
      "text/plain": [
       "2 camere       2771\n",
       "3 camere       1222\n",
       "o cameră        802\n",
       "4 camere        185\n",
       "5 camere         16\n",
       "6 camere          2\n",
       "7 camere          1\n",
       "11 camere         1\n",
       "50 camere         1\n",
       "75 mp utili       1\n",
       "Name: rooms, dtype: int64"
      ]
     },
     "execution_count": 36,
     "metadata": {},
     "output_type": "execute_result"
    }
   ],
   "source": [
    "df.rooms.value_counts()"
   ]
  },
  {
   "cell_type": "code",
   "execution_count": 37,
   "metadata": {},
   "outputs": [
    {
     "data": {
      "text/plain": [
       "[4903]"
      ]
     },
     "execution_count": 37,
     "metadata": {},
     "output_type": "execute_result"
    }
   ],
   "source": [
    "df.rooms[df.rooms == '75 mp utili'].index.tolist()"
   ]
  },
  {
   "cell_type": "code",
   "execution_count": 38,
   "metadata": {},
   "outputs": [
    {
     "name": "stdout",
     "output_type": "stream",
     "text": [
      "     currency floor neighborhood new_building partitioning price        rooms  \\\n",
      "4903      EUR     3     Bulgaria   Imobil nou   Decomandat   499  75 mp utili   \n",
      "\n",
      "     space  \n",
      "4903   NaN  \n"
     ]
    }
   ],
   "source": [
    "print(df.loc[[4903]])"
   ]
  },
  {
   "cell_type": "code",
   "execution_count": 39,
   "metadata": {},
   "outputs": [],
   "source": [
    "df[['rooms','space']] = df[['space','rooms']].where(df['rooms'] == '75 mp utili', df[['rooms','space']].values)"
   ]
  },
  {
   "cell_type": "code",
   "execution_count": 40,
   "metadata": {},
   "outputs": [
    {
     "data": {
      "text/plain": [
       "2 camere     2771\n",
       "3 camere     1222\n",
       "o cameră      802\n",
       "4 camere      185\n",
       "5 camere       16\n",
       "6 camere        2\n",
       "7 camere        1\n",
       "11 camere       1\n",
       "50 camere       1\n",
       "Name: rooms, dtype: int64"
      ]
     },
     "execution_count": 40,
     "metadata": {},
     "output_type": "execute_result"
    }
   ],
   "source": [
    "df.rooms.value_counts()"
   ]
  },
  {
   "cell_type": "code",
   "execution_count": 41,
   "metadata": {},
   "outputs": [],
   "source": [
    "df.rooms = df.rooms.str[:-7]"
   ]
  },
  {
   "cell_type": "code",
   "execution_count": 42,
   "metadata": {},
   "outputs": [
    {
     "data": {
      "text/plain": [
       "2     2771\n",
       "3     1222\n",
       "o      802\n",
       "4      185\n",
       "5       16\n",
       "6        2\n",
       "50       1\n",
       "7        1\n",
       "11       1\n",
       "Name: rooms, dtype: int64"
      ]
     },
     "execution_count": 42,
     "metadata": {},
     "output_type": "execute_result"
    }
   ],
   "source": [
    "df.rooms.value_counts()"
   ]
  },
  {
   "cell_type": "code",
   "execution_count": 43,
   "metadata": {},
   "outputs": [
    {
     "data": {
      "text/plain": [
       "1"
      ]
     },
     "execution_count": 43,
     "metadata": {},
     "output_type": "execute_result"
    }
   ],
   "source": [
    "df.rooms.isnull().sum()"
   ]
  },
  {
   "cell_type": "code",
   "execution_count": 44,
   "metadata": {},
   "outputs": [],
   "source": [
    "df.rooms = df.rooms.fillna(df.rooms.mode()[0]) "
   ]
  },
  {
   "cell_type": "code",
   "execution_count": 45,
   "metadata": {},
   "outputs": [
    {
     "data": {
      "text/plain": [
       "0"
      ]
     },
     "execution_count": 45,
     "metadata": {},
     "output_type": "execute_result"
    }
   ],
   "source": [
    "df.rooms.isnull().sum()"
   ]
  },
  {
   "cell_type": "code",
   "execution_count": 46,
   "metadata": {},
   "outputs": [
    {
     "data": {
      "text/plain": [
       "2     2772\n",
       "3     1222\n",
       "o      802\n",
       "4      185\n",
       "5       16\n",
       "6        2\n",
       "50       1\n",
       "7        1\n",
       "11       1\n",
       "Name: rooms, dtype: int64"
      ]
     },
     "execution_count": 46,
     "metadata": {},
     "output_type": "execute_result"
    }
   ],
   "source": [
    "df.rooms.value_counts()"
   ]
  },
  {
   "cell_type": "code",
   "execution_count": 47,
   "metadata": {},
   "outputs": [],
   "source": [
    "df.loc[df.rooms.str.contains('o'), 'rooms'] = '1'"
   ]
  },
  {
   "cell_type": "code",
   "execution_count": 48,
   "metadata": {},
   "outputs": [
    {
     "data": {
      "text/plain": [
       "2     2772\n",
       "3     1222\n",
       "1      802\n",
       "4      185\n",
       "5       16\n",
       "6        2\n",
       "50       1\n",
       "7        1\n",
       "11       1\n",
       "Name: rooms, dtype: int64"
      ]
     },
     "execution_count": 48,
     "metadata": {},
     "output_type": "execute_result"
    }
   ],
   "source": [
    "df.rooms.value_counts()"
   ]
  },
  {
   "cell_type": "code",
   "execution_count": 49,
   "metadata": {},
   "outputs": [
    {
     "data": {
      "text/plain": [
       "space\n",
       "1 mp utili         1\n",
       "100 mp utili      66\n",
       "101 mp utili       1\n",
       "103 mp utili       3\n",
       "104 mp utili       3\n",
       "105 mp utili       9\n",
       "106 mp utili       1\n",
       "109 mp utili       2\n",
       "11 mp utili        3\n",
       "110 mp utili      20\n",
       "117 mp utili       2\n",
       "118 mp utili       3\n",
       "119 mp utili       1\n",
       "120 mp utili      19\n",
       "125 mp utili       3\n",
       "127 mp utili       1\n",
       "130 mp utili       7\n",
       "131 mp utili       2\n",
       "134 mp utili       1\n",
       "135 mp utili       2\n",
       "136 mp utili       4\n",
       "138 mp utili       1\n",
       "14 mp utili        1\n",
       "140 mp utili       6\n",
       "145 mp utili       1\n",
       "146 mp utili       1\n",
       "150 mp utili       9\n",
       "160 mp utili       2\n",
       "162 mp utili       1\n",
       "170 mp utili       2\n",
       "175 mp utili       3\n",
       "180 mp utili       4\n",
       "189 mp utili       1\n",
       "19 mp utili        1\n",
       "20 mp utili        8\n",
       "20.37 mp utili     1\n",
       "200 mp utili       6\n",
       "21 mp utili        8\n",
       "210 mp utili       1\n",
       "22 mp utili       25\n",
       "Name: space, dtype: int64"
      ]
     },
     "execution_count": 49,
     "metadata": {},
     "output_type": "execute_result"
    }
   ],
   "source": [
    "df.groupby('space')['space'].count().head(40)"
   ]
  },
  {
   "cell_type": "code",
   "execution_count": 50,
   "metadata": {},
   "outputs": [
    {
     "data": {
      "text/plain": [
       "5"
      ]
     },
     "execution_count": 50,
     "metadata": {},
     "output_type": "execute_result"
    }
   ],
   "source": [
    "df.space.isnull().sum()"
   ]
  },
  {
   "cell_type": "code",
   "execution_count": 51,
   "metadata": {},
   "outputs": [],
   "source": [
    "df.space = df.space.str[:-9]"
   ]
  },
  {
   "cell_type": "code",
   "execution_count": 52,
   "metadata": {},
   "outputs": [
    {
     "data": {
      "text/plain": [
       "space\n",
       "1         1\n",
       "100      66\n",
       "101       1\n",
       "103       3\n",
       "104       3\n",
       "105       9\n",
       "106       1\n",
       "109       2\n",
       "11        3\n",
       "110      20\n",
       "117       2\n",
       "118       3\n",
       "119       1\n",
       "120      19\n",
       "125       3\n",
       "127       1\n",
       "130       7\n",
       "131       2\n",
       "134       1\n",
       "135       2\n",
       "136       4\n",
       "138       1\n",
       "14        1\n",
       "140       6\n",
       "145       1\n",
       "146       1\n",
       "150       9\n",
       "160       2\n",
       "162       1\n",
       "170       2\n",
       "175       3\n",
       "180       4\n",
       "189       1\n",
       "19        1\n",
       "20        8\n",
       "20.37     1\n",
       "200       6\n",
       "21        8\n",
       "210       1\n",
       "22       25\n",
       "Name: space, dtype: int64"
      ]
     },
     "execution_count": 52,
     "metadata": {},
     "output_type": "execute_result"
    }
   ],
   "source": [
    "df.groupby('space')['space'].count().head(40)"
   ]
  },
  {
   "cell_type": "code",
   "execution_count": 53,
   "metadata": {
    "scrolled": true
   },
   "outputs": [
    {
     "data": {
      "text/plain": [
       "price\n",
       "1.000    23\n",
       "1.050     3\n",
       "1.100     7\n",
       "1.150     7\n",
       "1.200    17\n",
       "1.250     3\n",
       "1.300     4\n",
       "1.350     2\n",
       "1.400     1\n",
       "1.450     1\n",
       "1.490     1\n",
       "1.500     5\n",
       "1.700     1\n",
       "1.800     1\n",
       "1.850     1\n",
       "1.990     1\n",
       "140       2\n",
       "145       1\n",
       "150       1\n",
       "160       1\n",
       "169       1\n",
       "170       3\n",
       "179       1\n",
       "180      11\n",
       "185       1\n",
       "189       1\n",
       "190       5\n",
       "195       1\n",
       "199       5\n",
       "2.000     6\n",
       "2.100     1\n",
       "2.300     1\n",
       "2.400     1\n",
       "2.550     1\n",
       "200      31\n",
       "205       3\n",
       "209       1\n",
       "210       8\n",
       "215       1\n",
       "219       1\n",
       "Name: price, dtype: int64"
      ]
     },
     "execution_count": 53,
     "metadata": {},
     "output_type": "execute_result"
    }
   ],
   "source": [
    "df.groupby('price')['price'].count().head(40)"
   ]
  },
  {
   "cell_type": "code",
   "execution_count": 54,
   "metadata": {},
   "outputs": [
    {
     "data": {
      "text/plain": [
       "currency         0\n",
       "floor            0\n",
       "neighborhood     0\n",
       "new_building     0\n",
       "partitioning    75\n",
       "price            0\n",
       "rooms            0\n",
       "space            5\n",
       "dtype: int64"
      ]
     },
     "execution_count": 54,
     "metadata": {},
     "output_type": "execute_result"
    }
   ],
   "source": [
    "df.isnull().sum()"
   ]
  },
  {
   "cell_type": "code",
   "execution_count": null,
   "metadata": {},
   "outputs": [],
   "source": []
  },
  {
   "cell_type": "code",
   "execution_count": null,
   "metadata": {},
   "outputs": [],
   "source": []
  },
  {
   "cell_type": "code",
   "execution_count": null,
   "metadata": {},
   "outputs": [],
   "source": []
  },
  {
   "cell_type": "code",
   "execution_count": null,
   "metadata": {},
   "outputs": [],
   "source": []
  }
 ],
 "metadata": {
  "kernelspec": {
   "display_name": "Python 3",
   "language": "python",
   "name": "python3"
  },
  "language_info": {
   "codemirror_mode": {
    "name": "ipython",
    "version": 3
   },
   "file_extension": ".py",
   "mimetype": "text/x-python",
   "name": "python",
   "nbconvert_exporter": "python",
   "pygments_lexer": "ipython3",
   "version": "3.8.3"
  }
 },
 "nbformat": 4,
 "nbformat_minor": 4
}
