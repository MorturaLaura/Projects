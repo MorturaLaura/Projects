{
 "cells": [
  {
   "cell_type": "code",
   "execution_count": 1,
   "metadata": {},
   "outputs": [],
   "source": [
    "import pandas as pd\n",
    "import numpy as np\n",
    "from matplotlib import pyplot as plt\n",
    "%matplotlib inline"
   ]
  },
  {
   "cell_type": "code",
   "execution_count": 2,
   "metadata": {},
   "outputs": [
    {
     "data": {
      "text/html": [
       "<div>\n",
       "<style scoped>\n",
       "    .dataframe tbody tr th:only-of-type {\n",
       "        vertical-align: middle;\n",
       "    }\n",
       "\n",
       "    .dataframe tbody tr th {\n",
       "        vertical-align: top;\n",
       "    }\n",
       "\n",
       "    .dataframe thead th {\n",
       "        text-align: right;\n",
       "    }\n",
       "</style>\n",
       "<table border=\"1\" class=\"dataframe\">\n",
       "  <thead>\n",
       "    <tr style=\"text-align: right;\">\n",
       "      <th></th>\n",
       "      <th>currency</th>\n",
       "      <th>floor</th>\n",
       "      <th>neighborhood</th>\n",
       "      <th>new_building</th>\n",
       "      <th>partitioning</th>\n",
       "      <th>price</th>\n",
       "      <th>rooms</th>\n",
       "      <th>space</th>\n",
       "    </tr>\n",
       "  </thead>\n",
       "  <tbody>\n",
       "    <tr>\n",
       "      <th>0</th>\n",
       "      <td>EUR / lună</td>\n",
       "      <td>Etaj 5/7</td>\n",
       "      <td>Cluj-Napoca, zona Central</td>\n",
       "      <td>NaN</td>\n",
       "      <td>Semidecomandat</td>\n",
       "      <td>435.0</td>\n",
       "      <td>2 camere</td>\n",
       "      <td>58.5 mp utili</td>\n",
       "    </tr>\n",
       "    <tr>\n",
       "      <th>1</th>\n",
       "      <td>EUR / lună</td>\n",
       "      <td>Etaj 8/10</td>\n",
       "      <td>Cluj-Napoca, zona Mănăştur</td>\n",
       "      <td>NaN</td>\n",
       "      <td>Semidecomandat</td>\n",
       "      <td>280.0</td>\n",
       "      <td>2 camere</td>\n",
       "      <td>52 mp utili</td>\n",
       "    </tr>\n",
       "    <tr>\n",
       "      <th>2</th>\n",
       "      <td>EUR / lună</td>\n",
       "      <td>Parter/4</td>\n",
       "      <td>Cluj-Napoca, zona Gheorgheni</td>\n",
       "      <td>NaN</td>\n",
       "      <td>Semidecomandat</td>\n",
       "      <td>400.0</td>\n",
       "      <td>3 camere</td>\n",
       "      <td>65 mp utili</td>\n",
       "    </tr>\n",
       "    <tr>\n",
       "      <th>3</th>\n",
       "      <td>EUR / lună</td>\n",
       "      <td>Parter/4</td>\n",
       "      <td>Cluj-Napoca, zona Bună Ziua</td>\n",
       "      <td>NaN</td>\n",
       "      <td>Semidecomandat</td>\n",
       "      <td>700.0</td>\n",
       "      <td>3 camere</td>\n",
       "      <td>100 mp utili</td>\n",
       "    </tr>\n",
       "    <tr>\n",
       "      <th>4</th>\n",
       "      <td>EUR / lună</td>\n",
       "      <td>Parter/4</td>\n",
       "      <td>Cluj-Napoca, zona Gheorgheni</td>\n",
       "      <td>NaN</td>\n",
       "      <td>Decomandat</td>\n",
       "      <td>350.0</td>\n",
       "      <td>o cameră</td>\n",
       "      <td>32 mp utili</td>\n",
       "    </tr>\n",
       "  </tbody>\n",
       "</table>\n",
       "</div>"
      ],
      "text/plain": [
       "     currency      floor                  neighborhood new_building  \\\n",
       "0  EUR / lună   Etaj 5/7     Cluj-Napoca, zona Central          NaN   \n",
       "1  EUR / lună  Etaj 8/10    Cluj-Napoca, zona Mănăştur          NaN   \n",
       "2  EUR / lună   Parter/4  Cluj-Napoca, zona Gheorgheni          NaN   \n",
       "3  EUR / lună   Parter/4   Cluj-Napoca, zona Bună Ziua          NaN   \n",
       "4  EUR / lună   Parter/4  Cluj-Napoca, zona Gheorgheni          NaN   \n",
       "\n",
       "     partitioning  price     rooms          space  \n",
       "0  Semidecomandat  435.0  2 camere  58.5 mp utili  \n",
       "1  Semidecomandat  280.0  2 camere    52 mp utili  \n",
       "2  Semidecomandat  400.0  3 camere    65 mp utili  \n",
       "3  Semidecomandat  700.0  3 camere   100 mp utili  \n",
       "4      Decomandat  350.0  o cameră    32 mp utili  "
      ]
     },
     "execution_count": 2,
     "metadata": {},
     "output_type": "execute_result"
    }
   ],
   "source": [
    "df = pd.read_csv('Web Scraping Rent Prices/rent_price_results.csv')\n",
    "df.head()"
   ]
  },
  {
   "cell_type": "code",
   "execution_count": 3,
   "metadata": {},
   "outputs": [
    {
     "data": {
      "text/plain": [
       "(4997, 8)"
      ]
     },
     "execution_count": 3,
     "metadata": {},
     "output_type": "execute_result"
    }
   ],
   "source": [
    "df.shape"
   ]
  },
  {
   "cell_type": "code",
   "execution_count": 4,
   "metadata": {},
   "outputs": [
    {
     "data": {
      "text/plain": [
       "currency\n",
       "EUR + TVA / lună      48\n",
       "EUR / luna             2\n",
       "EUR / lună          4938\n",
       "RON / lună             6\n",
       "Name: currency, dtype: int64"
      ]
     },
     "execution_count": 4,
     "metadata": {},
     "output_type": "execute_result"
    }
   ],
   "source": [
    "df.groupby('currency')['currency'].count()"
   ]
  },
  {
   "cell_type": "code",
   "execution_count": 5,
   "metadata": {},
   "outputs": [],
   "source": [
    "df['currency'] = df['currency'].str[:3]"
   ]
  },
  {
   "cell_type": "code",
   "execution_count": 6,
   "metadata": {
    "scrolled": true
   },
   "outputs": [
    {
     "data": {
      "text/plain": [
       "currency\n",
       "EUR    4988\n",
       "RON       6\n",
       "Name: currency, dtype: int64"
      ]
     },
     "execution_count": 6,
     "metadata": {},
     "output_type": "execute_result"
    }
   ],
   "source": [
    "df.groupby('currency')['currency'].count()"
   ]
  },
  {
   "cell_type": "code",
   "execution_count": 7,
   "metadata": {},
   "outputs": [
    {
     "data": {
      "text/plain": [
       "floor\n",
       "Decomandat             2\n",
       "Demisol                5\n",
       "Demisol/1             12\n",
       "Demisol/2              8\n",
       "Demisol/3              4\n",
       "                      ..\n",
       "Parter/7              15\n",
       "Parter/8              37\n",
       "Parter/9               4\n",
       "Semidecomandat         5\n",
       "Ultimele 2 etaje/4     2\n",
       "Name: floor, Length: 110, dtype: int64"
      ]
     },
     "execution_count": 7,
     "metadata": {},
     "output_type": "execute_result"
    }
   ],
   "source": [
    "df.groupby('floor')['floor'].count()"
   ]
  },
  {
   "cell_type": "code",
   "execution_count": 8,
   "metadata": {},
   "outputs": [
    {
     "data": {
      "text/plain": [
       "neighborhood\n",
       "Cluj-Napoca, zona Aeroport                 4\n",
       "Cluj-Napoca, zona Andrei Muresanu          2\n",
       "Cluj-Napoca, zona Andrei Mureşanu        117\n",
       "Cluj-Napoca, zona Aurel Vlaicu             7\n",
       "Cluj-Napoca, zona Baciu                    3\n",
       "Cluj-Napoca, zona Borhanci                44\n",
       "Cluj-Napoca, zona Bulgaria                10\n",
       "Cluj-Napoca, zona Buna Ziua               17\n",
       "Cluj-Napoca, zona Bună Ziua              233\n",
       "Cluj-Napoca, zona Calea Turzii            33\n",
       "Cluj-Napoca, zona Central                769\n",
       "Cluj-Napoca, zona Cordos                   1\n",
       "Cluj-Napoca, zona Câmpului                 6\n",
       "Cluj-Napoca, zona Dambul Rotund            1\n",
       "Cluj-Napoca, zona Dâmbul Rotund           20\n",
       "Cluj-Napoca, zona Europa                 105\n",
       "Cluj-Napoca, zona Exterior Vest            1\n",
       "Cluj-Napoca, zona Gara                     3\n",
       "Cluj-Napoca, zona Gară                    24\n",
       "Cluj-Napoca, zona Gheorgheni             856\n",
       "Cluj-Napoca, zona Grigorescu             184\n",
       "Cluj-Napoca, zona Gruia                   25\n",
       "Cluj-Napoca, zona Haşdeu                  14\n",
       "Cluj-Napoca, zona Horea                   17\n",
       "Cluj-Napoca, zona Intre Lacuri             7\n",
       "Cluj-Napoca, zona Iris                    56\n",
       "Cluj-Napoca, zona Manastur                11\n",
       "Cluj-Napoca, zona Marasti                 28\n",
       "Cluj-Napoca, zona Mănăştur               542\n",
       "Cluj-Napoca, zona Mărăşti                680\n",
       "Cluj-Napoca, zona P-ta Mihai Viteazul      3\n",
       "Cluj-Napoca, zona P-ţa Mihai Viteazul     53\n",
       "Cluj-Napoca, zona Plopilor               107\n",
       "Cluj-Napoca, zona Semicentral            161\n",
       "Cluj-Napoca, zona Someşeni                15\n",
       "Cluj-Napoca, zona Sopor                   24\n",
       "Cluj-Napoca, zona Ultracentral            89\n",
       "Cluj-Napoca, zona Zorilor                581\n",
       "Cluj-Napoca, zona Între Lacuri           144\n",
       "Name: neighborhood, dtype: int64"
      ]
     },
     "execution_count": 8,
     "metadata": {},
     "output_type": "execute_result"
    }
   ],
   "source": [
    "df.groupby('neighborhood')['neighborhood'].count()"
   ]
  },
  {
   "cell_type": "code",
   "execution_count": 9,
   "metadata": {},
   "outputs": [
    {
     "data": {
      "text/html": [
       "<div>\n",
       "<style scoped>\n",
       "    .dataframe tbody tr th:only-of-type {\n",
       "        vertical-align: middle;\n",
       "    }\n",
       "\n",
       "    .dataframe tbody tr th {\n",
       "        vertical-align: top;\n",
       "    }\n",
       "\n",
       "    .dataframe thead th {\n",
       "        text-align: right;\n",
       "    }\n",
       "</style>\n",
       "<table border=\"1\" class=\"dataframe\">\n",
       "  <thead>\n",
       "    <tr style=\"text-align: right;\">\n",
       "      <th></th>\n",
       "      <th>currency</th>\n",
       "      <th>floor</th>\n",
       "      <th>neighborhood</th>\n",
       "      <th>new_building</th>\n",
       "      <th>partitioning</th>\n",
       "      <th>price</th>\n",
       "      <th>rooms</th>\n",
       "      <th>space</th>\n",
       "    </tr>\n",
       "  </thead>\n",
       "  <tbody>\n",
       "    <tr>\n",
       "      <th>0</th>\n",
       "      <td>EUR</td>\n",
       "      <td>Etaj 5/7</td>\n",
       "      <td>Central</td>\n",
       "      <td>NaN</td>\n",
       "      <td>Semidecomandat</td>\n",
       "      <td>435.0</td>\n",
       "      <td>2 camere</td>\n",
       "      <td>58.5 mp utili</td>\n",
       "    </tr>\n",
       "    <tr>\n",
       "      <th>1</th>\n",
       "      <td>EUR</td>\n",
       "      <td>Etaj 8/10</td>\n",
       "      <td>Mănăştur</td>\n",
       "      <td>NaN</td>\n",
       "      <td>Semidecomandat</td>\n",
       "      <td>280.0</td>\n",
       "      <td>2 camere</td>\n",
       "      <td>52 mp utili</td>\n",
       "    </tr>\n",
       "    <tr>\n",
       "      <th>2</th>\n",
       "      <td>EUR</td>\n",
       "      <td>Parter/4</td>\n",
       "      <td>Gheorgheni</td>\n",
       "      <td>NaN</td>\n",
       "      <td>Semidecomandat</td>\n",
       "      <td>400.0</td>\n",
       "      <td>3 camere</td>\n",
       "      <td>65 mp utili</td>\n",
       "    </tr>\n",
       "    <tr>\n",
       "      <th>3</th>\n",
       "      <td>EUR</td>\n",
       "      <td>Parter/4</td>\n",
       "      <td>Bună Ziua</td>\n",
       "      <td>NaN</td>\n",
       "      <td>Semidecomandat</td>\n",
       "      <td>700.0</td>\n",
       "      <td>3 camere</td>\n",
       "      <td>100 mp utili</td>\n",
       "    </tr>\n",
       "    <tr>\n",
       "      <th>4</th>\n",
       "      <td>EUR</td>\n",
       "      <td>Parter/4</td>\n",
       "      <td>Gheorgheni</td>\n",
       "      <td>NaN</td>\n",
       "      <td>Decomandat</td>\n",
       "      <td>350.0</td>\n",
       "      <td>o cameră</td>\n",
       "      <td>32 mp utili</td>\n",
       "    </tr>\n",
       "  </tbody>\n",
       "</table>\n",
       "</div>"
      ],
      "text/plain": [
       "  currency      floor neighborhood new_building    partitioning  price  \\\n",
       "0      EUR   Etaj 5/7      Central          NaN  Semidecomandat  435.0   \n",
       "1      EUR  Etaj 8/10     Mănăştur          NaN  Semidecomandat  280.0   \n",
       "2      EUR   Parter/4   Gheorgheni          NaN  Semidecomandat  400.0   \n",
       "3      EUR   Parter/4    Bună Ziua          NaN  Semidecomandat  700.0   \n",
       "4      EUR   Parter/4   Gheorgheni          NaN      Decomandat  350.0   \n",
       "\n",
       "      rooms          space  \n",
       "0  2 camere  58.5 mp utili  \n",
       "1  2 camere    52 mp utili  \n",
       "2  3 camere    65 mp utili  \n",
       "3  3 camere   100 mp utili  \n",
       "4  o cameră    32 mp utili  "
      ]
     },
     "execution_count": 9,
     "metadata": {},
     "output_type": "execute_result"
    }
   ],
   "source": [
    "df['neighborhood'] = df['neighborhood'].str[18:]\n",
    "df.head()"
   ]
  },
  {
   "cell_type": "code",
   "execution_count": 10,
   "metadata": {},
   "outputs": [
    {
     "data": {
      "text/plain": [
       "neighborhood\n",
       "Aeroport                 4\n",
       "Andrei Muresanu          2\n",
       "Andrei Mureşanu        117\n",
       "Aurel Vlaicu             7\n",
       "Baciu                    3\n",
       "Borhanci                44\n",
       "Bulgaria                10\n",
       "Buna Ziua               17\n",
       "Bună Ziua              233\n",
       "Calea Turzii            33\n",
       "Central                769\n",
       "Cordos                   1\n",
       "Câmpului                 6\n",
       "Dambul Rotund            1\n",
       "Dâmbul Rotund           20\n",
       "Europa                 105\n",
       "Exterior Vest            1\n",
       "Gara                     3\n",
       "Gară                    24\n",
       "Gheorgheni             856\n",
       "Grigorescu             184\n",
       "Gruia                   25\n",
       "Haşdeu                  14\n",
       "Horea                   17\n",
       "Intre Lacuri             7\n",
       "Iris                    56\n",
       "Manastur                11\n",
       "Marasti                 28\n",
       "Mănăştur               542\n",
       "Mărăşti                680\n",
       "P-ta Mihai Viteazul      3\n",
       "P-ţa Mihai Viteazul     53\n",
       "Plopilor               107\n",
       "Semicentral            161\n",
       "Someşeni                15\n",
       "Sopor                   24\n",
       "Ultracentral            89\n",
       "Zorilor                581\n",
       "Între Lacuri           144\n",
       "Name: neighborhood, dtype: int64"
      ]
     },
     "execution_count": 10,
     "metadata": {},
     "output_type": "execute_result"
    }
   ],
   "source": [
    "df.groupby('neighborhood')['neighborhood'].count()"
   ]
  }
 ],
 "metadata": {
  "kernelspec": {
   "display_name": "Python 3",
   "language": "python",
   "name": "python3"
  },
  "language_info": {
   "codemirror_mode": {
    "name": "ipython",
    "version": 3
   },
   "file_extension": ".py",
   "mimetype": "text/x-python",
   "name": "python",
   "nbconvert_exporter": "python",
   "pygments_lexer": "ipython3",
   "version": "3.8.3"
  }
 },
 "nbformat": 4,
 "nbformat_minor": 4
}
