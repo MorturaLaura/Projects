{
 "cells": [
  {
   "cell_type": "markdown",
   "metadata": {},
   "source": [
    "# Rent price prediction for apartments in Cluj Napoca\n",
    "First of all I need to import all the modules that I'm going to use and the dataset."
   ]
  },
  {
   "cell_type": "code",
   "execution_count": 1,
   "metadata": {},
   "outputs": [],
   "source": [
    "import pandas as pd\n",
    "import numpy as np\n",
    "from matplotlib import pyplot as plt\n",
    "%matplotlib inline"
   ]
  },
  {
   "cell_type": "code",
   "execution_count": 2,
   "metadata": {},
   "outputs": [
    {
     "data": {
      "text/html": [
       "<div>\n",
       "<style scoped>\n",
       "    .dataframe tbody tr th:only-of-type {\n",
       "        vertical-align: middle;\n",
       "    }\n",
       "\n",
       "    .dataframe tbody tr th {\n",
       "        vertical-align: top;\n",
       "    }\n",
       "\n",
       "    .dataframe thead th {\n",
       "        text-align: right;\n",
       "    }\n",
       "</style>\n",
       "<table border=\"1\" class=\"dataframe\">\n",
       "  <thead>\n",
       "    <tr style=\"text-align: right;\">\n",
       "      <th></th>\n",
       "      <th>currency</th>\n",
       "      <th>floor</th>\n",
       "      <th>neighborhood</th>\n",
       "      <th>new_building</th>\n",
       "      <th>partitioning</th>\n",
       "      <th>price</th>\n",
       "      <th>rooms</th>\n",
       "      <th>space</th>\n",
       "    </tr>\n",
       "  </thead>\n",
       "  <tbody>\n",
       "    <tr>\n",
       "      <th>0</th>\n",
       "      <td>EUR / lună</td>\n",
       "      <td>Etaj 5/7</td>\n",
       "      <td>Cluj-Napoca, zona Central</td>\n",
       "      <td>NaN</td>\n",
       "      <td>Semidecomandat</td>\n",
       "      <td>400.0</td>\n",
       "      <td>2 camere</td>\n",
       "      <td>58.5 mp utili</td>\n",
       "    </tr>\n",
       "    <tr>\n",
       "      <th>1</th>\n",
       "      <td>EUR / lună</td>\n",
       "      <td>Etaj 8/10</td>\n",
       "      <td>Cluj-Napoca, zona Mănăştur</td>\n",
       "      <td>NaN</td>\n",
       "      <td>Semidecomandat</td>\n",
       "      <td>280.0</td>\n",
       "      <td>2 camere</td>\n",
       "      <td>52 mp utili</td>\n",
       "    </tr>\n",
       "    <tr>\n",
       "      <th>2</th>\n",
       "      <td>EUR / lună</td>\n",
       "      <td>Etaj 3/3</td>\n",
       "      <td>Cluj-Napoca, zona Zorilor</td>\n",
       "      <td>Bloc nou</td>\n",
       "      <td>Semidecomandat</td>\n",
       "      <td>400.0</td>\n",
       "      <td>3 camere</td>\n",
       "      <td>84 mp utili</td>\n",
       "    </tr>\n",
       "    <tr>\n",
       "      <th>3</th>\n",
       "      <td>EUR / lună</td>\n",
       "      <td>Parter/4</td>\n",
       "      <td>Cluj-Napoca, zona Gheorgheni</td>\n",
       "      <td>NaN</td>\n",
       "      <td>Semidecomandat</td>\n",
       "      <td>400.0</td>\n",
       "      <td>3 camere</td>\n",
       "      <td>65 mp utili</td>\n",
       "    </tr>\n",
       "    <tr>\n",
       "      <th>4</th>\n",
       "      <td>EUR / lună</td>\n",
       "      <td>Etaj 1/2</td>\n",
       "      <td>Cluj-Napoca, zona Zorilor</td>\n",
       "      <td>Bloc nou</td>\n",
       "      <td>Decomandat</td>\n",
       "      <td>420.0</td>\n",
       "      <td>2 camere</td>\n",
       "      <td>55 mp utili</td>\n",
       "    </tr>\n",
       "  </tbody>\n",
       "</table>\n",
       "</div>"
      ],
      "text/plain": [
       "     currency      floor                  neighborhood new_building  \\\n",
       "0  EUR / lună   Etaj 5/7     Cluj-Napoca, zona Central          NaN   \n",
       "1  EUR / lună  Etaj 8/10    Cluj-Napoca, zona Mănăştur          NaN   \n",
       "2  EUR / lună   Etaj 3/3     Cluj-Napoca, zona Zorilor     Bloc nou   \n",
       "3  EUR / lună   Parter/4  Cluj-Napoca, zona Gheorgheni          NaN   \n",
       "4  EUR / lună   Etaj 1/2     Cluj-Napoca, zona Zorilor     Bloc nou   \n",
       "\n",
       "     partitioning  price     rooms          space  \n",
       "0  Semidecomandat  400.0  2 camere  58.5 mp utili  \n",
       "1  Semidecomandat  280.0  2 camere    52 mp utili  \n",
       "2  Semidecomandat  400.0  3 camere    84 mp utili  \n",
       "3  Semidecomandat  400.0  3 camere    65 mp utili  \n",
       "4      Decomandat  420.0  2 camere    55 mp utili  "
      ]
     },
     "execution_count": 2,
     "metadata": {},
     "output_type": "execute_result"
    }
   ],
   "source": [
    "df = pd.read_csv('scraping_env/webscrapy/webscrapy/rent_price_results.csv', thousands='.',decimal=',')\n",
    "df.head()"
   ]
  },
  {
   "cell_type": "code",
   "execution_count": 3,
   "metadata": {},
   "outputs": [
    {
     "data": {
      "text/plain": [
       "(5005, 8)"
      ]
     },
     "execution_count": 3,
     "metadata": {},
     "output_type": "execute_result"
    }
   ],
   "source": [
    "df.shape"
   ]
  },
  {
   "cell_type": "markdown",
   "metadata": {},
   "source": [
    "## 1. Data Cleaning\n",
    "\n",
    "In my first step I want to clean the data from my dataset. First of all I want to see all the null values in my dataset and decide how to manage them."
   ]
  },
  {
   "cell_type": "code",
   "execution_count": 4,
   "metadata": {
    "scrolled": true
   },
   "outputs": [
    {
     "data": {
      "text/plain": [
       "currency           2\n",
       "floor              1\n",
       "neighborhood       0\n",
       "new_building    3460\n",
       "partitioning      66\n",
       "price              2\n",
       "rooms              0\n",
       "space              0\n",
       "dtype: int64"
      ]
     },
     "execution_count": 4,
     "metadata": {},
     "output_type": "execute_result"
    }
   ],
   "source": [
    "df.isnull().sum()"
   ]
  },
  {
   "cell_type": "markdown",
   "metadata": {},
   "source": [
    "Because for 'floor', 'currency' and 'price' there are a few null values, respectively 1 and 2 and I suspect that those from the 'currency' and 'price' are at the same index, I will drop them.\n",
    "\n",
    "'New_building' has so many null values because on the site, from where I scraped the data and with the help of which I built my dataset, only the new buildings were tagged as 'new bulding' the other ones didn't have any labels. So I will consider them 'old buildings'.\n",
    "\n",
    "For 'partitioning' I don't see for now any reason why there are 65 null values, but in my further analysis I will try to figure out how to manage them."
   ]
  },
  {
   "cell_type": "code",
   "execution_count": 5,
   "metadata": {},
   "outputs": [],
   "source": [
    "df.dropna(subset=['floor', 'price'], inplace=True)"
   ]
  },
  {
   "cell_type": "code",
   "execution_count": 6,
   "metadata": {},
   "outputs": [
    {
     "data": {
      "text/plain": [
       "currency           0\n",
       "floor              0\n",
       "neighborhood       0\n",
       "new_building    3457\n",
       "partitioning      65\n",
       "price              0\n",
       "rooms              0\n",
       "space              0\n",
       "dtype: int64"
      ]
     },
     "execution_count": 6,
     "metadata": {},
     "output_type": "execute_result"
    }
   ],
   "source": [
    "df.isnull().sum()"
   ]
  },
  {
   "cell_type": "markdown",
   "metadata": {},
   "source": [
    "For 'currency' feature I want to see how may categories I have and how to clean it."
   ]
  },
  {
   "cell_type": "code",
   "execution_count": 7,
   "metadata": {
    "scrolled": true
   },
   "outputs": [
    {
     "data": {
      "text/plain": [
       "currency\n",
       "EUR + TVA / lună      48\n",
       "EUR / lună          4946\n",
       "RON / lună             8\n",
       "Name: currency, dtype: int64"
      ]
     },
     "execution_count": 7,
     "metadata": {},
     "output_type": "execute_result"
    }
   ],
   "source": [
    "df.groupby('currency')['currency'].count()"
   ]
  },
  {
   "cell_type": "markdown",
   "metadata": {},
   "source": [
    "We can see that I have two categories that both refer to the curreny euro and one for ron. In this case I want to make two categories for this feature one for euro and one for ron. When I scraped the data I wanted to extract this feature because I know that there is a posability that some rent prices are listed in ron so when I do the analysis and built the model, if I don't trasnform the prices to be at the same currency then my data will be distorted. "
   ]
  },
  {
   "cell_type": "code",
   "execution_count": 8,
   "metadata": {},
   "outputs": [],
   "source": [
    "df['currency'] = df['currency'].apply(lambda x: str(x.split(' ')[0]))"
   ]
  },
  {
   "cell_type": "code",
   "execution_count": 9,
   "metadata": {
    "scrolled": false
   },
   "outputs": [
    {
     "data": {
      "text/plain": [
       "currency\n",
       "EUR    4994\n",
       "RON       8\n",
       "Name: currency, dtype: int64"
      ]
     },
     "execution_count": 9,
     "metadata": {},
     "output_type": "execute_result"
    }
   ],
   "source": [
    "df.groupby('currency')['currency'].count()"
   ]
  },
  {
   "cell_type": "markdown",
   "metadata": {},
   "source": [
    "A problem that I noticed in my dataset was that in some rows my values were swaped between columns so I want to fix this issue. That's way my next step is to clean the feature 'partitioning' and first I want to see all the categories it has."
   ]
  },
  {
   "cell_type": "code",
   "execution_count": 10,
   "metadata": {
    "scrolled": false
   },
   "outputs": [
    {
     "data": {
      "text/plain": [
       "partitioning\n",
       "Bloc nou            15\n",
       "Circular             9\n",
       "Decomandat        2346\n",
       "Imobil nou           1\n",
       "Nedecomandat        50\n",
       "Semidecomandat    2508\n",
       "Vagon                8\n",
       "Name: partitioning, dtype: int64"
      ]
     },
     "execution_count": 10,
     "metadata": {},
     "output_type": "execute_result"
    }
   ],
   "source": [
    "df.groupby('partitioning')['partitioning'].count()"
   ]
  },
  {
   "cell_type": "markdown",
   "metadata": {},
   "source": [
    "We can see that in the categories in 'partitioning' we also have 'Bloc nou' and 'Imobil nou'. I want to see the rows where these categories are to see if there are swapt rows betweeen this freature and other ones."
   ]
  },
  {
   "cell_type": "code",
   "execution_count": 11,
   "metadata": {
    "scrolled": true
   },
   "outputs": [
    {
     "data": {
      "text/plain": [
       "[263,\n",
       " 706,\n",
       " 878,\n",
       " 917,\n",
       " 1793,\n",
       " 2061,\n",
       " 2220,\n",
       " 2475,\n",
       " 2689,\n",
       " 3674,\n",
       " 3827,\n",
       " 4238,\n",
       " 4340,\n",
       " 4750,\n",
       " 4903]"
      ]
     },
     "execution_count": 11,
     "metadata": {},
     "output_type": "execute_result"
    }
   ],
   "source": [
    "df['partitioning'][df['partitioning'] == 'Bloc nou'].index.tolist()"
   ]
  },
  {
   "cell_type": "code",
   "execution_count": 12,
   "metadata": {},
   "outputs": [
    {
     "name": "stdout",
     "output_type": "stream",
     "text": [
      "    currency     floor                  neighborhood new_building  \\\n",
      "263      EUR  Etaj 3/6      Cluj-Napoca, zona Europa          NaN   \n",
      "706      EUR  Etaj 5/8  Cluj-Napoca, zona Gheorgheni          NaN   \n",
      "878      EUR  Etaj 1/4   Cluj-Napoca, zona Buna Ziua          NaN   \n",
      "917      EUR    Etaj 4   Cluj-Napoca, zona Bună Ziua          NaN   \n",
      "\n",
      "    partitioning  price     rooms        space  \n",
      "263     Bloc nou  700.0  2 camere  56 mp utili  \n",
      "706     Bloc nou  465.0  2 camere  72 mp utili  \n",
      "878     Bloc nou  600.0  3 camere  76 mp utili  \n",
      "917     Bloc nou  900.0  3 camere  80 mp utili  \n"
     ]
    }
   ],
   "source": [
    "print(df.loc[[263, 706, 878, 917]])"
   ]
  },
  {
   "cell_type": "markdown",
   "metadata": {},
   "source": [
    "We can see that I have null values in my new_building column and in my partitioning column I have the new building category 'Bloc nou'. So in this case I think the best approach is to swap at this indexes the values between the two columns. I will do the same thing for the row where in 'partitioning' feature there is the new building category 'Imobil nou'. For resolving this problem I will make a function."
   ]
  },
  {
   "cell_type": "code",
   "execution_count": 13,
   "metadata": {},
   "outputs": [],
   "source": [
    "def switch_rows_partitioning(df, variable, element):\n",
    "    for content in df[variable]:\n",
    "        if element == content:\n",
    "            df[[variable,'new_building']] = df[['new_building',variable]].where(df[variable] == element, df[[variable,'new_building']].values)"
   ]
  },
  {
   "cell_type": "code",
   "execution_count": 14,
   "metadata": {},
   "outputs": [],
   "source": [
    "switch_rows_partitioning(df,'partitioning','Bloc nou')\n",
    "switch_rows_partitioning(df,'partitioning','Imobil nou')"
   ]
  },
  {
   "cell_type": "code",
   "execution_count": 15,
   "metadata": {},
   "outputs": [
    {
     "data": {
      "text/plain": [
       "partitioning\n",
       "Circular             9\n",
       "Decomandat        2346\n",
       "Nedecomandat        50\n",
       "Semidecomandat    2508\n",
       "Vagon                8\n",
       "Name: partitioning, dtype: int64"
      ]
     },
     "execution_count": 15,
     "metadata": {},
     "output_type": "execute_result"
    }
   ],
   "source": [
    "df.groupby('partitioning')['partitioning'].count()"
   ]
  },
  {
   "cell_type": "markdown",
   "metadata": {},
   "source": [
    "Next I want to see all the categories from the 'floor' feature."
   ]
  },
  {
   "cell_type": "code",
   "execution_count": 16,
   "metadata": {
    "scrolled": true
   },
   "outputs": [
    {
     "data": {
      "text/plain": [
       "floor\n",
       "Decomandat      2\n",
       "Demisol         5\n",
       "Demisol/1      10\n",
       "Demisol/2       8\n",
       "Demisol/3       3\n",
       "Demisol/4       5\n",
       "Demisol/5       2\n",
       "Etaj 1         66\n",
       "Etaj 1/1      122\n",
       "Etaj 1/10      62\n",
       "Etaj 1/11      10\n",
       "Etaj 1/2      127\n",
       "Etaj 1/20       1\n",
       "Etaj 1/3      151\n",
       "Etaj 1/4      342\n",
       "Etaj 1/5       55\n",
       "Etaj 1/6       63\n",
       "Etaj 1/7       23\n",
       "Etaj 1/8       70\n",
       "Etaj 1/9       10\n",
       "Etaj 10         4\n",
       "Etaj 10/10     49\n",
       "Etaj 10/11     21\n",
       "Etaj 10/12      1\n",
       "Etaj 11/11      3\n",
       "Etaj 11/12      3\n",
       "Etaj 12/12      1\n",
       "Etaj 2         60\n",
       "Etaj 2/10      55\n",
       "Etaj 2/11      11\n",
       "Etaj 2/2      133\n",
       "Etaj 2/3      136\n",
       "Etaj 2/4      327\n",
       "Etaj 2/5       37\n",
       "Etaj 2/6       44\n",
       "Etaj 2/7       23\n",
       "Etaj 2/8       54\n",
       "Etaj 2/9        9\n",
       "Etaj 3         44\n",
       "Etaj 3/10      54\n",
       "Etaj 3/11      19\n",
       "Etaj 3/12       1\n",
       "Etaj 3/3       76\n",
       "Etaj 3/4      335\n",
       "Etaj 3/5       73\n",
       "Etaj 3/6       61\n",
       "Etaj 3/7       24\n",
       "Etaj 3/8       55\n",
       "Etaj 3/9        7\n",
       "Etaj 4         24\n",
       "Etaj 4/10      50\n",
       "Etaj 4/11       3\n",
       "Etaj 4/12       1\n",
       "Etaj 4/4      237\n",
       "Etaj 4/5       47\n",
       "Etaj 4/6       51\n",
       "Etaj 4/7       12\n",
       "Etaj 4/8       38\n",
       "Etaj 4/9        7\n",
       "Name: floor, dtype: int64"
      ]
     },
     "execution_count": 16,
     "metadata": {},
     "output_type": "execute_result"
    }
   ],
   "source": [
    "df.groupby('floor')['floor'].count().head(-50)"
   ]
  },
  {
   "cell_type": "markdown",
   "metadata": {},
   "source": [
    "We can see that, first of all, I have a category 'Decomandat' that is specific to the feature 'partitioning'. In this case I want to see if at the indexes of this category the rows are swaped between the columns."
   ]
  },
  {
   "cell_type": "code",
   "execution_count": 17,
   "metadata": {},
   "outputs": [
    {
     "data": {
      "text/plain": [
       "[212, 4903]"
      ]
     },
     "execution_count": 17,
     "metadata": {},
     "output_type": "execute_result"
    }
   ],
   "source": [
    "df['floor'][df['floor'] == 'Decomandat'].index.tolist()"
   ]
  },
  {
   "cell_type": "code",
   "execution_count": 18,
   "metadata": {},
   "outputs": [
    {
     "name": "stdout",
     "output_type": "stream",
     "text": [
      "     currency       floor                  neighborhood new_building  \\\n",
      "212       EUR  Decomandat  Cluj-Napoca, zona Gheorgheni          NaN   \n",
      "4903      EUR  Decomandat    Cluj-Napoca, zona Bulgaria     Bloc nou   \n",
      "\n",
      "     partitioning  price        rooms     space  \n",
      "212           NaN  400.0     3 camere  Etaj 1/4  \n",
      "4903          NaN  499.0  75 mp utili  Etaj 3/4  \n"
     ]
    }
   ],
   "source": [
    "print(df.loc[[212, 4903]])"
   ]
  },
  {
   "cell_type": "markdown",
   "metadata": {},
   "source": [
    "We can see that in this case we also have swaped values, the values for 'floor' are at 'space' and the values for partitioning are at floor. So we need to swap these elements and I will consider the null values from partitioning to be from the feature 'space'. For resolving this issue I will implement a function and I will verify if the function was implemented as expected."
   ]
  },
  {
   "cell_type": "code",
   "execution_count": 19,
   "metadata": {},
   "outputs": [],
   "source": [
    "def switch_rows_floor(df, variable, element):\n",
    "    for content in df[variable]:\n",
    "        if element in content:\n",
    "            df[[variable,'space']] = df[['space',variable]].where(df[variable] == element, df[[variable,'space']].values)\n",
    "            df[['space','partitioning']] = df[['partitioning','space']].where(df['space'] == element, df[['space','partitioning']].values)"
   ]
  },
  {
   "cell_type": "code",
   "execution_count": 20,
   "metadata": {
    "scrolled": true
   },
   "outputs": [],
   "source": [
    "switch_rows_floor(df,'floor','Decomandat')"
   ]
  },
  {
   "cell_type": "code",
   "execution_count": 21,
   "metadata": {},
   "outputs": [
    {
     "name": "stdout",
     "output_type": "stream",
     "text": [
      "     currency     floor                  neighborhood new_building  \\\n",
      "212       EUR  Etaj 1/4  Cluj-Napoca, zona Gheorgheni          NaN   \n",
      "4903      EUR  Etaj 3/4    Cluj-Napoca, zona Bulgaria     Bloc nou   \n",
      "\n",
      "     partitioning  price        rooms space  \n",
      "212    Decomandat  400.0     3 camere   NaN  \n",
      "4903   Decomandat  499.0  75 mp utili   NaN  \n"
     ]
    }
   ],
   "source": [
    "print(df.loc[[212, 4903]])"
   ]
  },
  {
   "cell_type": "markdown",
   "metadata": {},
   "source": [
    "I managed to solve the issues above. Now I want to evaluate again the categories from 'floor' feature to see if I can find further issues."
   ]
  },
  {
   "cell_type": "code",
   "execution_count": 22,
   "metadata": {},
   "outputs": [
    {
     "data": {
      "text/plain": [
       "floor\n",
       "Demisol            5\n",
       "Demisol/1         10\n",
       "Demisol/2          8\n",
       "Demisol/3          3\n",
       "Demisol/4          5\n",
       "                  ..\n",
       "Parter/6          20\n",
       "Parter/7          16\n",
       "Parter/8          44\n",
       "Parter/9           4\n",
       "Semidecomandat     4\n",
       "Name: floor, Length: 107, dtype: int64"
      ]
     },
     "execution_count": 22,
     "metadata": {},
     "output_type": "execute_result"
    }
   ],
   "source": [
    "df.groupby('floor')['floor'].count().head(-1)"
   ]
  },
  {
   "cell_type": "markdown",
   "metadata": {},
   "source": [
    "We ca see that there are 4 rows with the category 'Semidecomandat' which is specific to the 'partitioning' feature. In this case I will do the same process as above. I will verify those rows and if their data is swaped I will implement the same function and verify if the changes were made properly. "
   ]
  },
  {
   "cell_type": "code",
   "execution_count": 23,
   "metadata": {
    "scrolled": true
   },
   "outputs": [
    {
     "data": {
      "text/plain": [
       "[1468, 2689, 3827, 4340]"
      ]
     },
     "execution_count": 23,
     "metadata": {},
     "output_type": "execute_result"
    }
   ],
   "source": [
    "df['floor'][df['floor'] == 'Semidecomandat'].index.tolist()"
   ]
  },
  {
   "cell_type": "code",
   "execution_count": 24,
   "metadata": {},
   "outputs": [
    {
     "name": "stdout",
     "output_type": "stream",
     "text": [
      "     currency           floor                  neighborhood new_building  \\\n",
      "1468      EUR  Semidecomandat   Cluj-Napoca, zona Bună Ziua          NaN   \n",
      "2689      EUR  Semidecomandat  Cluj-Napoca, zona Gheorgheni     Bloc nou   \n",
      "3827      EUR  Semidecomandat    Cluj-Napoca, zona Mănăştur     Bloc nou   \n",
      "4340      EUR  Semidecomandat     Cluj-Napoca, zona Zorilor     Bloc nou   \n",
      "\n",
      "     partitioning  price     rooms       space  \n",
      "1468          NaN  250.0  2 camere      Etaj 3  \n",
      "2689          NaN  350.0  2 camere    Etaj 1/4  \n",
      "3827          NaN  299.0  2 camere  Mansarda/4  \n",
      "4340          NaN  300.0  2 camere    Etaj 1/4  \n"
     ]
    }
   ],
   "source": [
    "print(df.loc[[1468, 2689, 3827, 4340]])"
   ]
  },
  {
   "cell_type": "code",
   "execution_count": 25,
   "metadata": {},
   "outputs": [],
   "source": [
    "switch_rows_floor(df,'floor','Semidecomandat')"
   ]
  },
  {
   "cell_type": "code",
   "execution_count": 26,
   "metadata": {
    "scrolled": false
   },
   "outputs": [
    {
     "name": "stdout",
     "output_type": "stream",
     "text": [
      "     currency       floor                  neighborhood new_building  \\\n",
      "1468      EUR      Etaj 3   Cluj-Napoca, zona Bună Ziua          NaN   \n",
      "2689      EUR    Etaj 1/4  Cluj-Napoca, zona Gheorgheni     Bloc nou   \n",
      "3827      EUR  Mansarda/4    Cluj-Napoca, zona Mănăştur     Bloc nou   \n",
      "4340      EUR    Etaj 1/4     Cluj-Napoca, zona Zorilor     Bloc nou   \n",
      "\n",
      "        partitioning  price     rooms space  \n",
      "1468  Semidecomandat  250.0  2 camere   NaN  \n",
      "2689  Semidecomandat  350.0  2 camere   NaN  \n",
      "3827  Semidecomandat  299.0  2 camere   NaN  \n",
      "4340  Semidecomandat  300.0  2 camere   NaN  \n"
     ]
    }
   ],
   "source": [
    "print(df.loc[[1468, 2689, 3827, 4340]])"
   ]
  },
  {
   "cell_type": "code",
   "execution_count": 27,
   "metadata": {},
   "outputs": [
    {
     "data": {
      "text/plain": [
       "floor\n",
       "Demisol        5\n",
       "Demisol/1     10\n",
       "Demisol/2      8\n",
       "Demisol/3      3\n",
       "Demisol/4      5\n",
       "Demisol/5      2\n",
       "Etaj 1        66\n",
       "Etaj 1/1     122\n",
       "Etaj 1/10     62\n",
       "Etaj 1/11     10\n",
       "Name: floor, dtype: int64"
      ]
     },
     "execution_count": 27,
     "metadata": {},
     "output_type": "execute_result"
    }
   ],
   "source": [
    "df.groupby('floor')['floor'].count().head(10)"
   ]
  },
  {
   "cell_type": "markdown",
   "metadata": {},
   "source": [
    "As we see above there are many categories in this column. My main aim here is to transform the categories to represent only the number of the floor the apartment is. For 'Demisol' I want to switch it with '0', that is the floor below first floor and for each floor the category to be represented only by the number of that specific floor."
   ]
  },
  {
   "cell_type": "code",
   "execution_count": 28,
   "metadata": {},
   "outputs": [],
   "source": [
    "df.loc[df['floor'].str.contains('Demisol'), 'floor'] = '0'"
   ]
  },
  {
   "cell_type": "code",
   "execution_count": 29,
   "metadata": {},
   "outputs": [],
   "source": [
    "df.loc[df['floor'].str.contains('Etaj'), 'floor'] = df['floor'].str[5:]"
   ]
  },
  {
   "cell_type": "code",
   "execution_count": 30,
   "metadata": {
    "scrolled": true
   },
   "outputs": [
    {
     "data": {
      "text/plain": [
       "floor\n",
       "0              33\n",
       "1              66\n",
       "1/1           122\n",
       "1/10           62\n",
       "1/11           10\n",
       "             ... \n",
       "Mansarda/4     10\n",
       "Mansarda/5      4\n",
       "Mansarda/7      1\n",
       "Parter        116\n",
       "Parter/1      122\n",
       "Name: floor, Length: 92, dtype: int64"
      ]
     },
     "execution_count": 30,
     "metadata": {},
     "output_type": "execute_result"
    }
   ],
   "source": [
    "df.groupby('floor')['floor'].count().head(-10)"
   ]
  },
  {
   "cell_type": "markdown",
   "metadata": {},
   "source": [
    "We can see that above I also have 'Mansarda' which is the top floor of a building and I will consider it as 100, I want it to have a higher number so that I now its the top floor. In Romania we don't have apartment building high as 100 floors so this abroach will be safe. I also have 'Parter' which is the first floor and I will associate it with '1'. "
   ]
  },
  {
   "cell_type": "code",
   "execution_count": 31,
   "metadata": {},
   "outputs": [],
   "source": [
    "df.loc[df['floor'].str.contains('Mansarda'), 'floor'] = '100'"
   ]
  },
  {
   "cell_type": "code",
   "execution_count": 32,
   "metadata": {},
   "outputs": [],
   "source": [
    "df.loc[df['floor'].str.contains('Parter'), 'floor'] = '1'"
   ]
  },
  {
   "cell_type": "code",
   "execution_count": 33,
   "metadata": {},
   "outputs": [
    {
     "data": {
      "text/plain": [
       "1                     928\n",
       "1/4                   345\n",
       "3/4                   336\n",
       "2/4                   327\n",
       "4/4                   237\n",
       "                     ... \n",
       "Ultimele 2 etaje/4      2\n",
       "12/12                   1\n",
       "4/12                    1\n",
       "3/12                    1\n",
       "1/20                    1\n",
       "Name: floor, Length: 84, dtype: int64"
      ]
     },
     "execution_count": 33,
     "metadata": {},
     "output_type": "execute_result"
    }
   ],
   "source": [
    "df['floor'].value_counts().head(-1)"
   ]
  },
  {
   "cell_type": "markdown",
   "metadata": {},
   "source": [
    "Now I want to pick up the value of the floor choosing the number until the character '/'. I also have the category 'Ultimele 2 etaje/4 ' and I will consider it as second floor."
   ]
  },
  {
   "cell_type": "code",
   "execution_count": 34,
   "metadata": {},
   "outputs": [],
   "source": [
    "df.loc[df['floor'].str.contains('Ultimele 2 etaje/4'), 'floor'] = '2'"
   ]
  },
  {
   "cell_type": "code",
   "execution_count": 35,
   "metadata": {},
   "outputs": [],
   "source": [
    "df.loc[df['floor'].str.contains('/'), 'floor'] = df['floor'].str.split('/').str[0]"
   ]
  },
  {
   "cell_type": "code",
   "execution_count": 36,
   "metadata": {},
   "outputs": [
    {
     "data": {
      "text/plain": [
       "floor\n",
       "0        33\n",
       "1      1967\n",
       "10       75\n",
       "100      54\n",
       "11        6\n",
       "12        1\n",
       "2       891\n",
       "3       751\n",
       "4       470\n",
       "5       228\n",
       "6       150\n",
       "7       158\n",
       "8       118\n",
       "9       100\n",
       "Name: floor, dtype: int64"
      ]
     },
     "execution_count": 36,
     "metadata": {},
     "output_type": "execute_result"
    }
   ],
   "source": [
    "df.groupby('floor')['floor'].count()"
   ]
  },
  {
   "cell_type": "markdown",
   "metadata": {},
   "source": [
    "My next step is to clean up the data from the feature 'neighborhood'. I will start with verifying the different categories of this feature.  "
   ]
  },
  {
   "cell_type": "code",
   "execution_count": 37,
   "metadata": {
    "scrolled": true
   },
   "outputs": [
    {
     "data": {
      "text/plain": [
       "neighborhood\n",
       "Cluj-Napoca, zona Aeroport                 4\n",
       "Cluj-Napoca, zona Andrei Muresanu          4\n",
       "Cluj-Napoca, zona Andrei Mureşanu        121\n",
       "Cluj-Napoca, zona Aurel Vlaicu             7\n",
       "Cluj-Napoca, zona Baciu                    2\n",
       "Cluj-Napoca, zona Borhanci                47\n",
       "Cluj-Napoca, zona Bulgaria                10\n",
       "Cluj-Napoca, zona Buna Ziua               11\n",
       "Cluj-Napoca, zona Bună Ziua              244\n",
       "Cluj-Napoca, zona Calea Turzii            36\n",
       "Cluj-Napoca, zona Central                765\n",
       "Cluj-Napoca, zona Cordos                   1\n",
       "Cluj-Napoca, zona Câmpului                 6\n",
       "Cluj-Napoca, zona Dâmbul Rotund           17\n",
       "Cluj-Napoca, zona Europa                 109\n",
       "Cluj-Napoca, zona Exterior Vest            1\n",
       "Cluj-Napoca, zona Gară                    26\n",
       "Cluj-Napoca, zona Gheorgheni             855\n",
       "Cluj-Napoca, zona Grigorescu             185\n",
       "Cluj-Napoca, zona Gruia                   27\n",
       "Cluj-Napoca, zona Haşdeu                  14\n",
       "Cluj-Napoca, zona Horea                   19\n",
       "Cluj-Napoca, zona Intre Lacuri             6\n",
       "Cluj-Napoca, zona Iris                    56\n",
       "Cluj-Napoca, zona Manastur                24\n",
       "Cluj-Napoca, zona Marasti                 48\n",
       "Cluj-Napoca, zona Mănăştur               522\n",
       "Cluj-Napoca, zona Mărăşti                672\n",
       "Cluj-Napoca, zona P-ta Mihai Viteazul      1\n",
       "Cluj-Napoca, zona P-ţa Mihai Viteazul     52\n",
       "Cluj-Napoca, zona Plopilor               107\n",
       "Cluj-Napoca, zona Semicentral            159\n",
       "Cluj-Napoca, zona Someşeni                15\n",
       "Cluj-Napoca, zona Sopor                   26\n",
       "Cluj-Napoca, zona Ultracentral            95\n",
       "Cluj-Napoca, zona Zorilor                559\n",
       "Cluj-Napoca, zona Între Lacuri           149\n",
       "Name: neighborhood, dtype: int64"
      ]
     },
     "execution_count": 37,
     "metadata": {},
     "output_type": "execute_result"
    }
   ],
   "source": [
    "df.groupby('neighborhood')['neighborhood'].count()"
   ]
  },
  {
   "cell_type": "markdown",
   "metadata": {},
   "source": [
    "We can see that all the categories begin with 'Cluj-Napoca, zona ' and I can drop it. Other aspect that I observe is that some neighborhoods have duplicates and that is because their duplicates contain diacritics used in romanian language. Because of this I want to replace them with the name without those diacritics."
   ]
  },
  {
   "cell_type": "code",
   "execution_count": 38,
   "metadata": {},
   "outputs": [],
   "source": [
    "df['neighborhood'] = df['neighborhood'].str[18:]"
   ]
  },
  {
   "cell_type": "code",
   "execution_count": 39,
   "metadata": {},
   "outputs": [],
   "source": [
    "df['neighborhood'].replace(to_replace=['Andrei Mureşanu', 'Bună Ziua', 'Câmpului', 'Dâmbul Rotund', 'Gară', 'Haşdeu', 'Între Lacuri', 'Mărăşti', 'Mănăştur', 'P-ţa Mihai Viteazul', 'Someşeni'],\n",
    "           value= ['Andrei Muresanu', 'Buna Ziua', 'Campului', 'Dambul Rotund','Gara', 'Hasdeu', 'Intre Lacuri', 'Marasti', 'Manastur', 'P-ta Mihai Viteazul', 'Someseni'], \n",
    "           inplace=True)"
   ]
  },
  {
   "cell_type": "code",
   "execution_count": 40,
   "metadata": {
    "scrolled": true
   },
   "outputs": [
    {
     "data": {
      "text/plain": [
       "neighborhood\n",
       "Aeroport                 4\n",
       "Andrei Muresanu        125\n",
       "Aurel Vlaicu             7\n",
       "Baciu                    2\n",
       "Borhanci                47\n",
       "Bulgaria                10\n",
       "Buna Ziua              255\n",
       "Calea Turzii            36\n",
       "Campului                 6\n",
       "Central                765\n",
       "Cordos                   1\n",
       "Dambul Rotund           17\n",
       "Europa                 109\n",
       "Exterior Vest            1\n",
       "Gara                    26\n",
       "Gheorgheni             855\n",
       "Grigorescu             185\n",
       "Gruia                   27\n",
       "Hasdeu                  14\n",
       "Horea                   19\n",
       "Intre Lacuri           155\n",
       "Iris                    56\n",
       "Manastur               546\n",
       "Marasti                720\n",
       "P-ta Mihai Viteazul     53\n",
       "Plopilor               107\n",
       "Semicentral            159\n",
       "Someseni                15\n",
       "Sopor                   26\n",
       "Ultracentral            95\n",
       "Zorilor                559\n",
       "Name: neighborhood, dtype: int64"
      ]
     },
     "execution_count": 40,
     "metadata": {},
     "output_type": "execute_result"
    }
   ],
   "source": [
    "df.groupby('neighborhood')['neighborhood'].count()"
   ]
  },
  {
   "cell_type": "markdown",
   "metadata": {},
   "source": [
    "Next step I want to evalute the feature 'new_buiding' and I want to start with seeing it's categories."
   ]
  },
  {
   "cell_type": "code",
   "execution_count": 41,
   "metadata": {
    "scrolled": true
   },
   "outputs": [
    {
     "data": {
      "text/plain": [
       "new_building\n",
       "Bloc nou      1471\n",
       "Imobil nou      90\n",
       "Name: new_building, dtype: int64"
      ]
     },
     "execution_count": 41,
     "metadata": {},
     "output_type": "execute_result"
    }
   ],
   "source": [
    "df.groupby('new_building')['new_building'].count()"
   ]
  },
  {
   "cell_type": "markdown",
   "metadata": {},
   "source": [
    "The category 'Imobil nou' it's the same thing as 'Bloc nou', so I will replace 'Bloc nou' with 'Imobil nou', but first I need to manage the missing values. So as I said above, in this case, I want to replace the missing values with 'Imobil vechi', because, from where I scraped the data and with the help of which I built my dataset, only the new buildings were tagged as 'Imobil nou' the other ones didn't have any labels. So I will consider them 'Imobil vechi'."
   ]
  },
  {
   "cell_type": "code",
   "execution_count": 42,
   "metadata": {},
   "outputs": [
    {
     "data": {
      "text/plain": [
       "3441"
      ]
     },
     "execution_count": 42,
     "metadata": {},
     "output_type": "execute_result"
    }
   ],
   "source": [
    "df['new_building'].isnull().sum()"
   ]
  },
  {
   "cell_type": "code",
   "execution_count": 43,
   "metadata": {},
   "outputs": [],
   "source": [
    "df['new_building'] = df['new_building'].fillna('Imobil vechi')"
   ]
  },
  {
   "cell_type": "markdown",
   "metadata": {},
   "source": [
    "The category 'Imobil nou' it's the same thing as 'Bloc nou', so I will replace it with 'Bloc nou'."
   ]
  },
  {
   "cell_type": "code",
   "execution_count": 44,
   "metadata": {},
   "outputs": [],
   "source": [
    "df.loc[df['new_building'].str.contains('Bloc nou'), 'new_building'] = 'Imobil nou'"
   ]
  },
  {
   "cell_type": "code",
   "execution_count": 45,
   "metadata": {},
   "outputs": [
    {
     "data": {
      "text/plain": [
       "new_building\n",
       "Imobil nou      1561\n",
       "Imobil vechi    3441\n",
       "Name: new_building, dtype: int64"
      ]
     },
     "execution_count": 45,
     "metadata": {},
     "output_type": "execute_result"
    }
   ],
   "source": [
    "df.groupby('new_building')['new_building'].count()"
   ]
  },
  {
   "cell_type": "markdown",
   "metadata": {},
   "source": [
    "For 'rooms' feature I want to start in the same manner by verifying its categories."
   ]
  },
  {
   "cell_type": "code",
   "execution_count": 46,
   "metadata": {
    "scrolled": true
   },
   "outputs": [
    {
     "data": {
      "text/plain": [
       "2 camere       2771\n",
       "3 camere       1222\n",
       "o cameră        802\n",
       "4 camere        185\n",
       "5 camere         16\n",
       "6 camere          2\n",
       "50 camere         1\n",
       "75 mp utili       1\n",
       "7 camere          1\n",
       "11 camere         1\n",
       "Name: rooms, dtype: int64"
      ]
     },
     "execution_count": 46,
     "metadata": {},
     "output_type": "execute_result"
    }
   ],
   "source": [
    "df['rooms'].value_counts()"
   ]
  },
  {
   "cell_type": "markdown",
   "metadata": {},
   "source": [
    "We can see that I have a category with '75 mp utili' and I suspect it is another case of swaped column values in a row. I also want to extract only the number of rooms and get rid of the word 'camere'. I also noticed that I have the category 'o cameră' which means one room and I want to replace it with 1."
   ]
  },
  {
   "cell_type": "code",
   "execution_count": 47,
   "metadata": {},
   "outputs": [
    {
     "data": {
      "text/plain": [
       "[4903]"
      ]
     },
     "execution_count": 47,
     "metadata": {},
     "output_type": "execute_result"
    }
   ],
   "source": [
    "df['rooms'][df['rooms'] == '75 mp utili'].index.tolist()"
   ]
  },
  {
   "cell_type": "code",
   "execution_count": 48,
   "metadata": {},
   "outputs": [
    {
     "name": "stdout",
     "output_type": "stream",
     "text": [
      "     currency floor neighborhood new_building partitioning  price  \\\n",
      "4903      EUR     3     Bulgaria   Imobil nou   Decomandat  499.0   \n",
      "\n",
      "            rooms space  \n",
      "4903  75 mp utili   NaN  \n"
     ]
    }
   ],
   "source": [
    "print(df.loc[[4903]])"
   ]
  },
  {
   "cell_type": "code",
   "execution_count": 49,
   "metadata": {},
   "outputs": [],
   "source": [
    "df[['rooms','space']] = df[['space','rooms']].where(df['rooms'] == '75 mp utili', df[['rooms','space']].values)"
   ]
  },
  {
   "cell_type": "code",
   "execution_count": 50,
   "metadata": {},
   "outputs": [],
   "source": [
    "df['rooms'] = df['rooms'].str[:-7]"
   ]
  },
  {
   "cell_type": "code",
   "execution_count": 51,
   "metadata": {},
   "outputs": [
    {
     "data": {
      "text/plain": [
       "1"
      ]
     },
     "execution_count": 51,
     "metadata": {},
     "output_type": "execute_result"
    }
   ],
   "source": [
    "df['rooms'].isnull().sum()"
   ]
  },
  {
   "cell_type": "markdown",
   "metadata": {},
   "source": [
    "Because I swaped at the index 4903 the value of the columns I got a null value in my room feature so I want to fill it with the most frequent number of rooms in the dataset. "
   ]
  },
  {
   "cell_type": "code",
   "execution_count": 52,
   "metadata": {},
   "outputs": [],
   "source": [
    "df['rooms'] = df['rooms'].fillna(df['rooms'].mode()[0]) "
   ]
  },
  {
   "cell_type": "code",
   "execution_count": 53,
   "metadata": {},
   "outputs": [
    {
     "data": {
      "text/plain": [
       "0"
      ]
     },
     "execution_count": 53,
     "metadata": {},
     "output_type": "execute_result"
    }
   ],
   "source": [
    "df['rooms'].isnull().sum()"
   ]
  },
  {
   "cell_type": "code",
   "execution_count": 54,
   "metadata": {},
   "outputs": [],
   "source": [
    "df.loc[df['rooms'].str.contains('o'), 'rooms'] = '1'"
   ]
  },
  {
   "cell_type": "code",
   "execution_count": 55,
   "metadata": {},
   "outputs": [
    {
     "data": {
      "text/plain": [
       "2     2772\n",
       "3     1222\n",
       "1      802\n",
       "4      185\n",
       "5       16\n",
       "6        2\n",
       "50       1\n",
       "7        1\n",
       "11       1\n",
       "Name: rooms, dtype: int64"
      ]
     },
     "execution_count": 55,
     "metadata": {},
     "output_type": "execute_result"
    }
   ],
   "source": [
    "df['rooms'].value_counts()"
   ]
  },
  {
   "cell_type": "markdown",
   "metadata": {},
   "source": [
    "For the feature 'space' I want to see how the its values. Based on the data above the values seem to have measurement unit names because they present, along with the values, the measure of the space of each apartment but if they are the same unit of measurement I will keep only the values."
   ]
  },
  {
   "cell_type": "code",
   "execution_count": 56,
   "metadata": {
    "scrolled": true
   },
   "outputs": [
    {
     "data": {
      "text/plain": [
       "space\n",
       "1 mp utili         1\n",
       "100 mp utili      66\n",
       "101 mp utili       1\n",
       "103 mp utili       3\n",
       "104 mp utili       3\n",
       "105 mp utili       9\n",
       "106 mp utili       1\n",
       "109 mp utili       2\n",
       "11 mp utili        3\n",
       "110 mp utili      20\n",
       "117 mp utili       2\n",
       "118 mp utili       3\n",
       "119 mp utili       1\n",
       "120 mp utili      19\n",
       "125 mp utili       3\n",
       "127 mp utili       1\n",
       "130 mp utili       7\n",
       "131 mp utili       2\n",
       "134 mp utili       1\n",
       "135 mp utili       2\n",
       "136 mp utili       4\n",
       "138 mp utili       1\n",
       "14 mp utili        1\n",
       "140 mp utili       6\n",
       "145 mp utili       1\n",
       "146 mp utili       1\n",
       "150 mp utili       9\n",
       "160 mp utili       2\n",
       "162 mp utili       1\n",
       "170 mp utili       2\n",
       "175 mp utili       3\n",
       "180 mp utili       4\n",
       "189 mp utili       1\n",
       "19 mp utili        1\n",
       "20 mp utili        8\n",
       "20.37 mp utili     1\n",
       "200 mp utili       6\n",
       "21 mp utili        8\n",
       "210 mp utili       1\n",
       "22 mp utili       25\n",
       "Name: space, dtype: int64"
      ]
     },
     "execution_count": 56,
     "metadata": {},
     "output_type": "execute_result"
    }
   ],
   "source": [
    "df.groupby('space')['space'].count().head(40)"
   ]
  },
  {
   "cell_type": "code",
   "execution_count": 57,
   "metadata": {},
   "outputs": [],
   "source": [
    "df['space'] = df['space'].str[:-9]"
   ]
  },
  {
   "cell_type": "markdown",
   "metadata": {},
   "source": [
    "After all the swaping I did above I want to see if I have null values in my 'space' feature."
   ]
  },
  {
   "cell_type": "code",
   "execution_count": 58,
   "metadata": {},
   "outputs": [
    {
     "data": {
      "text/plain": [
       "5"
      ]
     },
     "execution_count": 58,
     "metadata": {},
     "output_type": "execute_result"
    }
   ],
   "source": [
    "df['space'].isnull().sum()"
   ]
  },
  {
   "cell_type": "markdown",
   "metadata": {},
   "source": [
    "I have 5 null values and because there are not that many and as a result I want to fill them the median value of the whole feature. "
   ]
  },
  {
   "cell_type": "code",
   "execution_count": 59,
   "metadata": {},
   "outputs": [],
   "source": [
    "df['space'] = df['space'].fillna(df['space'].median()) "
   ]
  },
  {
   "cell_type": "code",
   "execution_count": 60,
   "metadata": {},
   "outputs": [
    {
     "data": {
      "text/plain": [
       "0"
      ]
     },
     "execution_count": 60,
     "metadata": {},
     "output_type": "execute_result"
    }
   ],
   "source": [
    "df['space'].isnull().sum()"
   ]
  },
  {
   "cell_type": "markdown",
   "metadata": {},
   "source": [
    "In this case I want the values of this feature to be floating number because they are continuous variables that represent the size of each apartment."
   ]
  },
  {
   "cell_type": "code",
   "execution_count": 61,
   "metadata": {
    "scrolled": false
   },
   "outputs": [],
   "source": [
    "df['space'] = df['space'].astype(float)"
   ]
  },
  {
   "cell_type": "markdown",
   "metadata": {},
   "source": [
    "'Price' feature represents our dependent variable, a continuous one, and I want to change its type to float. Also I want to identify the rows that the price of the rent is presented in the currency 'RON' and I want to change it in euros because, as we saw above, the majority of the prices are presented in euros and it will be more precise in this way. For this change I will be taking into account the value of 1 euro in romanian currency and I will consider it 4.875 ron/euro because the biggest values in the past three months was 4.8733 and in the present moment is 4.8715 so I want to take into account also a small error that can take place by the fluctuation of the exchange rate. This can be checked at this [exchange rate site](https://www.cursbnr.ro/)."
   ]
  },
  {
   "cell_type": "code",
   "execution_count": 62,
   "metadata": {},
   "outputs": [],
   "source": [
    "df['price']=df['price'].astype(float)"
   ]
  },
  {
   "cell_type": "code",
   "execution_count": 63,
   "metadata": {},
   "outputs": [
    {
     "data": {
      "text/plain": [
       "[175, 177, 1952, 2213, 2694, 2985, 4176, 4854]"
      ]
     },
     "execution_count": 63,
     "metadata": {},
     "output_type": "execute_result"
    }
   ],
   "source": [
    "df['currency'][df['currency'] == 'RON'].index.tolist()"
   ]
  },
  {
   "cell_type": "code",
   "execution_count": 64,
   "metadata": {
    "scrolled": false
   },
   "outputs": [
    {
     "name": "stdout",
     "output_type": "stream",
     "text": [
      "     currency floor     neighborhood  new_building    partitioning   price  \\\n",
      "175       RON     1             Iris    Imobil nou      Decomandat  2400.0   \n",
      "177       RON     2             Iris  Imobil vechi  Semidecomandat  1450.0   \n",
      "1952      RON     0          Central  Imobil vechi      Decomandat  1350.0   \n",
      "2213      RON     2          Marasti  Imobil vechi  Semidecomandat  1000.0   \n",
      "2694      RON     3          Marasti  Imobil vechi  Semidecomandat  2000.0   \n",
      "2985      RON     1         Manastur  Imobil vechi      Decomandat  1500.0   \n",
      "4176      RON     4  Andrei Muresanu  Imobil vechi      Decomandat  1850.0   \n",
      "4854      RON     1       Gheorgheni  Imobil vechi             NaN  1000.0   \n",
      "\n",
      "     rooms  space  \n",
      "175      2   55.0  \n",
      "177      1   28.0  \n",
      "1952     1   35.0  \n",
      "2213     1   28.0  \n",
      "2694     3   64.0  \n",
      "2985     2   52.0  \n",
      "4176     2   60.0  \n",
      "4854     1   28.0  \n"
     ]
    }
   ],
   "source": [
    "print(df.loc[[175, 177, 1952, 2213, 2694, 2985, 4176, 4854]])"
   ]
  },
  {
   "cell_type": "code",
   "execution_count": 65,
   "metadata": {},
   "outputs": [],
   "source": [
    "df['price'] = (df['price']/float(4.875)).round().where(df['currency'] == 'RON', df['price'])"
   ]
  },
  {
   "cell_type": "code",
   "execution_count": 66,
   "metadata": {},
   "outputs": [
    {
     "name": "stdout",
     "output_type": "stream",
     "text": [
      "     currency floor     neighborhood  new_building    partitioning  price  \\\n",
      "175       RON     1             Iris    Imobil nou      Decomandat  492.0   \n",
      "177       RON     2             Iris  Imobil vechi  Semidecomandat  297.0   \n",
      "1952      RON     0          Central  Imobil vechi      Decomandat  277.0   \n",
      "2213      RON     2          Marasti  Imobil vechi  Semidecomandat  205.0   \n",
      "2694      RON     3          Marasti  Imobil vechi  Semidecomandat  410.0   \n",
      "2985      RON     1         Manastur  Imobil vechi      Decomandat  308.0   \n",
      "4176      RON     4  Andrei Muresanu  Imobil vechi      Decomandat  379.0   \n",
      "4854      RON     1       Gheorgheni  Imobil vechi             NaN  205.0   \n",
      "\n",
      "     rooms  space  \n",
      "175      2   55.0  \n",
      "177      1   28.0  \n",
      "1952     1   35.0  \n",
      "2213     1   28.0  \n",
      "2694     3   64.0  \n",
      "2985     2   52.0  \n",
      "4176     2   60.0  \n",
      "4854     1   28.0  \n"
     ]
    }
   ],
   "source": [
    "print(df.loc[[175, 177, 1952, 2213, 2694, 2985, 4176, 4854]])"
   ]
  },
  {
   "cell_type": "markdown",
   "metadata": {},
   "source": [
    "After I used the 'RON' category to change its corresponding price into euros I wantto change the name of this category in 'EUR'."
   ]
  },
  {
   "cell_type": "code",
   "execution_count": 67,
   "metadata": {},
   "outputs": [],
   "source": [
    "df.loc[df['currency'].str.contains('RON'), 'currency'] = 'EUR'"
   ]
  },
  {
   "cell_type": "code",
   "execution_count": 68,
   "metadata": {},
   "outputs": [
    {
     "data": {
      "text/plain": [
       "currency\n",
       "EUR    5002\n",
       "Name: currency, dtype: int64"
      ]
     },
     "execution_count": 68,
     "metadata": {},
     "output_type": "execute_result"
    }
   ],
   "source": [
    "df.groupby('currency')['currency'].count()"
   ]
  },
  {
   "cell_type": "markdown",
   "metadata": {},
   "source": [
    "I want to see if I have some null values left so above I'm checking this thing."
   ]
  },
  {
   "cell_type": "code",
   "execution_count": 69,
   "metadata": {
    "scrolled": false
   },
   "outputs": [
    {
     "data": {
      "text/plain": [
       "currency         0\n",
       "floor            0\n",
       "neighborhood     0\n",
       "new_building     0\n",
       "partitioning    75\n",
       "price            0\n",
       "rooms            0\n",
       "space            0\n",
       "dtype: int64"
      ]
     },
     "execution_count": 69,
     "metadata": {},
     "output_type": "execute_result"
    }
   ],
   "source": [
    "df.isnull().sum()"
   ]
  },
  {
   "cell_type": "markdown",
   "metadata": {},
   "source": [
    "My 'partitioning' feature has 75 null values and, because I don't have many missing values, I can resolve this issue by filling them with the most frequent category of this feature. "
   ]
  },
  {
   "cell_type": "code",
   "execution_count": 70,
   "metadata": {
    "scrolled": true
   },
   "outputs": [
    {
     "data": {
      "text/plain": [
       "Semidecomandat    2512\n",
       "Decomandat        2348\n",
       "Nedecomandat        50\n",
       "Circular             9\n",
       "Vagon                8\n",
       "Name: partitioning, dtype: int64"
      ]
     },
     "execution_count": 70,
     "metadata": {},
     "output_type": "execute_result"
    }
   ],
   "source": [
    "df['partitioning'].value_counts()"
   ]
  },
  {
   "cell_type": "code",
   "execution_count": 71,
   "metadata": {},
   "outputs": [],
   "source": [
    "df['partitioning'] = df['partitioning'].fillna(df['partitioning'].mode().iloc[0])"
   ]
  },
  {
   "cell_type": "code",
   "execution_count": 72,
   "metadata": {},
   "outputs": [
    {
     "data": {
      "text/plain": [
       "currency        0\n",
       "floor           0\n",
       "neighborhood    0\n",
       "new_building    0\n",
       "partitioning    0\n",
       "price           0\n",
       "rooms           0\n",
       "space           0\n",
       "dtype: int64"
      ]
     },
     "execution_count": 72,
     "metadata": {},
     "output_type": "execute_result"
    }
   ],
   "source": [
    "df.isnull().sum()"
   ]
  },
  {
   "cell_type": "code",
   "execution_count": 73,
   "metadata": {},
   "outputs": [
    {
     "data": {
      "text/html": [
       "<div>\n",
       "<style scoped>\n",
       "    .dataframe tbody tr th:only-of-type {\n",
       "        vertical-align: middle;\n",
       "    }\n",
       "\n",
       "    .dataframe tbody tr th {\n",
       "        vertical-align: top;\n",
       "    }\n",
       "\n",
       "    .dataframe thead th {\n",
       "        text-align: right;\n",
       "    }\n",
       "</style>\n",
       "<table border=\"1\" class=\"dataframe\">\n",
       "  <thead>\n",
       "    <tr style=\"text-align: right;\">\n",
       "      <th></th>\n",
       "      <th>currency</th>\n",
       "      <th>floor</th>\n",
       "      <th>neighborhood</th>\n",
       "      <th>new_building</th>\n",
       "      <th>partitioning</th>\n",
       "      <th>price</th>\n",
       "      <th>rooms</th>\n",
       "      <th>space</th>\n",
       "    </tr>\n",
       "  </thead>\n",
       "  <tbody>\n",
       "    <tr>\n",
       "      <th>0</th>\n",
       "      <td>EUR</td>\n",
       "      <td>5</td>\n",
       "      <td>Central</td>\n",
       "      <td>Imobil vechi</td>\n",
       "      <td>Semidecomandat</td>\n",
       "      <td>400.0</td>\n",
       "      <td>2</td>\n",
       "      <td>58.5</td>\n",
       "    </tr>\n",
       "    <tr>\n",
       "      <th>1</th>\n",
       "      <td>EUR</td>\n",
       "      <td>8</td>\n",
       "      <td>Manastur</td>\n",
       "      <td>Imobil vechi</td>\n",
       "      <td>Semidecomandat</td>\n",
       "      <td>280.0</td>\n",
       "      <td>2</td>\n",
       "      <td>52.0</td>\n",
       "    </tr>\n",
       "    <tr>\n",
       "      <th>2</th>\n",
       "      <td>EUR</td>\n",
       "      <td>3</td>\n",
       "      <td>Zorilor</td>\n",
       "      <td>Imobil nou</td>\n",
       "      <td>Semidecomandat</td>\n",
       "      <td>400.0</td>\n",
       "      <td>3</td>\n",
       "      <td>84.0</td>\n",
       "    </tr>\n",
       "    <tr>\n",
       "      <th>3</th>\n",
       "      <td>EUR</td>\n",
       "      <td>1</td>\n",
       "      <td>Gheorgheni</td>\n",
       "      <td>Imobil vechi</td>\n",
       "      <td>Semidecomandat</td>\n",
       "      <td>400.0</td>\n",
       "      <td>3</td>\n",
       "      <td>65.0</td>\n",
       "    </tr>\n",
       "    <tr>\n",
       "      <th>4</th>\n",
       "      <td>EUR</td>\n",
       "      <td>1</td>\n",
       "      <td>Zorilor</td>\n",
       "      <td>Imobil nou</td>\n",
       "      <td>Decomandat</td>\n",
       "      <td>420.0</td>\n",
       "      <td>2</td>\n",
       "      <td>55.0</td>\n",
       "    </tr>\n",
       "  </tbody>\n",
       "</table>\n",
       "</div>"
      ],
      "text/plain": [
       "  currency floor neighborhood  new_building    partitioning  price rooms  \\\n",
       "0      EUR     5      Central  Imobil vechi  Semidecomandat  400.0     2   \n",
       "1      EUR     8     Manastur  Imobil vechi  Semidecomandat  280.0     2   \n",
       "2      EUR     3      Zorilor    Imobil nou  Semidecomandat  400.0     3   \n",
       "3      EUR     1   Gheorgheni  Imobil vechi  Semidecomandat  400.0     3   \n",
       "4      EUR     1      Zorilor    Imobil nou      Decomandat  420.0     2   \n",
       "\n",
       "   space  \n",
       "0   58.5  \n",
       "1   52.0  \n",
       "2   84.0  \n",
       "3   65.0  \n",
       "4   55.0  "
      ]
     },
     "execution_count": 73,
     "metadata": {},
     "output_type": "execute_result"
    }
   ],
   "source": [
    "df.head()"
   ]
  },
  {
   "cell_type": "markdown",
   "metadata": {},
   "source": [
    "## 2. Feature Engineering"
   ]
  },
  {
   "cell_type": "code",
   "execution_count": 74,
   "metadata": {},
   "outputs": [
    {
     "data": {
      "text/html": [
       "<div>\n",
       "<style scoped>\n",
       "    .dataframe tbody tr th:only-of-type {\n",
       "        vertical-align: middle;\n",
       "    }\n",
       "\n",
       "    .dataframe tbody tr th {\n",
       "        vertical-align: top;\n",
       "    }\n",
       "\n",
       "    .dataframe thead th {\n",
       "        text-align: right;\n",
       "    }\n",
       "</style>\n",
       "<table border=\"1\" class=\"dataframe\">\n",
       "  <thead>\n",
       "    <tr style=\"text-align: right;\">\n",
       "      <th></th>\n",
       "      <th>currency</th>\n",
       "      <th>floor</th>\n",
       "      <th>neighborhood</th>\n",
       "      <th>new_building</th>\n",
       "      <th>partitioning</th>\n",
       "      <th>price</th>\n",
       "      <th>rooms</th>\n",
       "      <th>space</th>\n",
       "      <th>price_per_unit_space</th>\n",
       "    </tr>\n",
       "  </thead>\n",
       "  <tbody>\n",
       "    <tr>\n",
       "      <th>0</th>\n",
       "      <td>EUR</td>\n",
       "      <td>5</td>\n",
       "      <td>Central</td>\n",
       "      <td>Imobil vechi</td>\n",
       "      <td>Semidecomandat</td>\n",
       "      <td>400.0</td>\n",
       "      <td>2</td>\n",
       "      <td>58.5</td>\n",
       "      <td>6.837607</td>\n",
       "    </tr>\n",
       "    <tr>\n",
       "      <th>1</th>\n",
       "      <td>EUR</td>\n",
       "      <td>8</td>\n",
       "      <td>Manastur</td>\n",
       "      <td>Imobil vechi</td>\n",
       "      <td>Semidecomandat</td>\n",
       "      <td>280.0</td>\n",
       "      <td>2</td>\n",
       "      <td>52.0</td>\n",
       "      <td>5.384615</td>\n",
       "    </tr>\n",
       "    <tr>\n",
       "      <th>2</th>\n",
       "      <td>EUR</td>\n",
       "      <td>3</td>\n",
       "      <td>Zorilor</td>\n",
       "      <td>Imobil nou</td>\n",
       "      <td>Semidecomandat</td>\n",
       "      <td>400.0</td>\n",
       "      <td>3</td>\n",
       "      <td>84.0</td>\n",
       "      <td>4.761905</td>\n",
       "    </tr>\n",
       "    <tr>\n",
       "      <th>3</th>\n",
       "      <td>EUR</td>\n",
       "      <td>1</td>\n",
       "      <td>Gheorgheni</td>\n",
       "      <td>Imobil vechi</td>\n",
       "      <td>Semidecomandat</td>\n",
       "      <td>400.0</td>\n",
       "      <td>3</td>\n",
       "      <td>65.0</td>\n",
       "      <td>6.153846</td>\n",
       "    </tr>\n",
       "    <tr>\n",
       "      <th>4</th>\n",
       "      <td>EUR</td>\n",
       "      <td>1</td>\n",
       "      <td>Zorilor</td>\n",
       "      <td>Imobil nou</td>\n",
       "      <td>Decomandat</td>\n",
       "      <td>420.0</td>\n",
       "      <td>2</td>\n",
       "      <td>55.0</td>\n",
       "      <td>7.636364</td>\n",
       "    </tr>\n",
       "  </tbody>\n",
       "</table>\n",
       "</div>"
      ],
      "text/plain": [
       "  currency floor neighborhood  new_building    partitioning  price rooms  \\\n",
       "0      EUR     5      Central  Imobil vechi  Semidecomandat  400.0     2   \n",
       "1      EUR     8     Manastur  Imobil vechi  Semidecomandat  280.0     2   \n",
       "2      EUR     3      Zorilor    Imobil nou  Semidecomandat  400.0     3   \n",
       "3      EUR     1   Gheorgheni  Imobil vechi  Semidecomandat  400.0     3   \n",
       "4      EUR     1      Zorilor    Imobil nou      Decomandat  420.0     2   \n",
       "\n",
       "   space  price_per_unit_space  \n",
       "0   58.5              6.837607  \n",
       "1   52.0              5.384615  \n",
       "2   84.0              4.761905  \n",
       "3   65.0              6.153846  \n",
       "4   55.0              7.636364  "
      ]
     },
     "execution_count": 74,
     "metadata": {},
     "output_type": "execute_result"
    }
   ],
   "source": [
    "df['price_per_unit_space'] = df['price'] / df['space']\n",
    "df.head()"
   ]
  },
  {
   "cell_type": "code",
   "execution_count": 75,
   "metadata": {},
   "outputs": [
    {
     "data": {
      "text/plain": [
       "Gheorgheni             855\n",
       "Central                765\n",
       "Marasti                720\n",
       "Zorilor                559\n",
       "Manastur               546\n",
       "Buna Ziua              255\n",
       "Grigorescu             185\n",
       "Semicentral            159\n",
       "Intre Lacuri           155\n",
       "Andrei Muresanu        125\n",
       "Europa                 109\n",
       "Plopilor               107\n",
       "Ultracentral            95\n",
       "Iris                    56\n",
       "P-ta Mihai Viteazul     53\n",
       "Borhanci                47\n",
       "Calea Turzii            36\n",
       "Gruia                   27\n",
       "Gara                    26\n",
       "Sopor                   26\n",
       "Horea                   19\n",
       "Dambul Rotund           17\n",
       "Someseni                15\n",
       "Hasdeu                  14\n",
       "Bulgaria                10\n",
       "Aurel Vlaicu             7\n",
       "Campului                 6\n",
       "Aeroport                 4\n",
       "Baciu                    2\n",
       "Exterior Vest            1\n",
       "Cordos                   1\n",
       "Name: neighborhood, dtype: int64"
      ]
     },
     "execution_count": 75,
     "metadata": {},
     "output_type": "execute_result"
    }
   ],
   "source": [
    "number_apartaments_neighborhood = df['neighborhood'].value_counts()\n",
    "number_apartaments_neighborhood"
   ]
  },
  {
   "cell_type": "code",
   "execution_count": 76,
   "metadata": {},
   "outputs": [
    {
     "data": {
      "text/plain": [
       "6"
      ]
     },
     "execution_count": 76,
     "metadata": {},
     "output_type": "execute_result"
    }
   ],
   "source": [
    "len(number_apartaments_neighborhood[number_apartaments_neighborhood < 10])"
   ]
  },
  {
   "cell_type": "code",
   "execution_count": 77,
   "metadata": {},
   "outputs": [
    {
     "data": {
      "text/plain": [
       "Aurel Vlaicu     7\n",
       "Campului         6\n",
       "Aeroport         4\n",
       "Baciu            2\n",
       "Exterior Vest    1\n",
       "Cordos           1\n",
       "Name: neighborhood, dtype: int64"
      ]
     },
     "execution_count": 77,
     "metadata": {},
     "output_type": "execute_result"
    }
   ],
   "source": [
    "location_neighborhood_below_10 = number_apartaments_neighborhood[number_apartaments_neighborhood < 10]\n",
    "location_neighborhood_below_10"
   ]
  },
  {
   "cell_type": "code",
   "execution_count": 78,
   "metadata": {},
   "outputs": [
    {
     "data": {
      "text/plain": [
       "26"
      ]
     },
     "execution_count": 78,
     "metadata": {},
     "output_type": "execute_result"
    }
   ],
   "source": [
    "df['neighborhood'] = df['neighborhood'].apply(lambda x: 'Other' if x in location_neighborhood_below_10 else x)\n",
    "len(df['neighborhood'].unique())"
   ]
  },
  {
   "cell_type": "code",
   "execution_count": null,
   "metadata": {},
   "outputs": [],
   "source": []
  }
 ],
 "metadata": {
  "kernelspec": {
   "display_name": "Python 3",
   "language": "python",
   "name": "python3"
  },
  "language_info": {
   "codemirror_mode": {
    "name": "ipython",
    "version": 3
   },
   "file_extension": ".py",
   "mimetype": "text/x-python",
   "name": "python",
   "nbconvert_exporter": "python",
   "pygments_lexer": "ipython3",
   "version": "3.8.3"
  }
 },
 "nbformat": 4,
 "nbformat_minor": 4
}
