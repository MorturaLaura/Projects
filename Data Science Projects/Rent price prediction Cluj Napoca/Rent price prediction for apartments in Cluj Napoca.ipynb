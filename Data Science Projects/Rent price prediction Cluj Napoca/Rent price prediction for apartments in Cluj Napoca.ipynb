{
 "cells": [
  {
   "cell_type": "markdown",
   "metadata": {},
   "source": [
    "# Rent price prediction for apartments in Cluj Napoca\n",
    "First of all I need to import all the modules that I'm going to use and the dataset."
   ]
  },
  {
   "cell_type": "code",
   "execution_count": 1,
   "metadata": {},
   "outputs": [],
   "source": [
    "import pandas as pd\n",
    "import numpy as np\n",
    "from matplotlib import pyplot as plt\n",
    "import seaborn as sns\n",
    "%matplotlib inline"
   ]
  },
  {
   "cell_type": "code",
   "execution_count": 2,
   "metadata": {},
   "outputs": [
    {
     "data": {
      "text/html": [
       "<div>\n",
       "<style scoped>\n",
       "    .dataframe tbody tr th:only-of-type {\n",
       "        vertical-align: middle;\n",
       "    }\n",
       "\n",
       "    .dataframe tbody tr th {\n",
       "        vertical-align: top;\n",
       "    }\n",
       "\n",
       "    .dataframe thead th {\n",
       "        text-align: right;\n",
       "    }\n",
       "</style>\n",
       "<table border=\"1\" class=\"dataframe\">\n",
       "  <thead>\n",
       "    <tr style=\"text-align: right;\">\n",
       "      <th></th>\n",
       "      <th>currency</th>\n",
       "      <th>floor</th>\n",
       "      <th>neighborhood</th>\n",
       "      <th>new_building</th>\n",
       "      <th>partitioning</th>\n",
       "      <th>price</th>\n",
       "      <th>rooms</th>\n",
       "      <th>space</th>\n",
       "    </tr>\n",
       "  </thead>\n",
       "  <tbody>\n",
       "    <tr>\n",
       "      <th>0</th>\n",
       "      <td>EUR / lună</td>\n",
       "      <td>Etaj 5/7</td>\n",
       "      <td>Cluj-Napoca, zona Central</td>\n",
       "      <td>NaN</td>\n",
       "      <td>Semidecomandat</td>\n",
       "      <td>400.0</td>\n",
       "      <td>2 camere</td>\n",
       "      <td>58.5 mp utili</td>\n",
       "    </tr>\n",
       "    <tr>\n",
       "      <th>1</th>\n",
       "      <td>EUR / lună</td>\n",
       "      <td>Etaj 8/10</td>\n",
       "      <td>Cluj-Napoca, zona Mănăştur</td>\n",
       "      <td>NaN</td>\n",
       "      <td>Semidecomandat</td>\n",
       "      <td>280.0</td>\n",
       "      <td>2 camere</td>\n",
       "      <td>52 mp utili</td>\n",
       "    </tr>\n",
       "    <tr>\n",
       "      <th>2</th>\n",
       "      <td>EUR / lună</td>\n",
       "      <td>Etaj 3/3</td>\n",
       "      <td>Cluj-Napoca, zona Zorilor</td>\n",
       "      <td>Bloc nou</td>\n",
       "      <td>Semidecomandat</td>\n",
       "      <td>400.0</td>\n",
       "      <td>3 camere</td>\n",
       "      <td>84 mp utili</td>\n",
       "    </tr>\n",
       "    <tr>\n",
       "      <th>3</th>\n",
       "      <td>EUR / lună</td>\n",
       "      <td>Parter/4</td>\n",
       "      <td>Cluj-Napoca, zona Gheorgheni</td>\n",
       "      <td>NaN</td>\n",
       "      <td>Semidecomandat</td>\n",
       "      <td>400.0</td>\n",
       "      <td>3 camere</td>\n",
       "      <td>65 mp utili</td>\n",
       "    </tr>\n",
       "    <tr>\n",
       "      <th>4</th>\n",
       "      <td>EUR / lună</td>\n",
       "      <td>Etaj 1/2</td>\n",
       "      <td>Cluj-Napoca, zona Zorilor</td>\n",
       "      <td>Bloc nou</td>\n",
       "      <td>Decomandat</td>\n",
       "      <td>420.0</td>\n",
       "      <td>2 camere</td>\n",
       "      <td>55 mp utili</td>\n",
       "    </tr>\n",
       "  </tbody>\n",
       "</table>\n",
       "</div>"
      ],
      "text/plain": [
       "     currency      floor                  neighborhood new_building  \\\n",
       "0  EUR / lună   Etaj 5/7     Cluj-Napoca, zona Central          NaN   \n",
       "1  EUR / lună  Etaj 8/10    Cluj-Napoca, zona Mănăştur          NaN   \n",
       "2  EUR / lună   Etaj 3/3     Cluj-Napoca, zona Zorilor     Bloc nou   \n",
       "3  EUR / lună   Parter/4  Cluj-Napoca, zona Gheorgheni          NaN   \n",
       "4  EUR / lună   Etaj 1/2     Cluj-Napoca, zona Zorilor     Bloc nou   \n",
       "\n",
       "     partitioning  price     rooms          space  \n",
       "0  Semidecomandat  400.0  2 camere  58.5 mp utili  \n",
       "1  Semidecomandat  280.0  2 camere    52 mp utili  \n",
       "2  Semidecomandat  400.0  3 camere    84 mp utili  \n",
       "3  Semidecomandat  400.0  3 camere    65 mp utili  \n",
       "4      Decomandat  420.0  2 camere    55 mp utili  "
      ]
     },
     "execution_count": 2,
     "metadata": {},
     "output_type": "execute_result"
    }
   ],
   "source": [
    "df = pd.read_csv('scraping_env/webscrapy/webscrapy/rent_price_results.csv', thousands='.',decimal=',')\n",
    "df.head()"
   ]
  },
  {
   "cell_type": "code",
   "execution_count": 3,
   "metadata": {},
   "outputs": [
    {
     "data": {
      "text/html": [
       "<div>\n",
       "<style scoped>\n",
       "    .dataframe tbody tr th:only-of-type {\n",
       "        vertical-align: middle;\n",
       "    }\n",
       "\n",
       "    .dataframe tbody tr th {\n",
       "        vertical-align: top;\n",
       "    }\n",
       "\n",
       "    .dataframe thead th {\n",
       "        text-align: right;\n",
       "    }\n",
       "</style>\n",
       "<table border=\"1\" class=\"dataframe\">\n",
       "  <thead>\n",
       "    <tr style=\"text-align: right;\">\n",
       "      <th></th>\n",
       "      <th>currency</th>\n",
       "      <th>floor</th>\n",
       "      <th>neighborhood</th>\n",
       "      <th>new_building</th>\n",
       "      <th>partitioning</th>\n",
       "      <th>price</th>\n",
       "      <th>rooms</th>\n",
       "      <th>space</th>\n",
       "    </tr>\n",
       "  </thead>\n",
       "  <tbody>\n",
       "    <tr>\n",
       "      <th>5000</th>\n",
       "      <td>EUR / lună</td>\n",
       "      <td>Etaj 2/3</td>\n",
       "      <td>Cluj-Napoca, zona Europa</td>\n",
       "      <td>Bloc nou</td>\n",
       "      <td>Decomandat</td>\n",
       "      <td>400.0</td>\n",
       "      <td>2 camere</td>\n",
       "      <td>55 mp utili</td>\n",
       "    </tr>\n",
       "    <tr>\n",
       "      <th>5001</th>\n",
       "      <td>EUR / lună</td>\n",
       "      <td>Parter</td>\n",
       "      <td>Cluj-Napoca, zona Central</td>\n",
       "      <td>NaN</td>\n",
       "      <td>Semidecomandat</td>\n",
       "      <td>380.0</td>\n",
       "      <td>2 camere</td>\n",
       "      <td>47 mp utili</td>\n",
       "    </tr>\n",
       "    <tr>\n",
       "      <th>5002</th>\n",
       "      <td>EUR / lună</td>\n",
       "      <td>Parter/2</td>\n",
       "      <td>Cluj-Napoca, zona Ultracentral</td>\n",
       "      <td>NaN</td>\n",
       "      <td>Semidecomandat</td>\n",
       "      <td>650.0</td>\n",
       "      <td>3 camere</td>\n",
       "      <td>72 mp utili</td>\n",
       "    </tr>\n",
       "    <tr>\n",
       "      <th>5003</th>\n",
       "      <td>EUR / lună</td>\n",
       "      <td>Etaj 8/11</td>\n",
       "      <td>Cluj-Napoca, zona Gheorgheni</td>\n",
       "      <td>Bloc nou</td>\n",
       "      <td>Semidecomandat</td>\n",
       "      <td>620.0</td>\n",
       "      <td>3 camere</td>\n",
       "      <td>75 mp utili</td>\n",
       "    </tr>\n",
       "    <tr>\n",
       "      <th>5004</th>\n",
       "      <td>EUR / lună</td>\n",
       "      <td>Etaj 1/2</td>\n",
       "      <td>Cluj-Napoca, zona Bulgaria</td>\n",
       "      <td>Bloc nou</td>\n",
       "      <td>Semidecomandat</td>\n",
       "      <td>330.0</td>\n",
       "      <td>3 camere</td>\n",
       "      <td>55 mp utili</td>\n",
       "    </tr>\n",
       "  </tbody>\n",
       "</table>\n",
       "</div>"
      ],
      "text/plain": [
       "        currency      floor                    neighborhood new_building  \\\n",
       "5000  EUR / lună   Etaj 2/3        Cluj-Napoca, zona Europa     Bloc nou   \n",
       "5001  EUR / lună     Parter       Cluj-Napoca, zona Central          NaN   \n",
       "5002  EUR / lună   Parter/2  Cluj-Napoca, zona Ultracentral          NaN   \n",
       "5003  EUR / lună  Etaj 8/11    Cluj-Napoca, zona Gheorgheni     Bloc nou   \n",
       "5004  EUR / lună   Etaj 1/2      Cluj-Napoca, zona Bulgaria     Bloc nou   \n",
       "\n",
       "        partitioning  price     rooms        space  \n",
       "5000      Decomandat  400.0  2 camere  55 mp utili  \n",
       "5001  Semidecomandat  380.0  2 camere  47 mp utili  \n",
       "5002  Semidecomandat  650.0  3 camere  72 mp utili  \n",
       "5003  Semidecomandat  620.0  3 camere  75 mp utili  \n",
       "5004  Semidecomandat  330.0  3 camere  55 mp utili  "
      ]
     },
     "execution_count": 3,
     "metadata": {},
     "output_type": "execute_result"
    }
   ],
   "source": [
    "df.tail()"
   ]
  },
  {
   "cell_type": "code",
   "execution_count": 4,
   "metadata": {},
   "outputs": [
    {
     "data": {
      "text/plain": [
       "(5005, 8)"
      ]
     },
     "execution_count": 4,
     "metadata": {},
     "output_type": "execute_result"
    }
   ],
   "source": [
    "df.shape"
   ]
  },
  {
   "cell_type": "code",
   "execution_count": 5,
   "metadata": {},
   "outputs": [
    {
     "data": {
      "text/html": [
       "<div>\n",
       "<style scoped>\n",
       "    .dataframe tbody tr th:only-of-type {\n",
       "        vertical-align: middle;\n",
       "    }\n",
       "\n",
       "    .dataframe tbody tr th {\n",
       "        vertical-align: top;\n",
       "    }\n",
       "\n",
       "    .dataframe thead th {\n",
       "        text-align: right;\n",
       "    }\n",
       "</style>\n",
       "<table border=\"1\" class=\"dataframe\">\n",
       "  <thead>\n",
       "    <tr style=\"text-align: right;\">\n",
       "      <th></th>\n",
       "      <th>price</th>\n",
       "    </tr>\n",
       "  </thead>\n",
       "  <tbody>\n",
       "    <tr>\n",
       "      <th>count</th>\n",
       "      <td>5003.000000</td>\n",
       "    </tr>\n",
       "    <tr>\n",
       "      <th>mean</th>\n",
       "      <td>445.388967</td>\n",
       "    </tr>\n",
       "    <tr>\n",
       "      <th>std</th>\n",
       "      <td>181.648170</td>\n",
       "    </tr>\n",
       "    <tr>\n",
       "      <th>min</th>\n",
       "      <td>90.000000</td>\n",
       "    </tr>\n",
       "    <tr>\n",
       "      <th>25%</th>\n",
       "      <td>350.000000</td>\n",
       "    </tr>\n",
       "    <tr>\n",
       "      <th>50%</th>\n",
       "      <td>400.000000</td>\n",
       "    </tr>\n",
       "    <tr>\n",
       "      <th>75%</th>\n",
       "      <td>500.000000</td>\n",
       "    </tr>\n",
       "    <tr>\n",
       "      <th>max</th>\n",
       "      <td>2550.000000</td>\n",
       "    </tr>\n",
       "  </tbody>\n",
       "</table>\n",
       "</div>"
      ],
      "text/plain": [
       "             price\n",
       "count  5003.000000\n",
       "mean    445.388967\n",
       "std     181.648170\n",
       "min      90.000000\n",
       "25%     350.000000\n",
       "50%     400.000000\n",
       "75%     500.000000\n",
       "max    2550.000000"
      ]
     },
     "execution_count": 5,
     "metadata": {},
     "output_type": "execute_result"
    }
   ],
   "source": [
    "df.describe()"
   ]
  },
  {
   "cell_type": "code",
   "execution_count": 6,
   "metadata": {
    "scrolled": false
   },
   "outputs": [
    {
     "name": "stdout",
     "output_type": "stream",
     "text": [
      "<class 'pandas.core.frame.DataFrame'>\n",
      "RangeIndex: 5005 entries, 0 to 5004\n",
      "Data columns (total 8 columns):\n",
      " #   Column        Non-Null Count  Dtype  \n",
      "---  ------        --------------  -----  \n",
      " 0   currency      5003 non-null   object \n",
      " 1   floor         5004 non-null   object \n",
      " 2   neighborhood  5005 non-null   object \n",
      " 3   new_building  1545 non-null   object \n",
      " 4   partitioning  4939 non-null   object \n",
      " 5   price         5003 non-null   float64\n",
      " 6   rooms         5005 non-null   object \n",
      " 7   space         5005 non-null   object \n",
      "dtypes: float64(1), object(7)\n",
      "memory usage: 312.9+ KB\n"
     ]
    }
   ],
   "source": [
    "df.info()"
   ]
  },
  {
   "cell_type": "markdown",
   "metadata": {},
   "source": [
    "From the above informations, at the first glance, we can see that we may have some outliers from the min max values(90, 2550) of the rent prices. For the features 'currency', 'floor', 'price' and especially for 'neighborhood' and 'new building' we can see that there are some null values. Another importat aspect is that in exploratory data analysis we have to change the data types of some of the features. "
   ]
  },
  {
   "cell_type": "markdown",
   "metadata": {},
   "source": [
    "## 1. Data Cleaning and Exploratory Data Analysis\n",
    "\n",
    "In my first step I want to clean the data from my dataset. First of all I want to see all the null values in my dataset and decide how to manage them."
   ]
  },
  {
   "cell_type": "code",
   "execution_count": 7,
   "metadata": {
    "scrolled": true
   },
   "outputs": [
    {
     "data": {
      "text/plain": [
       "currency           2\n",
       "floor              1\n",
       "neighborhood       0\n",
       "new_building    3460\n",
       "partitioning      66\n",
       "price              2\n",
       "rooms              0\n",
       "space              0\n",
       "dtype: int64"
      ]
     },
     "execution_count": 7,
     "metadata": {},
     "output_type": "execute_result"
    }
   ],
   "source": [
    "df.isnull().sum()"
   ]
  },
  {
   "cell_type": "markdown",
   "metadata": {},
   "source": [
    "Because for 'floor', 'currency' and 'price' there are a few null values, respectively 1 and 2 and I suspect that those from the 'currency' and 'price' are at the same index, I will drop them.\n",
    "\n",
    "'New_building' has so many null values because on the site, from where I scraped the data and with the help of which I built my dataset, only the new buildings were tagged as 'new bulding' the other ones didn't have any labels. So I will consider them 'old buildings'.\n",
    "\n",
    "For 'partitioning' I don't see for now any reason why there are 65 null values, but in my further analysis I will try to figure out how to manage them."
   ]
  },
  {
   "cell_type": "code",
   "execution_count": 8,
   "metadata": {},
   "outputs": [],
   "source": [
    "df.dropna(subset=['floor', 'price'], inplace=True)"
   ]
  },
  {
   "cell_type": "code",
   "execution_count": 9,
   "metadata": {},
   "outputs": [
    {
     "data": {
      "text/plain": [
       "currency           0\n",
       "floor              0\n",
       "neighborhood       0\n",
       "new_building    3457\n",
       "partitioning      65\n",
       "price              0\n",
       "rooms              0\n",
       "space              0\n",
       "dtype: int64"
      ]
     },
     "execution_count": 9,
     "metadata": {},
     "output_type": "execute_result"
    }
   ],
   "source": [
    "df.isnull().sum()"
   ]
  },
  {
   "cell_type": "markdown",
   "metadata": {},
   "source": [
    "For 'currency' feature I want to see how may categories I have and how to clean it."
   ]
  },
  {
   "cell_type": "code",
   "execution_count": 10,
   "metadata": {
    "scrolled": true
   },
   "outputs": [
    {
     "data": {
      "text/plain": [
       "currency\n",
       "EUR + TVA / lună      48\n",
       "EUR / lună          4946\n",
       "RON / lună             8\n",
       "Name: currency, dtype: int64"
      ]
     },
     "execution_count": 10,
     "metadata": {},
     "output_type": "execute_result"
    }
   ],
   "source": [
    "df.groupby('currency')['currency'].count()"
   ]
  },
  {
   "cell_type": "markdown",
   "metadata": {},
   "source": [
    "We can see that I have two categories that both refer to the curreny euro and one for ron. In this case I want to make two categories for this feature one for euro and one for ron. When I scraped the data I wanted to extract this feature because I know that there is a posability that some rent prices are listed in ron so when I do the analysis and built the model, if I don't trasnform the prices to be at the same currency then my data will be distorted. "
   ]
  },
  {
   "cell_type": "code",
   "execution_count": 11,
   "metadata": {},
   "outputs": [],
   "source": [
    "df['currency'] = df['currency'].apply(lambda x: str(x.split(' ')[0]))"
   ]
  },
  {
   "cell_type": "code",
   "execution_count": 12,
   "metadata": {
    "scrolled": false
   },
   "outputs": [
    {
     "data": {
      "text/plain": [
       "currency\n",
       "EUR    4994\n",
       "RON       8\n",
       "Name: currency, dtype: int64"
      ]
     },
     "execution_count": 12,
     "metadata": {},
     "output_type": "execute_result"
    }
   ],
   "source": [
    "df.groupby('currency')['currency'].count()"
   ]
  },
  {
   "cell_type": "markdown",
   "metadata": {},
   "source": [
    "A problem that I noticed in my dataset was that in some rows my values were swaped between columns so I want to fix this issue. That's way my next step is to clean the feature 'partitioning' and first I want to see all the categories it has."
   ]
  },
  {
   "cell_type": "code",
   "execution_count": 13,
   "metadata": {
    "scrolled": false
   },
   "outputs": [
    {
     "data": {
      "text/plain": [
       "partitioning\n",
       "Bloc nou            15\n",
       "Circular             9\n",
       "Decomandat        2346\n",
       "Imobil nou           1\n",
       "Nedecomandat        50\n",
       "Semidecomandat    2508\n",
       "Vagon                8\n",
       "Name: partitioning, dtype: int64"
      ]
     },
     "execution_count": 13,
     "metadata": {},
     "output_type": "execute_result"
    }
   ],
   "source": [
    "df.groupby('partitioning')['partitioning'].count()"
   ]
  },
  {
   "cell_type": "markdown",
   "metadata": {},
   "source": [
    "We can see that in the categories in 'partitioning' we also have 'Bloc nou' and 'Imobil nou'. I want to see the rows where these categories are to see if there are swapt rows betweeen this freature and other ones."
   ]
  },
  {
   "cell_type": "code",
   "execution_count": 14,
   "metadata": {
    "scrolled": true
   },
   "outputs": [
    {
     "data": {
      "text/plain": [
       "[263,\n",
       " 706,\n",
       " 878,\n",
       " 917,\n",
       " 1793,\n",
       " 2061,\n",
       " 2220,\n",
       " 2475,\n",
       " 2689,\n",
       " 3674,\n",
       " 3827,\n",
       " 4238,\n",
       " 4340,\n",
       " 4750,\n",
       " 4903]"
      ]
     },
     "execution_count": 14,
     "metadata": {},
     "output_type": "execute_result"
    }
   ],
   "source": [
    "df['partitioning'][df['partitioning'] == 'Bloc nou'].index.tolist()"
   ]
  },
  {
   "cell_type": "code",
   "execution_count": 15,
   "metadata": {},
   "outputs": [
    {
     "name": "stdout",
     "output_type": "stream",
     "text": [
      "    currency     floor                  neighborhood new_building  \\\n",
      "263      EUR  Etaj 3/6      Cluj-Napoca, zona Europa          NaN   \n",
      "706      EUR  Etaj 5/8  Cluj-Napoca, zona Gheorgheni          NaN   \n",
      "878      EUR  Etaj 1/4   Cluj-Napoca, zona Buna Ziua          NaN   \n",
      "917      EUR    Etaj 4   Cluj-Napoca, zona Bună Ziua          NaN   \n",
      "\n",
      "    partitioning  price     rooms        space  \n",
      "263     Bloc nou  700.0  2 camere  56 mp utili  \n",
      "706     Bloc nou  465.0  2 camere  72 mp utili  \n",
      "878     Bloc nou  600.0  3 camere  76 mp utili  \n",
      "917     Bloc nou  900.0  3 camere  80 mp utili  \n"
     ]
    }
   ],
   "source": [
    "print(df.loc[[263, 706, 878, 917]])"
   ]
  },
  {
   "cell_type": "markdown",
   "metadata": {},
   "source": [
    "We can see that I have null values in 'my new_building' column and in my 'partitioning' column I have the 'new building' category 'Bloc nou'. So in this case I think the best approach is to swap at this indexes the values between the two columns. I will do the same thing for the row where in 'partitioning' feature there is the 'new building' category 'Imobil nou'. For resolving this problem I will make a function."
   ]
  },
  {
   "cell_type": "code",
   "execution_count": 16,
   "metadata": {},
   "outputs": [],
   "source": [
    "def switch_rows_partitioning(df, variable, element):\n",
    "    for content in df[variable]:\n",
    "        if element == content:\n",
    "            df[[variable,'new_building']] = df[['new_building',variable]].where(df[variable] == element, df[[variable,'new_building']].values)"
   ]
  },
  {
   "cell_type": "code",
   "execution_count": 17,
   "metadata": {},
   "outputs": [],
   "source": [
    "switch_rows_partitioning(df,'partitioning','Bloc nou')\n",
    "switch_rows_partitioning(df,'partitioning','Imobil nou')"
   ]
  },
  {
   "cell_type": "code",
   "execution_count": 18,
   "metadata": {},
   "outputs": [
    {
     "data": {
      "text/plain": [
       "partitioning\n",
       "Circular             9\n",
       "Decomandat        2346\n",
       "Nedecomandat        50\n",
       "Semidecomandat    2508\n",
       "Vagon                8\n",
       "Name: partitioning, dtype: int64"
      ]
     },
     "execution_count": 18,
     "metadata": {},
     "output_type": "execute_result"
    }
   ],
   "source": [
    "df.groupby('partitioning')['partitioning'].count()"
   ]
  },
  {
   "cell_type": "markdown",
   "metadata": {},
   "source": [
    "Next I want to see all the categories from the 'floor' feature which I am considering it as a categorical feature."
   ]
  },
  {
   "cell_type": "code",
   "execution_count": 19,
   "metadata": {
    "scrolled": true
   },
   "outputs": [
    {
     "data": {
      "text/plain": [
       "floor\n",
       "Decomandat      2\n",
       "Demisol         5\n",
       "Demisol/1      10\n",
       "Demisol/2       8\n",
       "Demisol/3       3\n",
       "Demisol/4       5\n",
       "Demisol/5       2\n",
       "Etaj 1         66\n",
       "Etaj 1/1      122\n",
       "Etaj 1/10      62\n",
       "Etaj 1/11      10\n",
       "Etaj 1/2      127\n",
       "Etaj 1/20       1\n",
       "Etaj 1/3      151\n",
       "Etaj 1/4      342\n",
       "Etaj 1/5       55\n",
       "Etaj 1/6       63\n",
       "Etaj 1/7       23\n",
       "Etaj 1/8       70\n",
       "Etaj 1/9       10\n",
       "Etaj 10         4\n",
       "Etaj 10/10     49\n",
       "Etaj 10/11     21\n",
       "Etaj 10/12      1\n",
       "Etaj 11/11      3\n",
       "Etaj 11/12      3\n",
       "Etaj 12/12      1\n",
       "Etaj 2         60\n",
       "Etaj 2/10      55\n",
       "Etaj 2/11      11\n",
       "Etaj 2/2      133\n",
       "Etaj 2/3      136\n",
       "Etaj 2/4      327\n",
       "Etaj 2/5       37\n",
       "Etaj 2/6       44\n",
       "Etaj 2/7       23\n",
       "Etaj 2/8       54\n",
       "Etaj 2/9        9\n",
       "Etaj 3         44\n",
       "Etaj 3/10      54\n",
       "Etaj 3/11      19\n",
       "Etaj 3/12       1\n",
       "Etaj 3/3       76\n",
       "Etaj 3/4      335\n",
       "Etaj 3/5       73\n",
       "Etaj 3/6       61\n",
       "Etaj 3/7       24\n",
       "Etaj 3/8       55\n",
       "Etaj 3/9        7\n",
       "Etaj 4         24\n",
       "Etaj 4/10      50\n",
       "Etaj 4/11       3\n",
       "Etaj 4/12       1\n",
       "Etaj 4/4      237\n",
       "Etaj 4/5       47\n",
       "Etaj 4/6       51\n",
       "Etaj 4/7       12\n",
       "Etaj 4/8       38\n",
       "Etaj 4/9        7\n",
       "Name: floor, dtype: int64"
      ]
     },
     "execution_count": 19,
     "metadata": {},
     "output_type": "execute_result"
    }
   ],
   "source": [
    "df.groupby('floor')['floor'].count().head(-50)"
   ]
  },
  {
   "cell_type": "markdown",
   "metadata": {},
   "source": [
    "We can see that, first of all, I have a category 'Decomandat' that is specific to the feature 'partitioning'. In this case I want to see if at the indexes of this category the rows are swaped between the columns."
   ]
  },
  {
   "cell_type": "code",
   "execution_count": 20,
   "metadata": {},
   "outputs": [
    {
     "data": {
      "text/plain": [
       "[212, 4903]"
      ]
     },
     "execution_count": 20,
     "metadata": {},
     "output_type": "execute_result"
    }
   ],
   "source": [
    "df['floor'][df['floor'] == 'Decomandat'].index.tolist()"
   ]
  },
  {
   "cell_type": "code",
   "execution_count": 21,
   "metadata": {},
   "outputs": [
    {
     "name": "stdout",
     "output_type": "stream",
     "text": [
      "     currency       floor                  neighborhood new_building  \\\n",
      "212       EUR  Decomandat  Cluj-Napoca, zona Gheorgheni          NaN   \n",
      "4903      EUR  Decomandat    Cluj-Napoca, zona Bulgaria     Bloc nou   \n",
      "\n",
      "     partitioning  price        rooms     space  \n",
      "212           NaN  400.0     3 camere  Etaj 1/4  \n",
      "4903          NaN  499.0  75 mp utili  Etaj 3/4  \n"
     ]
    }
   ],
   "source": [
    "print(df.loc[[212, 4903]])"
   ]
  },
  {
   "cell_type": "markdown",
   "metadata": {},
   "source": [
    "We can see that in this case we also have swaped values, the values for 'floor' are at 'space' and the values for partitioning are at floor. So we need to swap these elements and I will consider the null values from partitioning to be from the feature 'space'. For resolving this issue I will implement a function and I will verify if the function was implemented as expected."
   ]
  },
  {
   "cell_type": "code",
   "execution_count": 22,
   "metadata": {},
   "outputs": [],
   "source": [
    "def switch_rows_floor(df, variable, element):\n",
    "    for content in df[variable]:\n",
    "        if element in content:\n",
    "            df[[variable,'space']] = df[['space',variable]].where(df[variable] == element, df[[variable,'space']].values)\n",
    "            df[['space','partitioning']] = df[['partitioning','space']].where(df['space'] == element, df[['space','partitioning']].values)"
   ]
  },
  {
   "cell_type": "code",
   "execution_count": 23,
   "metadata": {
    "scrolled": true
   },
   "outputs": [],
   "source": [
    "switch_rows_floor(df,'floor','Decomandat')"
   ]
  },
  {
   "cell_type": "code",
   "execution_count": 24,
   "metadata": {},
   "outputs": [
    {
     "name": "stdout",
     "output_type": "stream",
     "text": [
      "     currency     floor                  neighborhood new_building  \\\n",
      "212       EUR  Etaj 1/4  Cluj-Napoca, zona Gheorgheni          NaN   \n",
      "4903      EUR  Etaj 3/4    Cluj-Napoca, zona Bulgaria     Bloc nou   \n",
      "\n",
      "     partitioning  price        rooms space  \n",
      "212    Decomandat  400.0     3 camere   NaN  \n",
      "4903   Decomandat  499.0  75 mp utili   NaN  \n"
     ]
    }
   ],
   "source": [
    "print(df.loc[[212, 4903]])"
   ]
  },
  {
   "cell_type": "markdown",
   "metadata": {},
   "source": [
    "I managed to solve the issues above. Now I want to evaluate again the categories from 'floor' feature to see if I can find further issues."
   ]
  },
  {
   "cell_type": "code",
   "execution_count": 25,
   "metadata": {},
   "outputs": [
    {
     "data": {
      "text/plain": [
       "floor\n",
       "Demisol            5\n",
       "Demisol/1         10\n",
       "Demisol/2          8\n",
       "Demisol/3          3\n",
       "Demisol/4          5\n",
       "                  ..\n",
       "Parter/6          20\n",
       "Parter/7          16\n",
       "Parter/8          44\n",
       "Parter/9           4\n",
       "Semidecomandat     4\n",
       "Name: floor, Length: 107, dtype: int64"
      ]
     },
     "execution_count": 25,
     "metadata": {},
     "output_type": "execute_result"
    }
   ],
   "source": [
    "df.groupby('floor')['floor'].count().head(-1)"
   ]
  },
  {
   "cell_type": "markdown",
   "metadata": {},
   "source": [
    "We ca see that there are 4 rows with the category 'Semidecomandat' which is specific to the 'partitioning' feature. In this case I will do the same process as above. I will verify those rows and if their data is swaped I will implement the same function and verify if the changes were made properly. "
   ]
  },
  {
   "cell_type": "code",
   "execution_count": 26,
   "metadata": {
    "scrolled": true
   },
   "outputs": [
    {
     "data": {
      "text/plain": [
       "[1468, 2689, 3827, 4340]"
      ]
     },
     "execution_count": 26,
     "metadata": {},
     "output_type": "execute_result"
    }
   ],
   "source": [
    "df['floor'][df['floor'] == 'Semidecomandat'].index.tolist()"
   ]
  },
  {
   "cell_type": "code",
   "execution_count": 27,
   "metadata": {},
   "outputs": [
    {
     "name": "stdout",
     "output_type": "stream",
     "text": [
      "     currency           floor                  neighborhood new_building  \\\n",
      "1468      EUR  Semidecomandat   Cluj-Napoca, zona Bună Ziua          NaN   \n",
      "2689      EUR  Semidecomandat  Cluj-Napoca, zona Gheorgheni     Bloc nou   \n",
      "3827      EUR  Semidecomandat    Cluj-Napoca, zona Mănăştur     Bloc nou   \n",
      "4340      EUR  Semidecomandat     Cluj-Napoca, zona Zorilor     Bloc nou   \n",
      "\n",
      "     partitioning  price     rooms       space  \n",
      "1468          NaN  250.0  2 camere      Etaj 3  \n",
      "2689          NaN  350.0  2 camere    Etaj 1/4  \n",
      "3827          NaN  299.0  2 camere  Mansarda/4  \n",
      "4340          NaN  300.0  2 camere    Etaj 1/4  \n"
     ]
    }
   ],
   "source": [
    "print(df.loc[[1468, 2689, 3827, 4340]])"
   ]
  },
  {
   "cell_type": "code",
   "execution_count": 28,
   "metadata": {},
   "outputs": [],
   "source": [
    "switch_rows_floor(df,'floor','Semidecomandat')"
   ]
  },
  {
   "cell_type": "code",
   "execution_count": 29,
   "metadata": {
    "scrolled": false
   },
   "outputs": [
    {
     "name": "stdout",
     "output_type": "stream",
     "text": [
      "     currency       floor                  neighborhood new_building  \\\n",
      "1468      EUR      Etaj 3   Cluj-Napoca, zona Bună Ziua          NaN   \n",
      "2689      EUR    Etaj 1/4  Cluj-Napoca, zona Gheorgheni     Bloc nou   \n",
      "3827      EUR  Mansarda/4    Cluj-Napoca, zona Mănăştur     Bloc nou   \n",
      "4340      EUR    Etaj 1/4     Cluj-Napoca, zona Zorilor     Bloc nou   \n",
      "\n",
      "        partitioning  price     rooms space  \n",
      "1468  Semidecomandat  250.0  2 camere   NaN  \n",
      "2689  Semidecomandat  350.0  2 camere   NaN  \n",
      "3827  Semidecomandat  299.0  2 camere   NaN  \n",
      "4340  Semidecomandat  300.0  2 camere   NaN  \n"
     ]
    }
   ],
   "source": [
    "print(df.loc[[1468, 2689, 3827, 4340]])"
   ]
  },
  {
   "cell_type": "code",
   "execution_count": 30,
   "metadata": {},
   "outputs": [
    {
     "data": {
      "text/plain": [
       "floor\n",
       "Demisol        5\n",
       "Demisol/1     10\n",
       "Demisol/2      8\n",
       "Demisol/3      3\n",
       "Demisol/4      5\n",
       "Demisol/5      2\n",
       "Etaj 1        66\n",
       "Etaj 1/1     122\n",
       "Etaj 1/10     62\n",
       "Etaj 1/11     10\n",
       "Name: floor, dtype: int64"
      ]
     },
     "execution_count": 30,
     "metadata": {},
     "output_type": "execute_result"
    }
   ],
   "source": [
    "df.groupby('floor')['floor'].count().head(10)"
   ]
  },
  {
   "cell_type": "markdown",
   "metadata": {},
   "source": [
    "As we see above there are many categories in this column. My main aim here is to filter them so that the categories are represented in a proper way. First I will consider all the categories that are '0' as 'Demisol' wich is the floor below the first floor."
   ]
  },
  {
   "cell_type": "code",
   "execution_count": 31,
   "metadata": {
    "scrolled": true
   },
   "outputs": [],
   "source": [
    "df.loc[df['floor'].str.contains('0'), 'floor'] = 'Demisol'"
   ]
  },
  {
   "cell_type": "code",
   "execution_count": 32,
   "metadata": {},
   "outputs": [
    {
     "data": {
      "text/plain": [
       "Demisol               626\n",
       "Etaj 1/4              345\n",
       "Etaj 3/4              336\n",
       "Etaj 2/4              327\n",
       "Parter/4              301\n",
       "                     ... \n",
       "Ultimele 2 etaje/4      2\n",
       "Demisol/5               2\n",
       "Etaj 12/12              1\n",
       "Mansarda/7              1\n",
       "Etaj 3/12               1\n",
       "Name: floor, Length: 91, dtype: int64"
      ]
     },
     "execution_count": 32,
     "metadata": {},
     "output_type": "execute_result"
    }
   ],
   "source": [
    "df['floor'].value_counts().head(-1)"
   ]
  },
  {
   "cell_type": "code",
   "execution_count": 33,
   "metadata": {},
   "outputs": [],
   "source": [
    "df.loc[df['floor'].str.contains('/'), 'floor'] = df['floor'].str.split('/').str[0]"
   ]
  },
  {
   "cell_type": "code",
   "execution_count": 40,
   "metadata": {
    "scrolled": true
   },
   "outputs": [
    {
     "data": {
      "text/plain": [
       "floor\n",
       "Demisol              654\n",
       "Etaj 1              1042\n",
       "Etaj 11                6\n",
       "Etaj 12                1\n",
       "Etaj 2               834\n",
       "Etaj 3               697\n",
       "Etaj 4               420\n",
       "Etaj 5               169\n",
       "Etaj 6               118\n",
       "Etaj 7                98\n",
       "Etaj 8                57\n",
       "Etaj 9                23\n",
       "Mansarda              54\n",
       "Parter               827\n",
       "Ultimele 2 etaje       2\n",
       "Name: floor, dtype: int64"
      ]
     },
     "execution_count": 40,
     "metadata": {},
     "output_type": "execute_result"
    }
   ],
   "source": [
    "df.groupby('floor')['floor'].count()"
   ]
  },
  {
   "cell_type": "code",
   "execution_count": 42,
   "metadata": {},
   "outputs": [
    {
     "data": {
      "text/plain": [
       "Etaj 1              1042\n",
       "Etaj 2               834\n",
       "Parter               827\n",
       "Etaj 3               697\n",
       "Demisol              654\n",
       "Etaj 4               420\n",
       "Etaj 5               169\n",
       "Etaj 6               118\n",
       "Etaj 7                98\n",
       "Etaj 8                57\n",
       "Mansarda              54\n",
       "Etaj 9                23\n",
       "Etaj 11                6\n",
       "Ultimele 2 etaje       2\n",
       "Etaj 12                1\n",
       "Name: floor, dtype: int64"
      ]
     },
     "execution_count": 42,
     "metadata": {},
     "output_type": "execute_result"
    }
   ],
   "source": [
    "df['floor'].value_counts()"
   ]
  },
  {
   "cell_type": "markdown",
   "metadata": {},
   "source": [
    "I also have the category 'Ultimele 2 etaje' that was 'Ultimele 2 etaje/4' as be saw above and I will consider it as second floor."
   ]
  },
  {
   "cell_type": "code",
   "execution_count": 43,
   "metadata": {},
   "outputs": [],
   "source": [
    "df.loc[df['floor'].str.contains('Ultimele 2 etaje'), 'floor'] = 'Etaj 2'"
   ]
  },
  {
   "cell_type": "code",
   "execution_count": 44,
   "metadata": {},
   "outputs": [
    {
     "data": {
      "text/plain": [
       "array(['Etaj 5', 'Demisol', 'Etaj 3', 'Parter', 'Etaj 1', 'Etaj 4',\n",
       "       'Etaj 2', 'Etaj 6', 'Mansarda', 'Etaj 8', 'Etaj 9', 'Etaj 7',\n",
       "       'Etaj 11', 'Etaj 12'], dtype=object)"
      ]
     },
     "execution_count": 44,
     "metadata": {},
     "output_type": "execute_result"
    }
   ],
   "source": [
    "df['floor'].unique()"
   ]
  },
  {
   "cell_type": "markdown",
   "metadata": {},
   "source": [
    "My next step is to clean up the data from the feature 'neighborhood'. I will start with verifying the different categories of this feature.  "
   ]
  },
  {
   "cell_type": "code",
   "execution_count": 45,
   "metadata": {
    "scrolled": true
   },
   "outputs": [
    {
     "data": {
      "text/plain": [
       "neighborhood\n",
       "Cluj-Napoca, zona Aeroport                 4\n",
       "Cluj-Napoca, zona Andrei Muresanu          4\n",
       "Cluj-Napoca, zona Andrei Mureşanu        121\n",
       "Cluj-Napoca, zona Aurel Vlaicu             7\n",
       "Cluj-Napoca, zona Baciu                    2\n",
       "Cluj-Napoca, zona Borhanci                47\n",
       "Cluj-Napoca, zona Bulgaria                10\n",
       "Cluj-Napoca, zona Buna Ziua               11\n",
       "Cluj-Napoca, zona Bună Ziua              244\n",
       "Cluj-Napoca, zona Calea Turzii            36\n",
       "Cluj-Napoca, zona Central                765\n",
       "Cluj-Napoca, zona Cordos                   1\n",
       "Cluj-Napoca, zona Câmpului                 6\n",
       "Cluj-Napoca, zona Dâmbul Rotund           17\n",
       "Cluj-Napoca, zona Europa                 109\n",
       "Cluj-Napoca, zona Exterior Vest            1\n",
       "Cluj-Napoca, zona Gară                    26\n",
       "Cluj-Napoca, zona Gheorgheni             855\n",
       "Cluj-Napoca, zona Grigorescu             185\n",
       "Cluj-Napoca, zona Gruia                   27\n",
       "Cluj-Napoca, zona Haşdeu                  14\n",
       "Cluj-Napoca, zona Horea                   19\n",
       "Cluj-Napoca, zona Intre Lacuri             6\n",
       "Cluj-Napoca, zona Iris                    56\n",
       "Cluj-Napoca, zona Manastur                24\n",
       "Cluj-Napoca, zona Marasti                 48\n",
       "Cluj-Napoca, zona Mănăştur               522\n",
       "Cluj-Napoca, zona Mărăşti                672\n",
       "Cluj-Napoca, zona P-ta Mihai Viteazul      1\n",
       "Cluj-Napoca, zona P-ţa Mihai Viteazul     52\n",
       "Cluj-Napoca, zona Plopilor               107\n",
       "Cluj-Napoca, zona Semicentral            159\n",
       "Cluj-Napoca, zona Someşeni                15\n",
       "Cluj-Napoca, zona Sopor                   26\n",
       "Cluj-Napoca, zona Ultracentral            95\n",
       "Cluj-Napoca, zona Zorilor                559\n",
       "Cluj-Napoca, zona Între Lacuri           149\n",
       "Name: neighborhood, dtype: int64"
      ]
     },
     "execution_count": 45,
     "metadata": {},
     "output_type": "execute_result"
    }
   ],
   "source": [
    "df.groupby('neighborhood')['neighborhood'].count()"
   ]
  },
  {
   "cell_type": "markdown",
   "metadata": {},
   "source": [
    "We can see that all the categories begin with 'Cluj-Napoca, zona ' and I can drop it. Other aspect that I observe is that some neighborhoods have duplicates and that is because their duplicates contain diacritics used in romanian language. Because of this I want to replace them with the name without those diacritics."
   ]
  },
  {
   "cell_type": "code",
   "execution_count": 46,
   "metadata": {},
   "outputs": [],
   "source": [
    "df['neighborhood'] = df['neighborhood'].str[18:]"
   ]
  },
  {
   "cell_type": "code",
   "execution_count": 47,
   "metadata": {},
   "outputs": [],
   "source": [
    "df['neighborhood'].replace(to_replace=['Andrei Mureşanu', 'Bună Ziua', 'Câmpului', 'Dâmbul Rotund', 'Gară', 'Haşdeu', 'Între Lacuri', 'Mărăşti', 'Mănăştur', 'P-ţa Mihai Viteazul', 'Someşeni'],\n",
    "           value= ['Andrei Muresanu', 'Buna Ziua', 'Campului', 'Dambul Rotund','Gara', 'Hasdeu', 'Intre Lacuri', 'Marasti', 'Manastur', 'P-ta Mihai Viteazul', 'Someseni'], \n",
    "           inplace=True)"
   ]
  },
  {
   "cell_type": "code",
   "execution_count": 48,
   "metadata": {
    "scrolled": true
   },
   "outputs": [
    {
     "data": {
      "text/plain": [
       "neighborhood\n",
       "Aeroport                 4\n",
       "Andrei Muresanu        125\n",
       "Aurel Vlaicu             7\n",
       "Baciu                    2\n",
       "Borhanci                47\n",
       "Bulgaria                10\n",
       "Buna Ziua              255\n",
       "Calea Turzii            36\n",
       "Campului                 6\n",
       "Central                765\n",
       "Cordos                   1\n",
       "Dambul Rotund           17\n",
       "Europa                 109\n",
       "Exterior Vest            1\n",
       "Gara                    26\n",
       "Gheorgheni             855\n",
       "Grigorescu             185\n",
       "Gruia                   27\n",
       "Hasdeu                  14\n",
       "Horea                   19\n",
       "Intre Lacuri           155\n",
       "Iris                    56\n",
       "Manastur               546\n",
       "Marasti                720\n",
       "P-ta Mihai Viteazul     53\n",
       "Plopilor               107\n",
       "Semicentral            159\n",
       "Someseni                15\n",
       "Sopor                   26\n",
       "Ultracentral            95\n",
       "Zorilor                559\n",
       "Name: neighborhood, dtype: int64"
      ]
     },
     "execution_count": 48,
     "metadata": {},
     "output_type": "execute_result"
    }
   ],
   "source": [
    "df.groupby('neighborhood')['neighborhood'].count()"
   ]
  },
  {
   "cell_type": "markdown",
   "metadata": {},
   "source": [
    "Next step I want to evalute the feature 'new_buiding' and I want to start with seeing it's categories."
   ]
  },
  {
   "cell_type": "code",
   "execution_count": 49,
   "metadata": {
    "scrolled": true
   },
   "outputs": [
    {
     "data": {
      "text/plain": [
       "new_building\n",
       "Bloc nou      1471\n",
       "Imobil nou      90\n",
       "Name: new_building, dtype: int64"
      ]
     },
     "execution_count": 49,
     "metadata": {},
     "output_type": "execute_result"
    }
   ],
   "source": [
    "df.groupby('new_building')['new_building'].count()"
   ]
  },
  {
   "cell_type": "markdown",
   "metadata": {},
   "source": [
    "The category 'Imobil nou' it's the same thing as 'Bloc nou', so I will replace 'Bloc nou' with 'Imobil nou', but first I need to manage the missing values. So as I said above, in this case, I want to replace the missing values with 'Imobil vechi', because, from where I scraped the data and with the help of which I built my dataset, only the new buildings were tagged as 'Imobil nou' the other ones didn't have any labels. So I will consider them 'Imobil vechi'."
   ]
  },
  {
   "cell_type": "code",
   "execution_count": 50,
   "metadata": {},
   "outputs": [
    {
     "data": {
      "text/plain": [
       "3441"
      ]
     },
     "execution_count": 50,
     "metadata": {},
     "output_type": "execute_result"
    }
   ],
   "source": [
    "df['new_building'].isnull().sum()"
   ]
  },
  {
   "cell_type": "code",
   "execution_count": 51,
   "metadata": {},
   "outputs": [],
   "source": [
    "df['new_building'] = df['new_building'].fillna('Imobil vechi')"
   ]
  },
  {
   "cell_type": "markdown",
   "metadata": {},
   "source": [
    "The category 'Imobil nou' it's the same thing as 'Bloc nou', so I will replace it with 'Bloc nou'."
   ]
  },
  {
   "cell_type": "code",
   "execution_count": 52,
   "metadata": {},
   "outputs": [],
   "source": [
    "df.loc[df['new_building'].str.contains('Bloc nou'), 'new_building'] = 'Imobil nou'"
   ]
  },
  {
   "cell_type": "code",
   "execution_count": 53,
   "metadata": {},
   "outputs": [
    {
     "data": {
      "text/plain": [
       "new_building\n",
       "Imobil nou      1561\n",
       "Imobil vechi    3441\n",
       "Name: new_building, dtype: int64"
      ]
     },
     "execution_count": 53,
     "metadata": {},
     "output_type": "execute_result"
    }
   ],
   "source": [
    "df.groupby('new_building')['new_building'].count()"
   ]
  },
  {
   "cell_type": "markdown",
   "metadata": {},
   "source": [
    "For 'rooms' feature I want to start in the same manner by verifying its categories. In the first part of my analysis I'm considering it as a discrete value because it will help me in my process of removing the outliers but after that I am considering it as a categorical feature when I'm going to prepare my data for building the model."
   ]
  },
  {
   "cell_type": "code",
   "execution_count": 54,
   "metadata": {
    "scrolled": true
   },
   "outputs": [
    {
     "data": {
      "text/plain": [
       "2 camere       2771\n",
       "3 camere       1222\n",
       "o cameră        802\n",
       "4 camere        185\n",
       "5 camere         16\n",
       "6 camere          2\n",
       "50 camere         1\n",
       "75 mp utili       1\n",
       "7 camere          1\n",
       "11 camere         1\n",
       "Name: rooms, dtype: int64"
      ]
     },
     "execution_count": 54,
     "metadata": {},
     "output_type": "execute_result"
    }
   ],
   "source": [
    "df['rooms'].value_counts()"
   ]
  },
  {
   "cell_type": "markdown",
   "metadata": {},
   "source": [
    "We can see that I have a category with '75 mp utili' and I suspect it is another case of swaped column values in a row. I also want to extract only the number of rooms and get rid of the word 'camere'. I also noticed that I have the category 'o cameră' which means one room and I want to replace it with 1."
   ]
  },
  {
   "cell_type": "code",
   "execution_count": 55,
   "metadata": {},
   "outputs": [
    {
     "data": {
      "text/plain": [
       "[4903]"
      ]
     },
     "execution_count": 55,
     "metadata": {},
     "output_type": "execute_result"
    }
   ],
   "source": [
    "df['rooms'][df['rooms'] == '75 mp utili'].index.tolist()"
   ]
  },
  {
   "cell_type": "code",
   "execution_count": 56,
   "metadata": {},
   "outputs": [
    {
     "name": "stdout",
     "output_type": "stream",
     "text": [
      "     currency   floor neighborhood new_building partitioning  price  \\\n",
      "4903      EUR  Etaj 3     Bulgaria   Imobil nou   Decomandat  499.0   \n",
      "\n",
      "            rooms space  \n",
      "4903  75 mp utili   NaN  \n"
     ]
    }
   ],
   "source": [
    "print(df.loc[[4903]])"
   ]
  },
  {
   "cell_type": "code",
   "execution_count": 57,
   "metadata": {},
   "outputs": [],
   "source": [
    "df[['rooms','space']] = df[['space','rooms']].where(df['rooms'] == '75 mp utili', df[['rooms','space']].values)"
   ]
  },
  {
   "cell_type": "code",
   "execution_count": 58,
   "metadata": {},
   "outputs": [],
   "source": [
    "df['rooms'] = df['rooms'].str[:-7]"
   ]
  },
  {
   "cell_type": "code",
   "execution_count": 59,
   "metadata": {},
   "outputs": [
    {
     "data": {
      "text/plain": [
       "1"
      ]
     },
     "execution_count": 59,
     "metadata": {},
     "output_type": "execute_result"
    }
   ],
   "source": [
    "df['rooms'].isnull().sum()"
   ]
  },
  {
   "cell_type": "markdown",
   "metadata": {},
   "source": [
    "Because I swaped at the index 4903 the value of the columns I got a null value in my room feature so I want to fill it with the most frequent number of rooms in the dataset. "
   ]
  },
  {
   "cell_type": "code",
   "execution_count": 60,
   "metadata": {},
   "outputs": [],
   "source": [
    "df['rooms'] = df['rooms'].fillna(df['rooms'].mode()[0]) "
   ]
  },
  {
   "cell_type": "code",
   "execution_count": 61,
   "metadata": {},
   "outputs": [
    {
     "data": {
      "text/plain": [
       "0"
      ]
     },
     "execution_count": 61,
     "metadata": {},
     "output_type": "execute_result"
    }
   ],
   "source": [
    "df['rooms'].isnull().sum()"
   ]
  },
  {
   "cell_type": "code",
   "execution_count": 62,
   "metadata": {},
   "outputs": [],
   "source": [
    "df.loc[df['rooms'].str.contains('o'), 'rooms'] = '1'"
   ]
  },
  {
   "cell_type": "code",
   "execution_count": 63,
   "metadata": {},
   "outputs": [
    {
     "data": {
      "text/plain": [
       "2     2772\n",
       "3     1222\n",
       "1      802\n",
       "4      185\n",
       "5       16\n",
       "6        2\n",
       "11       1\n",
       "7        1\n",
       "50       1\n",
       "Name: rooms, dtype: int64"
      ]
     },
     "execution_count": 63,
     "metadata": {},
     "output_type": "execute_result"
    }
   ],
   "source": [
    "df['rooms'].value_counts()"
   ]
  },
  {
   "cell_type": "code",
   "execution_count": 64,
   "metadata": {},
   "outputs": [],
   "source": [
    "df['rooms'] = df['rooms'].astype(float).astype(int)"
   ]
  },
  {
   "cell_type": "markdown",
   "metadata": {},
   "source": [
    "For the feature 'space' I want to see how the its values. Based on the data above the values seem to have measurement unit names because they present, along with the values, the measure of the space of each apartment but if they are the same unit of measurement I will keep only the values."
   ]
  },
  {
   "cell_type": "code",
   "execution_count": 65,
   "metadata": {
    "scrolled": true
   },
   "outputs": [
    {
     "data": {
      "text/plain": [
       "space\n",
       "1 mp utili         1\n",
       "100 mp utili      66\n",
       "101 mp utili       1\n",
       "103 mp utili       3\n",
       "104 mp utili       3\n",
       "105 mp utili       9\n",
       "106 mp utili       1\n",
       "109 mp utili       2\n",
       "11 mp utili        3\n",
       "110 mp utili      20\n",
       "117 mp utili       2\n",
       "118 mp utili       3\n",
       "119 mp utili       1\n",
       "120 mp utili      19\n",
       "125 mp utili       3\n",
       "127 mp utili       1\n",
       "130 mp utili       7\n",
       "131 mp utili       2\n",
       "134 mp utili       1\n",
       "135 mp utili       2\n",
       "136 mp utili       4\n",
       "138 mp utili       1\n",
       "14 mp utili        1\n",
       "140 mp utili       6\n",
       "145 mp utili       1\n",
       "146 mp utili       1\n",
       "150 mp utili       9\n",
       "160 mp utili       2\n",
       "162 mp utili       1\n",
       "170 mp utili       2\n",
       "175 mp utili       3\n",
       "180 mp utili       4\n",
       "189 mp utili       1\n",
       "19 mp utili        1\n",
       "20 mp utili        8\n",
       "20.37 mp utili     1\n",
       "200 mp utili       6\n",
       "21 mp utili        8\n",
       "210 mp utili       1\n",
       "22 mp utili       25\n",
       "Name: space, dtype: int64"
      ]
     },
     "execution_count": 65,
     "metadata": {},
     "output_type": "execute_result"
    }
   ],
   "source": [
    "df.groupby('space')['space'].count().head(40)"
   ]
  },
  {
   "cell_type": "code",
   "execution_count": 66,
   "metadata": {},
   "outputs": [],
   "source": [
    "df['space'] = df['space'].str[:-9]"
   ]
  },
  {
   "cell_type": "markdown",
   "metadata": {},
   "source": [
    "After all the swaping I did above I want to see if I have null values in my 'space' feature."
   ]
  },
  {
   "cell_type": "code",
   "execution_count": 67,
   "metadata": {},
   "outputs": [
    {
     "data": {
      "text/plain": [
       "5"
      ]
     },
     "execution_count": 67,
     "metadata": {},
     "output_type": "execute_result"
    }
   ],
   "source": [
    "df['space'].isnull().sum()"
   ]
  },
  {
   "cell_type": "markdown",
   "metadata": {},
   "source": [
    "I have 5 null values and because there are not that many and as a result I want to fill them the median value of the whole feature. "
   ]
  },
  {
   "cell_type": "code",
   "execution_count": 68,
   "metadata": {},
   "outputs": [],
   "source": [
    "df['space'] = df['space'].fillna(df['space'].median()) "
   ]
  },
  {
   "cell_type": "code",
   "execution_count": 69,
   "metadata": {},
   "outputs": [
    {
     "data": {
      "text/plain": [
       "0"
      ]
     },
     "execution_count": 69,
     "metadata": {},
     "output_type": "execute_result"
    }
   ],
   "source": [
    "df['space'].isnull().sum()"
   ]
  },
  {
   "cell_type": "markdown",
   "metadata": {},
   "source": [
    "In this case I want the values of this feature to be floating number because they are continuous variables that represent the size of each apartment."
   ]
  },
  {
   "cell_type": "code",
   "execution_count": 70,
   "metadata": {
    "scrolled": false
   },
   "outputs": [],
   "source": [
    "df['space'] = df['space'].astype(float)"
   ]
  },
  {
   "cell_type": "markdown",
   "metadata": {},
   "source": [
    "'Price' feature represents our dependent variable, a continuous one, and I want to change its type to float. Also I want to identify the rows that the price of the rent is presented in the currency 'RON' and I want to change it in euros because, as we saw above, the majority of the prices are presented in euros and it will be more precise in this way. For this change I will be taking into account the value of 1 euro in romanian currency and I will consider it 4.875 ron/euro because the biggest values in the past three months was 4.8733 and in the present moment is 4.8715 so I want to take into account also a small error that can take place by the fluctuation of the exchange rate. This can be checked at this [exchange rate site](https://www.cursbnr.ro/)."
   ]
  },
  {
   "cell_type": "code",
   "execution_count": 71,
   "metadata": {},
   "outputs": [],
   "source": [
    "df['price']=df['price'].astype(float)"
   ]
  },
  {
   "cell_type": "code",
   "execution_count": 72,
   "metadata": {},
   "outputs": [
    {
     "data": {
      "text/plain": [
       "[175, 177, 1952, 2213, 2694, 2985, 4176, 4854]"
      ]
     },
     "execution_count": 72,
     "metadata": {},
     "output_type": "execute_result"
    }
   ],
   "source": [
    "df['currency'][df['currency'] == 'RON'].index.tolist()"
   ]
  },
  {
   "cell_type": "code",
   "execution_count": 73,
   "metadata": {
    "scrolled": false
   },
   "outputs": [
    {
     "name": "stdout",
     "output_type": "stream",
     "text": [
      "     currency    floor     neighborhood  new_building    partitioning   price  \\\n",
      "175       RON   Etaj 1             Iris    Imobil nou      Decomandat  2400.0   \n",
      "177       RON   Etaj 2             Iris  Imobil vechi  Semidecomandat  1450.0   \n",
      "1952      RON  Demisol          Central  Imobil vechi      Decomandat  1350.0   \n",
      "2213      RON   Etaj 2          Marasti  Imobil vechi  Semidecomandat  1000.0   \n",
      "2694      RON   Etaj 3          Marasti  Imobil vechi  Semidecomandat  2000.0   \n",
      "2985      RON  Demisol         Manastur  Imobil vechi      Decomandat  1500.0   \n",
      "4176      RON   Etaj 4  Andrei Muresanu  Imobil vechi      Decomandat  1850.0   \n",
      "4854      RON  Demisol       Gheorgheni  Imobil vechi             NaN  1000.0   \n",
      "\n",
      "      rooms  space  \n",
      "175       2   55.0  \n",
      "177       1   28.0  \n",
      "1952      1   35.0  \n",
      "2213      1   28.0  \n",
      "2694      3   64.0  \n",
      "2985      2   52.0  \n",
      "4176      2   60.0  \n",
      "4854      1   28.0  \n"
     ]
    }
   ],
   "source": [
    "print(df.loc[[175, 177, 1952, 2213, 2694, 2985, 4176, 4854]])"
   ]
  },
  {
   "cell_type": "code",
   "execution_count": 74,
   "metadata": {},
   "outputs": [],
   "source": [
    "df['price'] = (df['price']/float(4.875)).round().where(df['currency'] == 'RON', df['price'])"
   ]
  },
  {
   "cell_type": "code",
   "execution_count": 75,
   "metadata": {},
   "outputs": [
    {
     "name": "stdout",
     "output_type": "stream",
     "text": [
      "     currency    floor     neighborhood  new_building    partitioning  price  \\\n",
      "175       RON   Etaj 1             Iris    Imobil nou      Decomandat  492.0   \n",
      "177       RON   Etaj 2             Iris  Imobil vechi  Semidecomandat  297.0   \n",
      "1952      RON  Demisol          Central  Imobil vechi      Decomandat  277.0   \n",
      "2213      RON   Etaj 2          Marasti  Imobil vechi  Semidecomandat  205.0   \n",
      "2694      RON   Etaj 3          Marasti  Imobil vechi  Semidecomandat  410.0   \n",
      "2985      RON  Demisol         Manastur  Imobil vechi      Decomandat  308.0   \n",
      "4176      RON   Etaj 4  Andrei Muresanu  Imobil vechi      Decomandat  379.0   \n",
      "4854      RON  Demisol       Gheorgheni  Imobil vechi             NaN  205.0   \n",
      "\n",
      "      rooms  space  \n",
      "175       2   55.0  \n",
      "177       1   28.0  \n",
      "1952      1   35.0  \n",
      "2213      1   28.0  \n",
      "2694      3   64.0  \n",
      "2985      2   52.0  \n",
      "4176      2   60.0  \n",
      "4854      1   28.0  \n"
     ]
    }
   ],
   "source": [
    "print(df.loc[[175, 177, 1952, 2213, 2694, 2985, 4176, 4854]])"
   ]
  },
  {
   "cell_type": "markdown",
   "metadata": {},
   "source": [
    "After I used the 'RON' category to change its corresponding price into euros I wantto change the name of this category in 'EUR'."
   ]
  },
  {
   "cell_type": "code",
   "execution_count": 76,
   "metadata": {},
   "outputs": [],
   "source": [
    "df.loc[df['currency'].str.contains('RON'), 'currency'] = 'EUR'"
   ]
  },
  {
   "cell_type": "code",
   "execution_count": 77,
   "metadata": {},
   "outputs": [
    {
     "data": {
      "text/plain": [
       "currency\n",
       "EUR    5002\n",
       "Name: currency, dtype: int64"
      ]
     },
     "execution_count": 77,
     "metadata": {},
     "output_type": "execute_result"
    }
   ],
   "source": [
    "df.groupby('currency')['currency'].count()"
   ]
  },
  {
   "cell_type": "markdown",
   "metadata": {},
   "source": [
    "I want to see if I have some null values left so above I'm checking this thing."
   ]
  },
  {
   "cell_type": "code",
   "execution_count": 78,
   "metadata": {
    "scrolled": false
   },
   "outputs": [
    {
     "data": {
      "text/plain": [
       "currency         0\n",
       "floor            0\n",
       "neighborhood     0\n",
       "new_building     0\n",
       "partitioning    75\n",
       "price            0\n",
       "rooms            0\n",
       "space            0\n",
       "dtype: int64"
      ]
     },
     "execution_count": 78,
     "metadata": {},
     "output_type": "execute_result"
    }
   ],
   "source": [
    "df.isnull().sum()"
   ]
  },
  {
   "cell_type": "markdown",
   "metadata": {},
   "source": [
    "My 'partitioning' feature has 75 null values and, because I don't have many missing values, I can resolve this issue by filling them with the most frequent category of this feature. "
   ]
  },
  {
   "cell_type": "code",
   "execution_count": 79,
   "metadata": {
    "scrolled": true
   },
   "outputs": [
    {
     "data": {
      "text/plain": [
       "Semidecomandat    2512\n",
       "Decomandat        2348\n",
       "Nedecomandat        50\n",
       "Circular             9\n",
       "Vagon                8\n",
       "Name: partitioning, dtype: int64"
      ]
     },
     "execution_count": 79,
     "metadata": {},
     "output_type": "execute_result"
    }
   ],
   "source": [
    "df['partitioning'].value_counts()"
   ]
  },
  {
   "cell_type": "code",
   "execution_count": 80,
   "metadata": {},
   "outputs": [],
   "source": [
    "df['partitioning'] = df['partitioning'].fillna(df['partitioning'].mode().iloc[0])"
   ]
  },
  {
   "cell_type": "code",
   "execution_count": 81,
   "metadata": {},
   "outputs": [
    {
     "data": {
      "text/plain": [
       "currency        0\n",
       "floor           0\n",
       "neighborhood    0\n",
       "new_building    0\n",
       "partitioning    0\n",
       "price           0\n",
       "rooms           0\n",
       "space           0\n",
       "dtype: int64"
      ]
     },
     "execution_count": 81,
     "metadata": {},
     "output_type": "execute_result"
    }
   ],
   "source": [
    "df.isnull().sum()"
   ]
  },
  {
   "cell_type": "code",
   "execution_count": 82,
   "metadata": {},
   "outputs": [
    {
     "data": {
      "text/html": [
       "<div>\n",
       "<style scoped>\n",
       "    .dataframe tbody tr th:only-of-type {\n",
       "        vertical-align: middle;\n",
       "    }\n",
       "\n",
       "    .dataframe tbody tr th {\n",
       "        vertical-align: top;\n",
       "    }\n",
       "\n",
       "    .dataframe thead th {\n",
       "        text-align: right;\n",
       "    }\n",
       "</style>\n",
       "<table border=\"1\" class=\"dataframe\">\n",
       "  <thead>\n",
       "    <tr style=\"text-align: right;\">\n",
       "      <th></th>\n",
       "      <th>currency</th>\n",
       "      <th>floor</th>\n",
       "      <th>neighborhood</th>\n",
       "      <th>new_building</th>\n",
       "      <th>partitioning</th>\n",
       "      <th>price</th>\n",
       "      <th>rooms</th>\n",
       "      <th>space</th>\n",
       "    </tr>\n",
       "  </thead>\n",
       "  <tbody>\n",
       "    <tr>\n",
       "      <th>0</th>\n",
       "      <td>EUR</td>\n",
       "      <td>Etaj 5</td>\n",
       "      <td>Central</td>\n",
       "      <td>Imobil vechi</td>\n",
       "      <td>Semidecomandat</td>\n",
       "      <td>400.0</td>\n",
       "      <td>2</td>\n",
       "      <td>58.5</td>\n",
       "    </tr>\n",
       "    <tr>\n",
       "      <th>1</th>\n",
       "      <td>EUR</td>\n",
       "      <td>Demisol</td>\n",
       "      <td>Manastur</td>\n",
       "      <td>Imobil vechi</td>\n",
       "      <td>Semidecomandat</td>\n",
       "      <td>280.0</td>\n",
       "      <td>2</td>\n",
       "      <td>52.0</td>\n",
       "    </tr>\n",
       "    <tr>\n",
       "      <th>2</th>\n",
       "      <td>EUR</td>\n",
       "      <td>Etaj 3</td>\n",
       "      <td>Zorilor</td>\n",
       "      <td>Imobil nou</td>\n",
       "      <td>Semidecomandat</td>\n",
       "      <td>400.0</td>\n",
       "      <td>3</td>\n",
       "      <td>84.0</td>\n",
       "    </tr>\n",
       "    <tr>\n",
       "      <th>3</th>\n",
       "      <td>EUR</td>\n",
       "      <td>Parter</td>\n",
       "      <td>Gheorgheni</td>\n",
       "      <td>Imobil vechi</td>\n",
       "      <td>Semidecomandat</td>\n",
       "      <td>400.0</td>\n",
       "      <td>3</td>\n",
       "      <td>65.0</td>\n",
       "    </tr>\n",
       "    <tr>\n",
       "      <th>4</th>\n",
       "      <td>EUR</td>\n",
       "      <td>Etaj 1</td>\n",
       "      <td>Zorilor</td>\n",
       "      <td>Imobil nou</td>\n",
       "      <td>Decomandat</td>\n",
       "      <td>420.0</td>\n",
       "      <td>2</td>\n",
       "      <td>55.0</td>\n",
       "    </tr>\n",
       "  </tbody>\n",
       "</table>\n",
       "</div>"
      ],
      "text/plain": [
       "  currency    floor neighborhood  new_building    partitioning  price  rooms  \\\n",
       "0      EUR   Etaj 5      Central  Imobil vechi  Semidecomandat  400.0      2   \n",
       "1      EUR  Demisol     Manastur  Imobil vechi  Semidecomandat  280.0      2   \n",
       "2      EUR   Etaj 3      Zorilor    Imobil nou  Semidecomandat  400.0      3   \n",
       "3      EUR   Parter   Gheorgheni  Imobil vechi  Semidecomandat  400.0      3   \n",
       "4      EUR   Etaj 1      Zorilor    Imobil nou      Decomandat  420.0      2   \n",
       "\n",
       "   space  \n",
       "0   58.5  \n",
       "1   52.0  \n",
       "2   84.0  \n",
       "3   65.0  \n",
       "4   55.0  "
      ]
     },
     "execution_count": 82,
     "metadata": {},
     "output_type": "execute_result"
    }
   ],
   "source": [
    "df.head()"
   ]
  },
  {
   "cell_type": "markdown",
   "metadata": {},
   "source": [
    "After I used the feature 'currency' to change the prices from lei to euro, I'm going to drop it. "
   ]
  },
  {
   "cell_type": "code",
   "execution_count": 83,
   "metadata": {},
   "outputs": [
    {
     "data": {
      "text/html": [
       "<div>\n",
       "<style scoped>\n",
       "    .dataframe tbody tr th:only-of-type {\n",
       "        vertical-align: middle;\n",
       "    }\n",
       "\n",
       "    .dataframe tbody tr th {\n",
       "        vertical-align: top;\n",
       "    }\n",
       "\n",
       "    .dataframe thead th {\n",
       "        text-align: right;\n",
       "    }\n",
       "</style>\n",
       "<table border=\"1\" class=\"dataframe\">\n",
       "  <thead>\n",
       "    <tr style=\"text-align: right;\">\n",
       "      <th></th>\n",
       "      <th>floor</th>\n",
       "      <th>neighborhood</th>\n",
       "      <th>new_building</th>\n",
       "      <th>partitioning</th>\n",
       "      <th>price</th>\n",
       "      <th>rooms</th>\n",
       "      <th>space</th>\n",
       "    </tr>\n",
       "  </thead>\n",
       "  <tbody>\n",
       "    <tr>\n",
       "      <th>0</th>\n",
       "      <td>Etaj 5</td>\n",
       "      <td>Central</td>\n",
       "      <td>Imobil vechi</td>\n",
       "      <td>Semidecomandat</td>\n",
       "      <td>400.0</td>\n",
       "      <td>2</td>\n",
       "      <td>58.5</td>\n",
       "    </tr>\n",
       "    <tr>\n",
       "      <th>1</th>\n",
       "      <td>Demisol</td>\n",
       "      <td>Manastur</td>\n",
       "      <td>Imobil vechi</td>\n",
       "      <td>Semidecomandat</td>\n",
       "      <td>280.0</td>\n",
       "      <td>2</td>\n",
       "      <td>52.0</td>\n",
       "    </tr>\n",
       "    <tr>\n",
       "      <th>2</th>\n",
       "      <td>Etaj 3</td>\n",
       "      <td>Zorilor</td>\n",
       "      <td>Imobil nou</td>\n",
       "      <td>Semidecomandat</td>\n",
       "      <td>400.0</td>\n",
       "      <td>3</td>\n",
       "      <td>84.0</td>\n",
       "    </tr>\n",
       "    <tr>\n",
       "      <th>3</th>\n",
       "      <td>Parter</td>\n",
       "      <td>Gheorgheni</td>\n",
       "      <td>Imobil vechi</td>\n",
       "      <td>Semidecomandat</td>\n",
       "      <td>400.0</td>\n",
       "      <td>3</td>\n",
       "      <td>65.0</td>\n",
       "    </tr>\n",
       "    <tr>\n",
       "      <th>4</th>\n",
       "      <td>Etaj 1</td>\n",
       "      <td>Zorilor</td>\n",
       "      <td>Imobil nou</td>\n",
       "      <td>Decomandat</td>\n",
       "      <td>420.0</td>\n",
       "      <td>2</td>\n",
       "      <td>55.0</td>\n",
       "    </tr>\n",
       "  </tbody>\n",
       "</table>\n",
       "</div>"
      ],
      "text/plain": [
       "     floor neighborhood  new_building    partitioning  price  rooms  space\n",
       "0   Etaj 5      Central  Imobil vechi  Semidecomandat  400.0      2   58.5\n",
       "1  Demisol     Manastur  Imobil vechi  Semidecomandat  280.0      2   52.0\n",
       "2   Etaj 3      Zorilor    Imobil nou  Semidecomandat  400.0      3   84.0\n",
       "3   Parter   Gheorgheni  Imobil vechi  Semidecomandat  400.0      3   65.0\n",
       "4   Etaj 1      Zorilor    Imobil nou      Decomandat  420.0      2   55.0"
      ]
     },
     "execution_count": 83,
     "metadata": {},
     "output_type": "execute_result"
    }
   ],
   "source": [
    "df = df.drop(['currency'],axis='columns')\n",
    "df.head()"
   ]
  },
  {
   "cell_type": "markdown",
   "metadata": {},
   "source": [
    "In the next step I'm going to check the correlation between my numerical features."
   ]
  },
  {
   "cell_type": "code",
   "execution_count": 84,
   "metadata": {
    "scrolled": false
   },
   "outputs": [
    {
     "data": {
      "text/html": [
       "<div>\n",
       "<style scoped>\n",
       "    .dataframe tbody tr th:only-of-type {\n",
       "        vertical-align: middle;\n",
       "    }\n",
       "\n",
       "    .dataframe tbody tr th {\n",
       "        vertical-align: top;\n",
       "    }\n",
       "\n",
       "    .dataframe thead th {\n",
       "        text-align: right;\n",
       "    }\n",
       "</style>\n",
       "<table border=\"1\" class=\"dataframe\">\n",
       "  <thead>\n",
       "    <tr style=\"text-align: right;\">\n",
       "      <th></th>\n",
       "      <th>price</th>\n",
       "      <th>rooms</th>\n",
       "      <th>space</th>\n",
       "    </tr>\n",
       "  </thead>\n",
       "  <tbody>\n",
       "    <tr>\n",
       "      <th>price</th>\n",
       "      <td>1.000000</td>\n",
       "      <td>0.437053</td>\n",
       "      <td>0.719411</td>\n",
       "    </tr>\n",
       "    <tr>\n",
       "      <th>rooms</th>\n",
       "      <td>0.437053</td>\n",
       "      <td>1.000000</td>\n",
       "      <td>0.584957</td>\n",
       "    </tr>\n",
       "    <tr>\n",
       "      <th>space</th>\n",
       "      <td>0.719411</td>\n",
       "      <td>0.584957</td>\n",
       "      <td>1.000000</td>\n",
       "    </tr>\n",
       "  </tbody>\n",
       "</table>\n",
       "</div>"
      ],
      "text/plain": [
       "          price     rooms     space\n",
       "price  1.000000  0.437053  0.719411\n",
       "rooms  0.437053  1.000000  0.584957\n",
       "space  0.719411  0.584957  1.000000"
      ]
     },
     "execution_count": 84,
     "metadata": {},
     "output_type": "execute_result"
    }
   ],
   "source": [
    "df.corr()"
   ]
  },
  {
   "cell_type": "code",
   "execution_count": 85,
   "metadata": {},
   "outputs": [
    {
     "data": {
      "text/plain": [
       "<AxesSubplot:>"
      ]
     },
     "execution_count": 85,
     "metadata": {},
     "output_type": "execute_result"
    },
    {
     "data": {
      "image/png": "[encoded data removed]",
      "text/plain": [
       "<Figure size 432x288 with 2 Axes>"
      ]
     },
     "metadata": {
      "needs_background": "light"
     },
     "output_type": "display_data"
    }
   ],
   "source": [
    "sns.heatmap(df.corr(),annot=True)"
   ]
  },
  {
   "cell_type": "markdown",
   "metadata": {},
   "source": [
    "From the above correlation matrix we can see that there is no correlation between the feature 'rooms' and the feature 'price', that can be because at it's core the feature 'rooms' is a categorical feature. In the same time we can see that there is a slightly correlation between the features 'rooms' and 'space', but because it is not a strong correlation I consider that we don't have a case of multicollinearity."
   ]
  },
  {
   "cell_type": "code",
   "execution_count": 86,
   "metadata": {},
   "outputs": [
    {
     "data": {
      "text/plain": [
       "floor            object\n",
       "neighborhood     object\n",
       "new_building     object\n",
       "partitioning     object\n",
       "price           float64\n",
       "rooms             int32\n",
       "space           float64\n",
       "dtype: object"
      ]
     },
     "execution_count": 86,
     "metadata": {},
     "output_type": "execute_result"
    }
   ],
   "source": [
    "df.dtypes"
   ]
  },
  {
   "cell_type": "markdown",
   "metadata": {},
   "source": [
    "For doing visual analysis on my features I'm going to split them in categorical and continuous features. "
   ]
  },
  {
   "cell_type": "code",
   "execution_count": 91,
   "metadata": {},
   "outputs": [],
   "source": [
    "categorical_features = ['floor', 'neighborhood', 'new_building', 'partitioning', 'rooms']"
   ]
  },
  {
   "cell_type": "code",
   "execution_count": 93,
   "metadata": {},
   "outputs": [
    {
     "data": {
      "text/plain": [
       "['price', 'space']"
      ]
     },
     "execution_count": 93,
     "metadata": {},
     "output_type": "execute_result"
    }
   ],
   "source": [
    "continuous_features = [feature for feature in df.columns if df[feature].dtypes == 'float']\n",
    "continuous_features"
   ]
  },
  {
   "cell_type": "markdown",
   "metadata": {},
   "source": [
    "#### Distribution of continuous features"
   ]
  },
  {
   "cell_type": "code",
   "execution_count": 94,
   "metadata": {},
   "outputs": [
    {
     "data": {
      "image/png": "[encoded data removed]",
      "text/plain": [
       "<Figure size 432x288 with 1 Axes>"
      ]
     },
     "metadata": {
      "needs_background": "light"
     },
     "output_type": "display_data"
    },
    {
     "data": {
      "image/png": "[encoded data removed]",
      "text/plain": [
       "<Figure size 432x288 with 1 Axes>"
      ]
     },
     "metadata": {
      "needs_background": "light"
     },
     "output_type": "display_data"
    }
   ],
   "source": [
    "for feature in continuous_features:\n",
    "    data=df.copy()\n",
    "    data[feature].hist(bins=25)\n",
    "    plt.xlabel(feature)\n",
    "    plt.ylabel(\"Count\")\n",
    "    plt.title(feature)\n",
    "    plt.show()"
   ]
  },
  {
   "cell_type": "markdown",
   "metadata": {},
   "source": [
    "From te above histogram we can see that both continuous features are normally distributed."
   ]
  },
  {
   "cell_type": "markdown",
   "metadata": {},
   "source": [
    "#### Relationship between contonuous features and price"
   ]
  },
  {
   "cell_type": "code",
   "execution_count": 95,
   "metadata": {},
   "outputs": [
    {
     "data": {
      "image/png": "[encoded data removed]",
      "text/plain": [
       "<Figure size 432x288 with 1 Axes>"
      ]
     },
     "metadata": {
      "needs_background": "light"
     },
     "output_type": "display_data"
    },
    {
     "data": {
      "image/png": "[encoded data removed]",
      "text/plain": [
       "<Figure size 432x288 with 1 Axes>"
      ]
     },
     "metadata": {
      "needs_background": "light"
     },
     "output_type": "display_data"
    }
   ],
   "source": [
    "for feature in continuous_features:\n",
    "    data=df.copy()\n",
    "    plt.scatter(data[feature],data['price'])\n",
    "    plt.xlabel(feature)\n",
    "    plt.ylabel('price')\n",
    "    plt.show()"
   ]
  },
  {
   "cell_type": "markdown",
   "metadata": {},
   "source": [
    "From the relationship between the features 'space' and 'price' we can see that they are positive correlated."
   ]
  },
  {
   "cell_type": "markdown",
   "metadata": {},
   "source": [
    "#### Relationship between categorical features and price"
   ]
  },
  {
   "cell_type": "code",
   "execution_count": 96,
   "metadata": {},
   "outputs": [
    {
     "data": {
      "image/png": "[encoded data removed]",
      "text/plain": [
       "<Figure size 432x288 with 1 Axes>"
      ]
     },
     "metadata": {
      "needs_background": "light"
     },
     "output_type": "display_data"
    },
    {
     "data": {
      "image/png": "[encoded data removed]",
      "text/plain": [
       "<Figure size 432x288 with 1 Axes>"
      ]
     },
     "metadata": {
      "needs_background": "light"
     },
     "output_type": "display_data"
    },
    {
     "data": {
      "image/png": "[encoded data removed]",
      "text/plain": [
       "<Figure size 432x288 with 1 Axes>"
      ]
     },
     "metadata": {
      "needs_background": "light"
     },
     "output_type": "display_data"
    },
    {
     "data": {
      "image/png": "[encoded data removed]",
      "text/plain": [
       "<Figure size 432x288 with 1 Axes>"
      ]
     },
     "metadata": {
      "needs_background": "light"
     },
     "output_type": "display_data"
    },
    {
     "data": {
      "image/png": "[encoded data removed]",
      "text/plain": [
       "<Figure size 432x288 with 1 Axes>"
      ]
     },
     "metadata": {
      "needs_background": "light"
     },
     "output_type": "display_data"
    }
   ],
   "source": [
    "for feature in categorical_features:\n",
    "    data=df.copy()\n",
    "    data.groupby(feature)['price'].median().plot.bar()\n",
    "    plt.xlabel(feature)\n",
    "    plt.ylabel('price')\n",
    "    plt.title(feature)\n",
    "    plt.show()"
   ]
  },
  {
   "cell_type": "markdown",
   "metadata": {},
   "source": [
    "## 2. Feature Engineering"
   ]
  },
  {
   "cell_type": "markdown",
   "metadata": {},
   "source": [
    "For my outlier removal I'm going to create a new feature that represents the price per square foot for each apartment in the data set."
   ]
  },
  {
   "cell_type": "code",
   "execution_count": 97,
   "metadata": {},
   "outputs": [
    {
     "data": {
      "text/html": [
       "<div>\n",
       "<style scoped>\n",
       "    .dataframe tbody tr th:only-of-type {\n",
       "        vertical-align: middle;\n",
       "    }\n",
       "\n",
       "    .dataframe tbody tr th {\n",
       "        vertical-align: top;\n",
       "    }\n",
       "\n",
       "    .dataframe thead th {\n",
       "        text-align: right;\n",
       "    }\n",
       "</style>\n",
       "<table border=\"1\" class=\"dataframe\">\n",
       "  <thead>\n",
       "    <tr style=\"text-align: right;\">\n",
       "      <th></th>\n",
       "      <th>floor</th>\n",
       "      <th>neighborhood</th>\n",
       "      <th>new_building</th>\n",
       "      <th>partitioning</th>\n",
       "      <th>price</th>\n",
       "      <th>rooms</th>\n",
       "      <th>space</th>\n",
       "      <th>price_per_square_foot</th>\n",
       "    </tr>\n",
       "  </thead>\n",
       "  <tbody>\n",
       "    <tr>\n",
       "      <th>0</th>\n",
       "      <td>Etaj 5</td>\n",
       "      <td>Central</td>\n",
       "      <td>Imobil vechi</td>\n",
       "      <td>Semidecomandat</td>\n",
       "      <td>400.0</td>\n",
       "      <td>2</td>\n",
       "      <td>58.5</td>\n",
       "      <td>6.837607</td>\n",
       "    </tr>\n",
       "    <tr>\n",
       "      <th>1</th>\n",
       "      <td>Demisol</td>\n",
       "      <td>Manastur</td>\n",
       "      <td>Imobil vechi</td>\n",
       "      <td>Semidecomandat</td>\n",
       "      <td>280.0</td>\n",
       "      <td>2</td>\n",
       "      <td>52.0</td>\n",
       "      <td>5.384615</td>\n",
       "    </tr>\n",
       "    <tr>\n",
       "      <th>2</th>\n",
       "      <td>Etaj 3</td>\n",
       "      <td>Zorilor</td>\n",
       "      <td>Imobil nou</td>\n",
       "      <td>Semidecomandat</td>\n",
       "      <td>400.0</td>\n",
       "      <td>3</td>\n",
       "      <td>84.0</td>\n",
       "      <td>4.761905</td>\n",
       "    </tr>\n",
       "    <tr>\n",
       "      <th>3</th>\n",
       "      <td>Parter</td>\n",
       "      <td>Gheorgheni</td>\n",
       "      <td>Imobil vechi</td>\n",
       "      <td>Semidecomandat</td>\n",
       "      <td>400.0</td>\n",
       "      <td>3</td>\n",
       "      <td>65.0</td>\n",
       "      <td>6.153846</td>\n",
       "    </tr>\n",
       "    <tr>\n",
       "      <th>4</th>\n",
       "      <td>Etaj 1</td>\n",
       "      <td>Zorilor</td>\n",
       "      <td>Imobil nou</td>\n",
       "      <td>Decomandat</td>\n",
       "      <td>420.0</td>\n",
       "      <td>2</td>\n",
       "      <td>55.0</td>\n",
       "      <td>7.636364</td>\n",
       "    </tr>\n",
       "  </tbody>\n",
       "</table>\n",
       "</div>"
      ],
      "text/plain": [
       "     floor neighborhood  new_building    partitioning  price  rooms  space  \\\n",
       "0   Etaj 5      Central  Imobil vechi  Semidecomandat  400.0      2   58.5   \n",
       "1  Demisol     Manastur  Imobil vechi  Semidecomandat  280.0      2   52.0   \n",
       "2   Etaj 3      Zorilor    Imobil nou  Semidecomandat  400.0      3   84.0   \n",
       "3   Parter   Gheorgheni  Imobil vechi  Semidecomandat  400.0      3   65.0   \n",
       "4   Etaj 1      Zorilor    Imobil nou      Decomandat  420.0      2   55.0   \n",
       "\n",
       "   price_per_square_foot  \n",
       "0               6.837607  \n",
       "1               5.384615  \n",
       "2               4.761905  \n",
       "3               6.153846  \n",
       "4               7.636364  "
      ]
     },
     "execution_count": 97,
     "metadata": {},
     "output_type": "execute_result"
    }
   ],
   "source": [
    "df['price_per_square_foot'] = df['price'] / df['space']\n",
    "df.head()"
   ]
  },
  {
   "cell_type": "markdown",
   "metadata": {},
   "source": [
    "First I'm going to to see the number of neighborhoods and those neighborhoods from my data set in which I have less than 10 apratments I'm going to save them in one general variable called 'Other neighborhoods'. "
   ]
  },
  {
   "cell_type": "code",
   "execution_count": 98,
   "metadata": {
    "scrolled": true
   },
   "outputs": [
    {
     "data": {
      "text/plain": [
       "Gheorgheni             855\n",
       "Central                765\n",
       "Marasti                720\n",
       "Zorilor                559\n",
       "Manastur               546\n",
       "Buna Ziua              255\n",
       "Grigorescu             185\n",
       "Semicentral            159\n",
       "Intre Lacuri           155\n",
       "Andrei Muresanu        125\n",
       "Europa                 109\n",
       "Plopilor               107\n",
       "Ultracentral            95\n",
       "Iris                    56\n",
       "P-ta Mihai Viteazul     53\n",
       "Borhanci                47\n",
       "Calea Turzii            36\n",
       "Gruia                   27\n",
       "Gara                    26\n",
       "Sopor                   26\n",
       "Horea                   19\n",
       "Dambul Rotund           17\n",
       "Someseni                15\n",
       "Hasdeu                  14\n",
       "Bulgaria                10\n",
       "Aurel Vlaicu             7\n",
       "Campului                 6\n",
       "Aeroport                 4\n",
       "Baciu                    2\n",
       "Exterior Vest            1\n",
       "Cordos                   1\n",
       "Name: neighborhood, dtype: int64"
      ]
     },
     "execution_count": 98,
     "metadata": {},
     "output_type": "execute_result"
    }
   ],
   "source": [
    "number_apartaments_neighborhood = df['neighborhood'].value_counts()\n",
    "number_apartaments_neighborhood"
   ]
  },
  {
   "cell_type": "code",
   "execution_count": 99,
   "metadata": {},
   "outputs": [
    {
     "data": {
      "text/plain": [
       "6"
      ]
     },
     "execution_count": 99,
     "metadata": {},
     "output_type": "execute_result"
    }
   ],
   "source": [
    "len(number_apartaments_neighborhood[number_apartaments_neighborhood < 10])"
   ]
  },
  {
   "cell_type": "code",
   "execution_count": 100,
   "metadata": {},
   "outputs": [
    {
     "data": {
      "text/plain": [
       "Aurel Vlaicu     7\n",
       "Campului         6\n",
       "Aeroport         4\n",
       "Baciu            2\n",
       "Exterior Vest    1\n",
       "Cordos           1\n",
       "Name: neighborhood, dtype: int64"
      ]
     },
     "execution_count": 100,
     "metadata": {},
     "output_type": "execute_result"
    }
   ],
   "source": [
    "location_neighborhood_below_10 = number_apartaments_neighborhood[number_apartaments_neighborhood < 10]\n",
    "location_neighborhood_below_10"
   ]
  },
  {
   "cell_type": "code",
   "execution_count": 101,
   "metadata": {},
   "outputs": [
    {
     "data": {
      "text/plain": [
       "26"
      ]
     },
     "execution_count": 101,
     "metadata": {},
     "output_type": "execute_result"
    }
   ],
   "source": [
    "df['neighborhood'] = df['neighborhood'].apply(lambda x: 'Other neighborhoods' if x in location_neighborhood_below_10 else x)\n",
    "len(df['neighborhood'].unique())"
   ]
  },
  {
   "cell_type": "markdown",
   "metadata": {},
   "source": [
    "#### Outlier Removal"
   ]
  },
  {
   "cell_type": "markdown",
   "metadata": {},
   "source": [
    "In romanian legislation for constructions there is stated that a living room should have 18 sqr ft and a bedroom 12 sqr ft.\n",
    "\n",
    "In this case I will consider as 12 sqr ft a minimum measurement for a room.\n",
    "\n",
    "I wanted to choose the smaller number because in old buildings made in the communist period the bedrooms of the apartments were smaller per square footage. "
   ]
  },
  {
   "cell_type": "code",
   "execution_count": 102,
   "metadata": {},
   "outputs": [
    {
     "data": {
      "text/html": [
       "<div>\n",
       "<style scoped>\n",
       "    .dataframe tbody tr th:only-of-type {\n",
       "        vertical-align: middle;\n",
       "    }\n",
       "\n",
       "    .dataframe tbody tr th {\n",
       "        vertical-align: top;\n",
       "    }\n",
       "\n",
       "    .dataframe thead th {\n",
       "        text-align: right;\n",
       "    }\n",
       "</style>\n",
       "<table border=\"1\" class=\"dataframe\">\n",
       "  <thead>\n",
       "    <tr style=\"text-align: right;\">\n",
       "      <th></th>\n",
       "      <th>floor</th>\n",
       "      <th>neighborhood</th>\n",
       "      <th>new_building</th>\n",
       "      <th>partitioning</th>\n",
       "      <th>price</th>\n",
       "      <th>rooms</th>\n",
       "      <th>space</th>\n",
       "      <th>price_per_square_foot</th>\n",
       "    </tr>\n",
       "  </thead>\n",
       "  <tbody>\n",
       "    <tr>\n",
       "      <th>72</th>\n",
       "      <td>Parter</td>\n",
       "      <td>Borhanci</td>\n",
       "      <td>Imobil nou</td>\n",
       "      <td>Decomandat</td>\n",
       "      <td>540.0</td>\n",
       "      <td>2</td>\n",
       "      <td>5.0</td>\n",
       "      <td>108.000000</td>\n",
       "    </tr>\n",
       "    <tr>\n",
       "      <th>1023</th>\n",
       "      <td>Parter</td>\n",
       "      <td>Gheorgheni</td>\n",
       "      <td>Imobil vechi</td>\n",
       "      <td>Semidecomandat</td>\n",
       "      <td>180.0</td>\n",
       "      <td>1</td>\n",
       "      <td>11.0</td>\n",
       "      <td>16.363636</td>\n",
       "    </tr>\n",
       "    <tr>\n",
       "      <th>1027</th>\n",
       "      <td>Etaj 5</td>\n",
       "      <td>Gheorgheni</td>\n",
       "      <td>Imobil vechi</td>\n",
       "      <td>Decomandat</td>\n",
       "      <td>500.0</td>\n",
       "      <td>50</td>\n",
       "      <td>50.0</td>\n",
       "      <td>10.000000</td>\n",
       "    </tr>\n",
       "    <tr>\n",
       "      <th>1744</th>\n",
       "      <td>Etaj 3</td>\n",
       "      <td>Marasti</td>\n",
       "      <td>Imobil nou</td>\n",
       "      <td>Decomandat</td>\n",
       "      <td>550.0</td>\n",
       "      <td>2</td>\n",
       "      <td>6.0</td>\n",
       "      <td>91.666667</td>\n",
       "    </tr>\n",
       "    <tr>\n",
       "      <th>2507</th>\n",
       "      <td>Etaj 3</td>\n",
       "      <td>Marasti</td>\n",
       "      <td>Imobil vechi</td>\n",
       "      <td>Decomandat</td>\n",
       "      <td>265.0</td>\n",
       "      <td>1</td>\n",
       "      <td>1.0</td>\n",
       "      <td>265.000000</td>\n",
       "    </tr>\n",
       "    <tr>\n",
       "      <th>3777</th>\n",
       "      <td>Etaj 4</td>\n",
       "      <td>Gheorgheni</td>\n",
       "      <td>Imobil vechi</td>\n",
       "      <td>Semidecomandat</td>\n",
       "      <td>189.0</td>\n",
       "      <td>1</td>\n",
       "      <td>11.0</td>\n",
       "      <td>17.181818</td>\n",
       "    </tr>\n",
       "    <tr>\n",
       "      <th>4532</th>\n",
       "      <td>Parter</td>\n",
       "      <td>Gheorgheni</td>\n",
       "      <td>Imobil vechi</td>\n",
       "      <td>Semidecomandat</td>\n",
       "      <td>145.0</td>\n",
       "      <td>1</td>\n",
       "      <td>11.0</td>\n",
       "      <td>13.181818</td>\n",
       "    </tr>\n",
       "  </tbody>\n",
       "</table>\n",
       "</div>"
      ],
      "text/plain": [
       "       floor neighborhood  new_building    partitioning  price  rooms  space  \\\n",
       "72    Parter     Borhanci    Imobil nou      Decomandat  540.0      2    5.0   \n",
       "1023  Parter   Gheorgheni  Imobil vechi  Semidecomandat  180.0      1   11.0   \n",
       "1027  Etaj 5   Gheorgheni  Imobil vechi      Decomandat  500.0     50   50.0   \n",
       "1744  Etaj 3      Marasti    Imobil nou      Decomandat  550.0      2    6.0   \n",
       "2507  Etaj 3      Marasti  Imobil vechi      Decomandat  265.0      1    1.0   \n",
       "3777  Etaj 4   Gheorgheni  Imobil vechi  Semidecomandat  189.0      1   11.0   \n",
       "4532  Parter   Gheorgheni  Imobil vechi  Semidecomandat  145.0      1   11.0   \n",
       "\n",
       "      price_per_square_foot  \n",
       "72               108.000000  \n",
       "1023              16.363636  \n",
       "1027              10.000000  \n",
       "1744              91.666667  \n",
       "2507             265.000000  \n",
       "3777              17.181818  \n",
       "4532              13.181818  "
      ]
     },
     "execution_count": 102,
     "metadata": {},
     "output_type": "execute_result"
    }
   ],
   "source": [
    "df[df.space/df.rooms<12]"
   ]
  },
  {
   "cell_type": "markdown",
   "metadata": {},
   "source": [
    "I will chose the ones with the square footage below 11 because based on my experience I know that there are room apartments with only 11 square footage."
   ]
  },
  {
   "cell_type": "code",
   "execution_count": 103,
   "metadata": {
    "scrolled": true
   },
   "outputs": [
    {
     "data": {
      "text/html": [
       "<div>\n",
       "<style scoped>\n",
       "    .dataframe tbody tr th:only-of-type {\n",
       "        vertical-align: middle;\n",
       "    }\n",
       "\n",
       "    .dataframe tbody tr th {\n",
       "        vertical-align: top;\n",
       "    }\n",
       "\n",
       "    .dataframe thead th {\n",
       "        text-align: right;\n",
       "    }\n",
       "</style>\n",
       "<table border=\"1\" class=\"dataframe\">\n",
       "  <thead>\n",
       "    <tr style=\"text-align: right;\">\n",
       "      <th></th>\n",
       "      <th>floor</th>\n",
       "      <th>neighborhood</th>\n",
       "      <th>new_building</th>\n",
       "      <th>partitioning</th>\n",
       "      <th>price</th>\n",
       "      <th>rooms</th>\n",
       "      <th>space</th>\n",
       "      <th>price_per_square_foot</th>\n",
       "    </tr>\n",
       "  </thead>\n",
       "  <tbody>\n",
       "    <tr>\n",
       "      <th>72</th>\n",
       "      <td>Parter</td>\n",
       "      <td>Borhanci</td>\n",
       "      <td>Imobil nou</td>\n",
       "      <td>Decomandat</td>\n",
       "      <td>540.0</td>\n",
       "      <td>2</td>\n",
       "      <td>5.0</td>\n",
       "      <td>108.000000</td>\n",
       "    </tr>\n",
       "    <tr>\n",
       "      <th>1027</th>\n",
       "      <td>Etaj 5</td>\n",
       "      <td>Gheorgheni</td>\n",
       "      <td>Imobil vechi</td>\n",
       "      <td>Decomandat</td>\n",
       "      <td>500.0</td>\n",
       "      <td>50</td>\n",
       "      <td>50.0</td>\n",
       "      <td>10.000000</td>\n",
       "    </tr>\n",
       "    <tr>\n",
       "      <th>1744</th>\n",
       "      <td>Etaj 3</td>\n",
       "      <td>Marasti</td>\n",
       "      <td>Imobil nou</td>\n",
       "      <td>Decomandat</td>\n",
       "      <td>550.0</td>\n",
       "      <td>2</td>\n",
       "      <td>6.0</td>\n",
       "      <td>91.666667</td>\n",
       "    </tr>\n",
       "    <tr>\n",
       "      <th>2507</th>\n",
       "      <td>Etaj 3</td>\n",
       "      <td>Marasti</td>\n",
       "      <td>Imobil vechi</td>\n",
       "      <td>Decomandat</td>\n",
       "      <td>265.0</td>\n",
       "      <td>1</td>\n",
       "      <td>1.0</td>\n",
       "      <td>265.000000</td>\n",
       "    </tr>\n",
       "  </tbody>\n",
       "</table>\n",
       "</div>"
      ],
      "text/plain": [
       "       floor neighborhood  new_building partitioning  price  rooms  space  \\\n",
       "72    Parter     Borhanci    Imobil nou   Decomandat  540.0      2    5.0   \n",
       "1027  Etaj 5   Gheorgheni  Imobil vechi   Decomandat  500.0     50   50.0   \n",
       "1744  Etaj 3      Marasti    Imobil nou   Decomandat  550.0      2    6.0   \n",
       "2507  Etaj 3      Marasti  Imobil vechi   Decomandat  265.0      1    1.0   \n",
       "\n",
       "      price_per_square_foot  \n",
       "72               108.000000  \n",
       "1027              10.000000  \n",
       "1744              91.666667  \n",
       "2507             265.000000  "
      ]
     },
     "execution_count": 103,
     "metadata": {},
     "output_type": "execute_result"
    }
   ],
   "source": [
    "df[df.space/df.rooms<11]"
   ]
  },
  {
   "cell_type": "code",
   "execution_count": 104,
   "metadata": {},
   "outputs": [
    {
     "data": {
      "text/plain": [
       "(5002, 8)"
      ]
     },
     "execution_count": 104,
     "metadata": {},
     "output_type": "execute_result"
    }
   ],
   "source": [
    "df.shape"
   ]
  },
  {
   "cell_type": "code",
   "execution_count": 105,
   "metadata": {},
   "outputs": [
    {
     "data": {
      "text/plain": [
       "[72, 1027, 1744, 2507]"
      ]
     },
     "execution_count": 105,
     "metadata": {},
     "output_type": "execute_result"
    }
   ],
   "source": [
    "# We are going to remove them\n",
    "df[df.space/df.rooms<11].index.to_list()"
   ]
  },
  {
   "cell_type": "code",
   "execution_count": 106,
   "metadata": {},
   "outputs": [],
   "source": [
    "df.drop([72, 1027, 1744, 2507], inplace=True)"
   ]
  },
  {
   "cell_type": "code",
   "execution_count": 107,
   "metadata": {},
   "outputs": [
    {
     "data": {
      "text/plain": [
       "(4998, 8)"
      ]
     },
     "execution_count": 107,
     "metadata": {},
     "output_type": "execute_result"
    }
   ],
   "source": [
    "df.shape"
   ]
  },
  {
   "cell_type": "code",
   "execution_count": 108,
   "metadata": {
    "scrolled": false
   },
   "outputs": [
    {
     "data": {
      "text/plain": [
       "count    4998.000000\n",
       "mean        7.870048\n",
       "std         1.991389\n",
       "min         1.400000\n",
       "25%         6.508311\n",
       "50%         7.538462\n",
       "75%         8.846154\n",
       "max        25.000000\n",
       "Name: price_per_square_foot, dtype: float64"
      ]
     },
     "execution_count": 108,
     "metadata": {},
     "output_type": "execute_result"
    }
   ],
   "source": [
    "df.price_per_square_foot.describe()"
   ]
  },
  {
   "cell_type": "markdown",
   "metadata": {},
   "source": [
    "I'm going to group the price square foot by neighborhood and determine the mean and standard deviation of the price per square foot for each neighborhood group. After that I'm going to remove the apartments from the dataset that have the price per square foot fall over and under tree standard deviations away from the mean."
   ]
  },
  {
   "cell_type": "code",
   "execution_count": 109,
   "metadata": {},
   "outputs": [
    {
     "data": {
      "text/plain": [
       "(4949, 8)"
      ]
     },
     "execution_count": 109,
     "metadata": {},
     "output_type": "execute_result"
    }
   ],
   "source": [
    "def remove_outliers_ppsf(df):\n",
    "    df_out = pd.DataFrame()\n",
    "    for key, subdf in df.groupby('neighborhood'):\n",
    "        mean = np.mean(subdf.price_per_square_foot)\n",
    "        std = np.std(subdf.price_per_square_foot)\n",
    "        reduced_df = subdf[(subdf.price_per_square_foot > (mean-3*std)) & (subdf.price_per_square_foot <= (mean+3*std))]\n",
    "        df_out = pd.concat([df_out, reduced_df], ignore_index=True)\n",
    "    return df_out\n",
    "                            \n",
    "df = remove_outliers_ppsf(df)\n",
    "df.shape"
   ]
  },
  {
   "cell_type": "markdown",
   "metadata": {},
   "source": [
    "Next for each category of neighborhood I'm going to extract the data by the number of rooms, for the most frequent ones, and plot the space and price per square foot for each category of apartments by rooms.\n",
    "\n",
    "The aim is to see if there are outliers between the price per square footage and total square footage or space of the rooms. Meanning if, for example, there are prices per square footage of apartments with 2 rooms that are less than the apartments with 1 room. "
   ]
  },
  {
   "cell_type": "code",
   "execution_count": 110,
   "metadata": {},
   "outputs": [],
   "source": [
    "def scatter_plot_chart(df, neighborhood):\n",
    "    room_1 = df[(df['neighborhood'] == neighborhood) & (df['rooms']==1)]\n",
    "    rooms_2 = df[(df['neighborhood'] == neighborhood) & (df['rooms']==2)]\n",
    "    rooms_3 = df[(df['neighborhood'] == neighborhood) & (df['rooms']==3)]\n",
    "    rooms_4 = df[(df['neighborhood'] == neighborhood) & (df['rooms']==4)]\n",
    "    plt.rcParams['figure.figsize'] = (10,10)\n",
    "    plt.scatter(room_1.space, room_1.price_per_square_foot, marker = '*', color='purple', label='1 room', s=50)\n",
    "    plt.scatter(rooms_2.space, rooms_2.price_per_square_foot, marker='d', color='blue', label='2 rooms', s=50)\n",
    "    plt.scatter(rooms_3.space, rooms_3.price_per_square_foot, marker = 'o', color='green', label='3 rooms', s=50)\n",
    "    plt.scatter(rooms_4.space, rooms_4.price_per_square_foot, marker= '.', color='red', label='4 rooms', s=50)\n",
    "    plt.xlabel('Total square foot of space')\n",
    "    plt.ylabel('Price per square foot')\n",
    "    plt.title(neighborhood)\n",
    "    plt.legend()"
   ]
  },
  {
   "cell_type": "code",
   "execution_count": 111,
   "metadata": {
    "scrolled": false
   },
   "outputs": [
    {
     "data": {
      "image/png": "[encoded data removed]",
      "text/plain": [
       "<Figure size 720x720 with 1 Axes>"
      ]
     },
     "metadata": {
      "needs_background": "light"
     },
     "output_type": "display_data"
    }
   ],
   "source": [
    "scatter_plot_chart(df, 'Manastur')  "
   ]
  },
  {
   "cell_type": "code",
   "execution_count": 112,
   "metadata": {},
   "outputs": [
    {
     "data": {
      "image/png": "[encoded data removed]",
      "text/plain": [
       "<Figure size 720x720 with 1 Axes>"
      ]
     },
     "metadata": {
      "needs_background": "light"
     },
     "output_type": "display_data"
    }
   ],
   "source": [
    "scatter_plot_chart(df, 'Marasti')   "
   ]
  },
  {
   "cell_type": "code",
   "execution_count": 113,
   "metadata": {},
   "outputs": [
    {
     "data": {
      "image/png": "[encoded data removed]",
      "text/plain": [
       "<Figure size 720x720 with 1 Axes>"
      ]
     },
     "metadata": {
      "needs_background": "light"
     },
     "output_type": "display_data"
    }
   ],
   "source": [
    "scatter_plot_chart(df, 'Gheorgheni')    "
   ]
  },
  {
   "cell_type": "code",
   "execution_count": 114,
   "metadata": {},
   "outputs": [
    {
     "data": {
      "image/png": "[encoded data removed]",
      "text/plain": [
       "<Figure size 720x720 with 1 Axes>"
      ]
     },
     "metadata": {
      "needs_background": "light"
     },
     "output_type": "display_data"
    }
   ],
   "source": [
    "scatter_plot_chart(df, 'Central')   "
   ]
  },
  {
   "cell_type": "markdown",
   "metadata": {},
   "source": [
    "Below I'm going to remove the outliers identified above."
   ]
  },
  {
   "cell_type": "code",
   "execution_count": 115,
   "metadata": {},
   "outputs": [
    {
     "data": {
      "text/plain": [
       "(2201, 8)"
      ]
     },
     "execution_count": 115,
     "metadata": {},
     "output_type": "execute_result"
    }
   ],
   "source": [
    "def remove_rooms_outliers(df):\n",
    "    exclude_indices = np.array([])\n",
    "    for neighborhood, neighborhood_df in df.groupby('neighborhood'):\n",
    "        rooms_stats = {}\n",
    "        for rooms, rooms_df in neighborhood_df.groupby('rooms'):\n",
    "            rooms_stats[rooms] = {\n",
    "                'mean': np.mean(rooms_df.price_per_square_foot),\n",
    "                'std': np.std(rooms_df.price_per_square_foot),\n",
    "                'count': rooms_df.shape[0]\n",
    "            }\n",
    "        for rooms, rooms_df in neighborhood_df.groupby('rooms'):\n",
    "            stats = rooms_stats.get(rooms-1)\n",
    "            if stats and stats['count']>5:\n",
    "                exclude_indices = np.append(exclude_indices, rooms_df[rooms_df.price_per_square_foot<(stats['mean'])].index.values)\n",
    "    return df.drop(exclude_indices, axis='index')\n",
    "\n",
    "df = remove_rooms_outliers(df)\n",
    "df.shape"
   ]
  },
  {
   "cell_type": "code",
   "execution_count": 116,
   "metadata": {},
   "outputs": [
    {
     "data": {
      "image/png": "[encoded data removed]",
      "text/plain": [
       "<Figure size 720x720 with 1 Axes>"
      ]
     },
     "metadata": {
      "needs_background": "light"
     },
     "output_type": "display_data"
    }
   ],
   "source": [
    "scatter_plot_chart(df, 'Manastur')    "
   ]
  },
  {
   "cell_type": "code",
   "execution_count": 117,
   "metadata": {},
   "outputs": [
    {
     "data": {
      "image/png": "[encoded data removed]",
      "text/plain": [
       "<Figure size 720x720 with 1 Axes>"
      ]
     },
     "metadata": {
      "needs_background": "light"
     },
     "output_type": "display_data"
    }
   ],
   "source": [
    "scatter_plot_chart(df, 'Marasti')   "
   ]
  },
  {
   "cell_type": "code",
   "execution_count": 118,
   "metadata": {},
   "outputs": [
    {
     "data": {
      "image/png": "[encoded data removed]",
      "text/plain": [
       "<Figure size 720x720 with 1 Axes>"
      ]
     },
     "metadata": {
      "needs_background": "light"
     },
     "output_type": "display_data"
    }
   ],
   "source": [
    "scatter_plot_chart(df, 'Gheorgheni') "
   ]
  },
  {
   "cell_type": "code",
   "execution_count": 119,
   "metadata": {
    "scrolled": true
   },
   "outputs": [
    {
     "data": {
      "image/png": "[encoded data removed]",
      "text/plain": [
       "<Figure size 720x720 with 1 Axes>"
      ]
     },
     "metadata": {
      "needs_background": "light"
     },
     "output_type": "display_data"
    }
   ],
   "source": [
    "scatter_plot_chart(df, 'Central')   "
   ]
  },
  {
   "cell_type": "markdown",
   "metadata": {},
   "source": [
    "After I used 'price_per_square_foot' feature for removung outliers, I'm going to drop it. "
   ]
  },
  {
   "cell_type": "code",
   "execution_count": 120,
   "metadata": {
    "scrolled": true
   },
   "outputs": [
    {
     "data": {
      "text/html": [
       "<div>\n",
       "<style scoped>\n",
       "    .dataframe tbody tr th:only-of-type {\n",
       "        vertical-align: middle;\n",
       "    }\n",
       "\n",
       "    .dataframe tbody tr th {\n",
       "        vertical-align: top;\n",
       "    }\n",
       "\n",
       "    .dataframe thead th {\n",
       "        text-align: right;\n",
       "    }\n",
       "</style>\n",
       "<table border=\"1\" class=\"dataframe\">\n",
       "  <thead>\n",
       "    <tr style=\"text-align: right;\">\n",
       "      <th></th>\n",
       "      <th>floor</th>\n",
       "      <th>neighborhood</th>\n",
       "      <th>new_building</th>\n",
       "      <th>partitioning</th>\n",
       "      <th>price</th>\n",
       "      <th>rooms</th>\n",
       "      <th>space</th>\n",
       "    </tr>\n",
       "  </thead>\n",
       "  <tbody>\n",
       "    <tr>\n",
       "      <th>2</th>\n",
       "      <td>Etaj 1</td>\n",
       "      <td>Andrei Muresanu</td>\n",
       "      <td>Imobil vechi</td>\n",
       "      <td>Circular</td>\n",
       "      <td>1990.0</td>\n",
       "      <td>4</td>\n",
       "      <td>250.0</td>\n",
       "    </tr>\n",
       "    <tr>\n",
       "      <th>5</th>\n",
       "      <td>Parter</td>\n",
       "      <td>Andrei Muresanu</td>\n",
       "      <td>Imobil nou</td>\n",
       "      <td>Semidecomandat</td>\n",
       "      <td>2000.0</td>\n",
       "      <td>4</td>\n",
       "      <td>160.0</td>\n",
       "    </tr>\n",
       "    <tr>\n",
       "      <th>6</th>\n",
       "      <td>Etaj 2</td>\n",
       "      <td>Andrei Muresanu</td>\n",
       "      <td>Imobil vechi</td>\n",
       "      <td>Semidecomandat</td>\n",
       "      <td>470.0</td>\n",
       "      <td>2</td>\n",
       "      <td>63.0</td>\n",
       "    </tr>\n",
       "    <tr>\n",
       "      <th>7</th>\n",
       "      <td>Etaj 3</td>\n",
       "      <td>Andrei Muresanu</td>\n",
       "      <td>Imobil nou</td>\n",
       "      <td>Decomandat</td>\n",
       "      <td>475.0</td>\n",
       "      <td>2</td>\n",
       "      <td>65.0</td>\n",
       "    </tr>\n",
       "    <tr>\n",
       "      <th>8</th>\n",
       "      <td>Demisol</td>\n",
       "      <td>Andrei Muresanu</td>\n",
       "      <td>Imobil vechi</td>\n",
       "      <td>Semidecomandat</td>\n",
       "      <td>400.0</td>\n",
       "      <td>2</td>\n",
       "      <td>44.0</td>\n",
       "    </tr>\n",
       "  </tbody>\n",
       "</table>\n",
       "</div>"
      ],
      "text/plain": [
       "     floor     neighborhood  new_building    partitioning   price  rooms  \\\n",
       "2   Etaj 1  Andrei Muresanu  Imobil vechi        Circular  1990.0      4   \n",
       "5   Parter  Andrei Muresanu    Imobil nou  Semidecomandat  2000.0      4   \n",
       "6   Etaj 2  Andrei Muresanu  Imobil vechi  Semidecomandat   470.0      2   \n",
       "7   Etaj 3  Andrei Muresanu    Imobil nou      Decomandat   475.0      2   \n",
       "8  Demisol  Andrei Muresanu  Imobil vechi  Semidecomandat   400.0      2   \n",
       "\n",
       "   space  \n",
       "2  250.0  \n",
       "5  160.0  \n",
       "6   63.0  \n",
       "7   65.0  \n",
       "8   44.0  "
      ]
     },
     "execution_count": 120,
     "metadata": {},
     "output_type": "execute_result"
    }
   ],
   "source": [
    "df = df.drop(['price_per_square_foot'],axis='columns')\n",
    "df.head()"
   ]
  },
  {
   "cell_type": "markdown",
   "metadata": {},
   "source": [
    "#### Use One Hot Encoding For The Features: 'neighborhood', 'rooms', 'floor', 'new Building' and 'partitioning'"
   ]
  },
  {
   "cell_type": "code",
   "execution_count": 121,
   "metadata": {
    "scrolled": true
   },
   "outputs": [
    {
     "data": {
      "text/html": [
       "<div>\n",
       "<style scoped>\n",
       "    .dataframe tbody tr th:only-of-type {\n",
       "        vertical-align: middle;\n",
       "    }\n",
       "\n",
       "    .dataframe tbody tr th {\n",
       "        vertical-align: top;\n",
       "    }\n",
       "\n",
       "    .dataframe thead th {\n",
       "        text-align: right;\n",
       "    }\n",
       "</style>\n",
       "<table border=\"1\" class=\"dataframe\">\n",
       "  <thead>\n",
       "    <tr style=\"text-align: right;\">\n",
       "      <th></th>\n",
       "      <th>Andrei Muresanu</th>\n",
       "      <th>Borhanci</th>\n",
       "      <th>Bulgaria</th>\n",
       "      <th>Buna Ziua</th>\n",
       "      <th>Calea Turzii</th>\n",
       "      <th>Central</th>\n",
       "      <th>Dambul Rotund</th>\n",
       "      <th>Europa</th>\n",
       "      <th>Gara</th>\n",
       "      <th>Gheorgheni</th>\n",
       "      <th>...</th>\n",
       "      <th>Manastur</th>\n",
       "      <th>Marasti</th>\n",
       "      <th>Other neighborhoods</th>\n",
       "      <th>P-ta Mihai Viteazul</th>\n",
       "      <th>Plopilor</th>\n",
       "      <th>Semicentral</th>\n",
       "      <th>Someseni</th>\n",
       "      <th>Sopor</th>\n",
       "      <th>Ultracentral</th>\n",
       "      <th>Zorilor</th>\n",
       "    </tr>\n",
       "  </thead>\n",
       "  <tbody>\n",
       "    <tr>\n",
       "      <th>2</th>\n",
       "      <td>1</td>\n",
       "      <td>0</td>\n",
       "      <td>0</td>\n",
       "      <td>0</td>\n",
       "      <td>0</td>\n",
       "      <td>0</td>\n",
       "      <td>0</td>\n",
       "      <td>0</td>\n",
       "      <td>0</td>\n",
       "      <td>0</td>\n",
       "      <td>...</td>\n",
       "      <td>0</td>\n",
       "      <td>0</td>\n",
       "      <td>0</td>\n",
       "      <td>0</td>\n",
       "      <td>0</td>\n",
       "      <td>0</td>\n",
       "      <td>0</td>\n",
       "      <td>0</td>\n",
       "      <td>0</td>\n",
       "      <td>0</td>\n",
       "    </tr>\n",
       "    <tr>\n",
       "      <th>5</th>\n",
       "      <td>1</td>\n",
       "      <td>0</td>\n",
       "      <td>0</td>\n",
       "      <td>0</td>\n",
       "      <td>0</td>\n",
       "      <td>0</td>\n",
       "      <td>0</td>\n",
       "      <td>0</td>\n",
       "      <td>0</td>\n",
       "      <td>0</td>\n",
       "      <td>...</td>\n",
       "      <td>0</td>\n",
       "      <td>0</td>\n",
       "      <td>0</td>\n",
       "      <td>0</td>\n",
       "      <td>0</td>\n",
       "      <td>0</td>\n",
       "      <td>0</td>\n",
       "      <td>0</td>\n",
       "      <td>0</td>\n",
       "      <td>0</td>\n",
       "    </tr>\n",
       "    <tr>\n",
       "      <th>6</th>\n",
       "      <td>1</td>\n",
       "      <td>0</td>\n",
       "      <td>0</td>\n",
       "      <td>0</td>\n",
       "      <td>0</td>\n",
       "      <td>0</td>\n",
       "      <td>0</td>\n",
       "      <td>0</td>\n",
       "      <td>0</td>\n",
       "      <td>0</td>\n",
       "      <td>...</td>\n",
       "      <td>0</td>\n",
       "      <td>0</td>\n",
       "      <td>0</td>\n",
       "      <td>0</td>\n",
       "      <td>0</td>\n",
       "      <td>0</td>\n",
       "      <td>0</td>\n",
       "      <td>0</td>\n",
       "      <td>0</td>\n",
       "      <td>0</td>\n",
       "    </tr>\n",
       "    <tr>\n",
       "      <th>7</th>\n",
       "      <td>1</td>\n",
       "      <td>0</td>\n",
       "      <td>0</td>\n",
       "      <td>0</td>\n",
       "      <td>0</td>\n",
       "      <td>0</td>\n",
       "      <td>0</td>\n",
       "      <td>0</td>\n",
       "      <td>0</td>\n",
       "      <td>0</td>\n",
       "      <td>...</td>\n",
       "      <td>0</td>\n",
       "      <td>0</td>\n",
       "      <td>0</td>\n",
       "      <td>0</td>\n",
       "      <td>0</td>\n",
       "      <td>0</td>\n",
       "      <td>0</td>\n",
       "      <td>0</td>\n",
       "      <td>0</td>\n",
       "      <td>0</td>\n",
       "    </tr>\n",
       "    <tr>\n",
       "      <th>8</th>\n",
       "      <td>1</td>\n",
       "      <td>0</td>\n",
       "      <td>0</td>\n",
       "      <td>0</td>\n",
       "      <td>0</td>\n",
       "      <td>0</td>\n",
       "      <td>0</td>\n",
       "      <td>0</td>\n",
       "      <td>0</td>\n",
       "      <td>0</td>\n",
       "      <td>...</td>\n",
       "      <td>0</td>\n",
       "      <td>0</td>\n",
       "      <td>0</td>\n",
       "      <td>0</td>\n",
       "      <td>0</td>\n",
       "      <td>0</td>\n",
       "      <td>0</td>\n",
       "      <td>0</td>\n",
       "      <td>0</td>\n",
       "      <td>0</td>\n",
       "    </tr>\n",
       "  </tbody>\n",
       "</table>\n",
       "<p>5 rows × 26 columns</p>\n",
       "</div>"
      ],
      "text/plain": [
       "   Andrei Muresanu  Borhanci  Bulgaria  Buna Ziua  Calea Turzii  Central  \\\n",
       "2                1         0         0          0             0        0   \n",
       "5                1         0         0          0             0        0   \n",
       "6                1         0         0          0             0        0   \n",
       "7                1         0         0          0             0        0   \n",
       "8                1         0         0          0             0        0   \n",
       "\n",
       "   Dambul Rotund  Europa  Gara  Gheorgheni  ...  Manastur  Marasti  \\\n",
       "2              0       0     0           0  ...         0        0   \n",
       "5              0       0     0           0  ...         0        0   \n",
       "6              0       0     0           0  ...         0        0   \n",
       "7              0       0     0           0  ...         0        0   \n",
       "8              0       0     0           0  ...         0        0   \n",
       "\n",
       "   Other neighborhoods  P-ta Mihai Viteazul  Plopilor  Semicentral  Someseni  \\\n",
       "2                    0                    0         0            0         0   \n",
       "5                    0                    0         0            0         0   \n",
       "6                    0                    0         0            0         0   \n",
       "7                    0                    0         0            0         0   \n",
       "8                    0                    0         0            0         0   \n",
       "\n",
       "   Sopor  Ultracentral  Zorilor  \n",
       "2      0             0        0  \n",
       "5      0             0        0  \n",
       "6      0             0        0  \n",
       "7      0             0        0  \n",
       "8      0             0        0  \n",
       "\n",
       "[5 rows x 26 columns]"
      ]
     },
     "execution_count": 121,
     "metadata": {},
     "output_type": "execute_result"
    }
   ],
   "source": [
    "dummies_neighborhood = pd.get_dummies(df['neighborhood']) \n",
    "dummies_neighborhood.head()"
   ]
  },
  {
   "cell_type": "code",
   "execution_count": 122,
   "metadata": {},
   "outputs": [
    {
     "data": {
      "text/html": [
       "<div>\n",
       "<style scoped>\n",
       "    .dataframe tbody tr th:only-of-type {\n",
       "        vertical-align: middle;\n",
       "    }\n",
       "\n",
       "    .dataframe tbody tr th {\n",
       "        vertical-align: top;\n",
       "    }\n",
       "\n",
       "    .dataframe thead th {\n",
       "        text-align: right;\n",
       "    }\n",
       "</style>\n",
       "<table border=\"1\" class=\"dataframe\">\n",
       "  <thead>\n",
       "    <tr style=\"text-align: right;\">\n",
       "      <th></th>\n",
       "      <th>1</th>\n",
       "      <th>2</th>\n",
       "      <th>3</th>\n",
       "      <th>4</th>\n",
       "      <th>5</th>\n",
       "      <th>6</th>\n",
       "      <th>7</th>\n",
       "      <th>11</th>\n",
       "    </tr>\n",
       "  </thead>\n",
       "  <tbody>\n",
       "    <tr>\n",
       "      <th>2</th>\n",
       "      <td>0</td>\n",
       "      <td>0</td>\n",
       "      <td>0</td>\n",
       "      <td>1</td>\n",
       "      <td>0</td>\n",
       "      <td>0</td>\n",
       "      <td>0</td>\n",
       "      <td>0</td>\n",
       "    </tr>\n",
       "    <tr>\n",
       "      <th>5</th>\n",
       "      <td>0</td>\n",
       "      <td>0</td>\n",
       "      <td>0</td>\n",
       "      <td>1</td>\n",
       "      <td>0</td>\n",
       "      <td>0</td>\n",
       "      <td>0</td>\n",
       "      <td>0</td>\n",
       "    </tr>\n",
       "    <tr>\n",
       "      <th>6</th>\n",
       "      <td>0</td>\n",
       "      <td>1</td>\n",
       "      <td>0</td>\n",
       "      <td>0</td>\n",
       "      <td>0</td>\n",
       "      <td>0</td>\n",
       "      <td>0</td>\n",
       "      <td>0</td>\n",
       "    </tr>\n",
       "    <tr>\n",
       "      <th>7</th>\n",
       "      <td>0</td>\n",
       "      <td>1</td>\n",
       "      <td>0</td>\n",
       "      <td>0</td>\n",
       "      <td>0</td>\n",
       "      <td>0</td>\n",
       "      <td>0</td>\n",
       "      <td>0</td>\n",
       "    </tr>\n",
       "    <tr>\n",
       "      <th>8</th>\n",
       "      <td>0</td>\n",
       "      <td>1</td>\n",
       "      <td>0</td>\n",
       "      <td>0</td>\n",
       "      <td>0</td>\n",
       "      <td>0</td>\n",
       "      <td>0</td>\n",
       "      <td>0</td>\n",
       "    </tr>\n",
       "  </tbody>\n",
       "</table>\n",
       "</div>"
      ],
      "text/plain": [
       "   1   2   3   4   5   6   7   11\n",
       "2   0   0   0   1   0   0   0   0\n",
       "5   0   0   0   1   0   0   0   0\n",
       "6   0   1   0   0   0   0   0   0\n",
       "7   0   1   0   0   0   0   0   0\n",
       "8   0   1   0   0   0   0   0   0"
      ]
     },
     "execution_count": 122,
     "metadata": {},
     "output_type": "execute_result"
    }
   ],
   "source": [
    "dummies_rooms = pd.get_dummies(df['rooms']) \n",
    "dummies_rooms.head()"
   ]
  },
  {
   "cell_type": "code",
   "execution_count": 123,
   "metadata": {},
   "outputs": [
    {
     "data": {
      "text/html": [
       "<div>\n",
       "<style scoped>\n",
       "    .dataframe tbody tr th:only-of-type {\n",
       "        vertical-align: middle;\n",
       "    }\n",
       "\n",
       "    .dataframe tbody tr th {\n",
       "        vertical-align: top;\n",
       "    }\n",
       "\n",
       "    .dataframe thead th {\n",
       "        text-align: right;\n",
       "    }\n",
       "</style>\n",
       "<table border=\"1\" class=\"dataframe\">\n",
       "  <thead>\n",
       "    <tr style=\"text-align: right;\">\n",
       "      <th></th>\n",
       "      <th>Demisol</th>\n",
       "      <th>Etaj 1</th>\n",
       "      <th>Etaj 11</th>\n",
       "      <th>Etaj 2</th>\n",
       "      <th>Etaj 3</th>\n",
       "      <th>Etaj 4</th>\n",
       "      <th>Etaj 5</th>\n",
       "      <th>Etaj 6</th>\n",
       "      <th>Etaj 7</th>\n",
       "      <th>Etaj 8</th>\n",
       "      <th>Etaj 9</th>\n",
       "      <th>Mansarda</th>\n",
       "      <th>Parter</th>\n",
       "    </tr>\n",
       "  </thead>\n",
       "  <tbody>\n",
       "    <tr>\n",
       "      <th>2</th>\n",
       "      <td>0</td>\n",
       "      <td>1</td>\n",
       "      <td>0</td>\n",
       "      <td>0</td>\n",
       "      <td>0</td>\n",
       "      <td>0</td>\n",
       "      <td>0</td>\n",
       "      <td>0</td>\n",
       "      <td>0</td>\n",
       "      <td>0</td>\n",
       "      <td>0</td>\n",
       "      <td>0</td>\n",
       "      <td>0</td>\n",
       "    </tr>\n",
       "    <tr>\n",
       "      <th>5</th>\n",
       "      <td>0</td>\n",
       "      <td>0</td>\n",
       "      <td>0</td>\n",
       "      <td>0</td>\n",
       "      <td>0</td>\n",
       "      <td>0</td>\n",
       "      <td>0</td>\n",
       "      <td>0</td>\n",
       "      <td>0</td>\n",
       "      <td>0</td>\n",
       "      <td>0</td>\n",
       "      <td>0</td>\n",
       "      <td>1</td>\n",
       "    </tr>\n",
       "    <tr>\n",
       "      <th>6</th>\n",
       "      <td>0</td>\n",
       "      <td>0</td>\n",
       "      <td>0</td>\n",
       "      <td>1</td>\n",
       "      <td>0</td>\n",
       "      <td>0</td>\n",
       "      <td>0</td>\n",
       "      <td>0</td>\n",
       "      <td>0</td>\n",
       "      <td>0</td>\n",
       "      <td>0</td>\n",
       "      <td>0</td>\n",
       "      <td>0</td>\n",
       "    </tr>\n",
       "    <tr>\n",
       "      <th>7</th>\n",
       "      <td>0</td>\n",
       "      <td>0</td>\n",
       "      <td>0</td>\n",
       "      <td>0</td>\n",
       "      <td>1</td>\n",
       "      <td>0</td>\n",
       "      <td>0</td>\n",
       "      <td>0</td>\n",
       "      <td>0</td>\n",
       "      <td>0</td>\n",
       "      <td>0</td>\n",
       "      <td>0</td>\n",
       "      <td>0</td>\n",
       "    </tr>\n",
       "    <tr>\n",
       "      <th>8</th>\n",
       "      <td>1</td>\n",
       "      <td>0</td>\n",
       "      <td>0</td>\n",
       "      <td>0</td>\n",
       "      <td>0</td>\n",
       "      <td>0</td>\n",
       "      <td>0</td>\n",
       "      <td>0</td>\n",
       "      <td>0</td>\n",
       "      <td>0</td>\n",
       "      <td>0</td>\n",
       "      <td>0</td>\n",
       "      <td>0</td>\n",
       "    </tr>\n",
       "  </tbody>\n",
       "</table>\n",
       "</div>"
      ],
      "text/plain": [
       "   Demisol  Etaj 1  Etaj 11  Etaj 2  Etaj 3  Etaj 4  Etaj 5  Etaj 6  Etaj 7  \\\n",
       "2        0       1        0       0       0       0       0       0       0   \n",
       "5        0       0        0       0       0       0       0       0       0   \n",
       "6        0       0        0       1       0       0       0       0       0   \n",
       "7        0       0        0       0       1       0       0       0       0   \n",
       "8        1       0        0       0       0       0       0       0       0   \n",
       "\n",
       "   Etaj 8  Etaj 9  Mansarda  Parter  \n",
       "2       0       0         0       0  \n",
       "5       0       0         0       1  \n",
       "6       0       0         0       0  \n",
       "7       0       0         0       0  \n",
       "8       0       0         0       0  "
      ]
     },
     "execution_count": 123,
     "metadata": {},
     "output_type": "execute_result"
    }
   ],
   "source": [
    "dummies_floor = pd.get_dummies(df['floor']) \n",
    "dummies_floor.head()"
   ]
  },
  {
   "cell_type": "code",
   "execution_count": 124,
   "metadata": {
    "scrolled": true
   },
   "outputs": [
    {
     "data": {
      "text/html": [
       "<div>\n",
       "<style scoped>\n",
       "    .dataframe tbody tr th:only-of-type {\n",
       "        vertical-align: middle;\n",
       "    }\n",
       "\n",
       "    .dataframe tbody tr th {\n",
       "        vertical-align: top;\n",
       "    }\n",
       "\n",
       "    .dataframe thead th {\n",
       "        text-align: right;\n",
       "    }\n",
       "</style>\n",
       "<table border=\"1\" class=\"dataframe\">\n",
       "  <thead>\n",
       "    <tr style=\"text-align: right;\">\n",
       "      <th></th>\n",
       "      <th>Imobil nou</th>\n",
       "      <th>Imobil vechi</th>\n",
       "    </tr>\n",
       "  </thead>\n",
       "  <tbody>\n",
       "    <tr>\n",
       "      <th>2</th>\n",
       "      <td>0</td>\n",
       "      <td>1</td>\n",
       "    </tr>\n",
       "    <tr>\n",
       "      <th>5</th>\n",
       "      <td>1</td>\n",
       "      <td>0</td>\n",
       "    </tr>\n",
       "    <tr>\n",
       "      <th>6</th>\n",
       "      <td>0</td>\n",
       "      <td>1</td>\n",
       "    </tr>\n",
       "    <tr>\n",
       "      <th>7</th>\n",
       "      <td>1</td>\n",
       "      <td>0</td>\n",
       "    </tr>\n",
       "    <tr>\n",
       "      <th>8</th>\n",
       "      <td>0</td>\n",
       "      <td>1</td>\n",
       "    </tr>\n",
       "  </tbody>\n",
       "</table>\n",
       "</div>"
      ],
      "text/plain": [
       "   Imobil nou  Imobil vechi\n",
       "2           0             1\n",
       "5           1             0\n",
       "6           0             1\n",
       "7           1             0\n",
       "8           0             1"
      ]
     },
     "execution_count": 124,
     "metadata": {},
     "output_type": "execute_result"
    }
   ],
   "source": [
    "dummies_new_building = pd.get_dummies(df['new_building']) \n",
    "dummies_new_building.head()"
   ]
  },
  {
   "cell_type": "code",
   "execution_count": 125,
   "metadata": {},
   "outputs": [
    {
     "data": {
      "text/html": [
       "<div>\n",
       "<style scoped>\n",
       "    .dataframe tbody tr th:only-of-type {\n",
       "        vertical-align: middle;\n",
       "    }\n",
       "\n",
       "    .dataframe tbody tr th {\n",
       "        vertical-align: top;\n",
       "    }\n",
       "\n",
       "    .dataframe thead th {\n",
       "        text-align: right;\n",
       "    }\n",
       "</style>\n",
       "<table border=\"1\" class=\"dataframe\">\n",
       "  <thead>\n",
       "    <tr style=\"text-align: right;\">\n",
       "      <th></th>\n",
       "      <th>Circular</th>\n",
       "      <th>Decomandat</th>\n",
       "      <th>Nedecomandat</th>\n",
       "      <th>Semidecomandat</th>\n",
       "      <th>Vagon</th>\n",
       "    </tr>\n",
       "  </thead>\n",
       "  <tbody>\n",
       "    <tr>\n",
       "      <th>2</th>\n",
       "      <td>1</td>\n",
       "      <td>0</td>\n",
       "      <td>0</td>\n",
       "      <td>0</td>\n",
       "      <td>0</td>\n",
       "    </tr>\n",
       "    <tr>\n",
       "      <th>5</th>\n",
       "      <td>0</td>\n",
       "      <td>0</td>\n",
       "      <td>0</td>\n",
       "      <td>1</td>\n",
       "      <td>0</td>\n",
       "    </tr>\n",
       "    <tr>\n",
       "      <th>6</th>\n",
       "      <td>0</td>\n",
       "      <td>0</td>\n",
       "      <td>0</td>\n",
       "      <td>1</td>\n",
       "      <td>0</td>\n",
       "    </tr>\n",
       "    <tr>\n",
       "      <th>7</th>\n",
       "      <td>0</td>\n",
       "      <td>1</td>\n",
       "      <td>0</td>\n",
       "      <td>0</td>\n",
       "      <td>0</td>\n",
       "    </tr>\n",
       "    <tr>\n",
       "      <th>8</th>\n",
       "      <td>0</td>\n",
       "      <td>0</td>\n",
       "      <td>0</td>\n",
       "      <td>1</td>\n",
       "      <td>0</td>\n",
       "    </tr>\n",
       "  </tbody>\n",
       "</table>\n",
       "</div>"
      ],
      "text/plain": [
       "   Circular  Decomandat  Nedecomandat  Semidecomandat  Vagon\n",
       "2         1           0             0               0      0\n",
       "5         0           0             0               1      0\n",
       "6         0           0             0               1      0\n",
       "7         0           1             0               0      0\n",
       "8         0           0             0               1      0"
      ]
     },
     "execution_count": 125,
     "metadata": {},
     "output_type": "execute_result"
    }
   ],
   "source": [
    "dummies_partitioning = pd.get_dummies(df['partitioning']) \n",
    "dummies_partitioning.head()"
   ]
  },
  {
   "cell_type": "code",
   "execution_count": 127,
   "metadata": {},
   "outputs": [
    {
     "data": {
      "text/html": [
       "<div>\n",
       "<style scoped>\n",
       "    .dataframe tbody tr th:only-of-type {\n",
       "        vertical-align: middle;\n",
       "    }\n",
       "\n",
       "    .dataframe tbody tr th {\n",
       "        vertical-align: top;\n",
       "    }\n",
       "\n",
       "    .dataframe thead th {\n",
       "        text-align: right;\n",
       "    }\n",
       "</style>\n",
       "<table border=\"1\" class=\"dataframe\">\n",
       "  <thead>\n",
       "    <tr style=\"text-align: right;\">\n",
       "      <th></th>\n",
       "      <th>floor</th>\n",
       "      <th>neighborhood</th>\n",
       "      <th>new_building</th>\n",
       "      <th>partitioning</th>\n",
       "      <th>price</th>\n",
       "      <th>rooms</th>\n",
       "      <th>space</th>\n",
       "      <th>Andrei Muresanu</th>\n",
       "      <th>Borhanci</th>\n",
       "      <th>Bulgaria</th>\n",
       "      <th>...</th>\n",
       "      <th>Etaj 2</th>\n",
       "      <th>Etaj 3</th>\n",
       "      <th>Etaj 4</th>\n",
       "      <th>Etaj 5</th>\n",
       "      <th>Etaj 6</th>\n",
       "      <th>Etaj 7</th>\n",
       "      <th>Etaj 8</th>\n",
       "      <th>Etaj 9</th>\n",
       "      <th>Mansarda</th>\n",
       "      <th>Parter</th>\n",
       "    </tr>\n",
       "  </thead>\n",
       "  <tbody>\n",
       "    <tr>\n",
       "      <th>2</th>\n",
       "      <td>Etaj 1</td>\n",
       "      <td>Andrei Muresanu</td>\n",
       "      <td>Imobil vechi</td>\n",
       "      <td>Circular</td>\n",
       "      <td>1990.0</td>\n",
       "      <td>4</td>\n",
       "      <td>250.0</td>\n",
       "      <td>1</td>\n",
       "      <td>0</td>\n",
       "      <td>0</td>\n",
       "      <td>...</td>\n",
       "      <td>0</td>\n",
       "      <td>0</td>\n",
       "      <td>0</td>\n",
       "      <td>0</td>\n",
       "      <td>0</td>\n",
       "      <td>0</td>\n",
       "      <td>0</td>\n",
       "      <td>0</td>\n",
       "      <td>0</td>\n",
       "      <td>0</td>\n",
       "    </tr>\n",
       "    <tr>\n",
       "      <th>5</th>\n",
       "      <td>Parter</td>\n",
       "      <td>Andrei Muresanu</td>\n",
       "      <td>Imobil nou</td>\n",
       "      <td>Semidecomandat</td>\n",
       "      <td>2000.0</td>\n",
       "      <td>4</td>\n",
       "      <td>160.0</td>\n",
       "      <td>1</td>\n",
       "      <td>0</td>\n",
       "      <td>0</td>\n",
       "      <td>...</td>\n",
       "      <td>0</td>\n",
       "      <td>0</td>\n",
       "      <td>0</td>\n",
       "      <td>0</td>\n",
       "      <td>0</td>\n",
       "      <td>0</td>\n",
       "      <td>0</td>\n",
       "      <td>0</td>\n",
       "      <td>0</td>\n",
       "      <td>1</td>\n",
       "    </tr>\n",
       "    <tr>\n",
       "      <th>6</th>\n",
       "      <td>Etaj 2</td>\n",
       "      <td>Andrei Muresanu</td>\n",
       "      <td>Imobil vechi</td>\n",
       "      <td>Semidecomandat</td>\n",
       "      <td>470.0</td>\n",
       "      <td>2</td>\n",
       "      <td>63.0</td>\n",
       "      <td>1</td>\n",
       "      <td>0</td>\n",
       "      <td>0</td>\n",
       "      <td>...</td>\n",
       "      <td>1</td>\n",
       "      <td>0</td>\n",
       "      <td>0</td>\n",
       "      <td>0</td>\n",
       "      <td>0</td>\n",
       "      <td>0</td>\n",
       "      <td>0</td>\n",
       "      <td>0</td>\n",
       "      <td>0</td>\n",
       "      <td>0</td>\n",
       "    </tr>\n",
       "    <tr>\n",
       "      <th>7</th>\n",
       "      <td>Etaj 3</td>\n",
       "      <td>Andrei Muresanu</td>\n",
       "      <td>Imobil nou</td>\n",
       "      <td>Decomandat</td>\n",
       "      <td>475.0</td>\n",
       "      <td>2</td>\n",
       "      <td>65.0</td>\n",
       "      <td>1</td>\n",
       "      <td>0</td>\n",
       "      <td>0</td>\n",
       "      <td>...</td>\n",
       "      <td>0</td>\n",
       "      <td>1</td>\n",
       "      <td>0</td>\n",
       "      <td>0</td>\n",
       "      <td>0</td>\n",
       "      <td>0</td>\n",
       "      <td>0</td>\n",
       "      <td>0</td>\n",
       "      <td>0</td>\n",
       "      <td>0</td>\n",
       "    </tr>\n",
       "    <tr>\n",
       "      <th>8</th>\n",
       "      <td>Demisol</td>\n",
       "      <td>Andrei Muresanu</td>\n",
       "      <td>Imobil vechi</td>\n",
       "      <td>Semidecomandat</td>\n",
       "      <td>400.0</td>\n",
       "      <td>2</td>\n",
       "      <td>44.0</td>\n",
       "      <td>1</td>\n",
       "      <td>0</td>\n",
       "      <td>0</td>\n",
       "      <td>...</td>\n",
       "      <td>0</td>\n",
       "      <td>0</td>\n",
       "      <td>0</td>\n",
       "      <td>0</td>\n",
       "      <td>0</td>\n",
       "      <td>0</td>\n",
       "      <td>0</td>\n",
       "      <td>0</td>\n",
       "      <td>0</td>\n",
       "      <td>0</td>\n",
       "    </tr>\n",
       "  </tbody>\n",
       "</table>\n",
       "<p>5 rows × 92 columns</p>\n",
       "</div>"
      ],
      "text/plain": [
       "     floor     neighborhood  new_building    partitioning   price  rooms  \\\n",
       "2   Etaj 1  Andrei Muresanu  Imobil vechi        Circular  1990.0      4   \n",
       "5   Parter  Andrei Muresanu    Imobil nou  Semidecomandat  2000.0      4   \n",
       "6   Etaj 2  Andrei Muresanu  Imobil vechi  Semidecomandat   470.0      2   \n",
       "7   Etaj 3  Andrei Muresanu    Imobil nou      Decomandat   475.0      2   \n",
       "8  Demisol  Andrei Muresanu  Imobil vechi  Semidecomandat   400.0      2   \n",
       "\n",
       "   space  Andrei Muresanu  Borhanci  Bulgaria  ...  Etaj 2  Etaj 3  Etaj 4  \\\n",
       "2  250.0                1         0         0  ...       0       0       0   \n",
       "5  160.0                1         0         0  ...       0       0       0   \n",
       "6   63.0                1         0         0  ...       1       0       0   \n",
       "7   65.0                1         0         0  ...       0       1       0   \n",
       "8   44.0                1         0         0  ...       0       0       0   \n",
       "\n",
       "   Etaj 5  Etaj 6  Etaj 7  Etaj 8  Etaj 9  Mansarda  Parter  \n",
       "2       0       0       0       0       0         0       0  \n",
       "5       0       0       0       0       0         0       1  \n",
       "6       0       0       0       0       0         0       0  \n",
       "7       0       0       0       0       0         0       0  \n",
       "8       0       0       0       0       0         0       0  \n",
       "\n",
       "[5 rows x 92 columns]"
      ]
     },
     "execution_count": 127,
     "metadata": {},
     "output_type": "execute_result"
    }
   ],
   "source": [
    "df = pd.concat([df,dummies_neighborhood.drop('Other neighborhoods', axis='columns'), dummies_new_building, dummies_partitioning, dummies_rooms,dummies_floor], axis='columns') \n",
    "df.head()"
   ]
  },
  {
   "cell_type": "code",
   "execution_count": 128,
   "metadata": {},
   "outputs": [
    {
     "data": {
      "text/html": [
       "<div>\n",
       "<style scoped>\n",
       "    .dataframe tbody tr th:only-of-type {\n",
       "        vertical-align: middle;\n",
       "    }\n",
       "\n",
       "    .dataframe tbody tr th {\n",
       "        vertical-align: top;\n",
       "    }\n",
       "\n",
       "    .dataframe thead th {\n",
       "        text-align: right;\n",
       "    }\n",
       "</style>\n",
       "<table border=\"1\" class=\"dataframe\">\n",
       "  <thead>\n",
       "    <tr style=\"text-align: right;\">\n",
       "      <th></th>\n",
       "      <th>price</th>\n",
       "      <th>space</th>\n",
       "      <th>Andrei Muresanu</th>\n",
       "      <th>Borhanci</th>\n",
       "      <th>Bulgaria</th>\n",
       "      <th>Buna Ziua</th>\n",
       "      <th>Calea Turzii</th>\n",
       "      <th>Central</th>\n",
       "      <th>Dambul Rotund</th>\n",
       "      <th>Europa</th>\n",
       "      <th>...</th>\n",
       "      <th>Etaj 2</th>\n",
       "      <th>Etaj 3</th>\n",
       "      <th>Etaj 4</th>\n",
       "      <th>Etaj 5</th>\n",
       "      <th>Etaj 6</th>\n",
       "      <th>Etaj 7</th>\n",
       "      <th>Etaj 8</th>\n",
       "      <th>Etaj 9</th>\n",
       "      <th>Mansarda</th>\n",
       "      <th>Parter</th>\n",
       "    </tr>\n",
       "  </thead>\n",
       "  <tbody>\n",
       "    <tr>\n",
       "      <th>2</th>\n",
       "      <td>1990.0</td>\n",
       "      <td>250.0</td>\n",
       "      <td>1</td>\n",
       "      <td>0</td>\n",
       "      <td>0</td>\n",
       "      <td>0</td>\n",
       "      <td>0</td>\n",
       "      <td>0</td>\n",
       "      <td>0</td>\n",
       "      <td>0</td>\n",
       "      <td>...</td>\n",
       "      <td>0</td>\n",
       "      <td>0</td>\n",
       "      <td>0</td>\n",
       "      <td>0</td>\n",
       "      <td>0</td>\n",
       "      <td>0</td>\n",
       "      <td>0</td>\n",
       "      <td>0</td>\n",
       "      <td>0</td>\n",
       "      <td>0</td>\n",
       "    </tr>\n",
       "    <tr>\n",
       "      <th>5</th>\n",
       "      <td>2000.0</td>\n",
       "      <td>160.0</td>\n",
       "      <td>1</td>\n",
       "      <td>0</td>\n",
       "      <td>0</td>\n",
       "      <td>0</td>\n",
       "      <td>0</td>\n",
       "      <td>0</td>\n",
       "      <td>0</td>\n",
       "      <td>0</td>\n",
       "      <td>...</td>\n",
       "      <td>0</td>\n",
       "      <td>0</td>\n",
       "      <td>0</td>\n",
       "      <td>0</td>\n",
       "      <td>0</td>\n",
       "      <td>0</td>\n",
       "      <td>0</td>\n",
       "      <td>0</td>\n",
       "      <td>0</td>\n",
       "      <td>1</td>\n",
       "    </tr>\n",
       "    <tr>\n",
       "      <th>6</th>\n",
       "      <td>470.0</td>\n",
       "      <td>63.0</td>\n",
       "      <td>1</td>\n",
       "      <td>0</td>\n",
       "      <td>0</td>\n",
       "      <td>0</td>\n",
       "      <td>0</td>\n",
       "      <td>0</td>\n",
       "      <td>0</td>\n",
       "      <td>0</td>\n",
       "      <td>...</td>\n",
       "      <td>1</td>\n",
       "      <td>0</td>\n",
       "      <td>0</td>\n",
       "      <td>0</td>\n",
       "      <td>0</td>\n",
       "      <td>0</td>\n",
       "      <td>0</td>\n",
       "      <td>0</td>\n",
       "      <td>0</td>\n",
       "      <td>0</td>\n",
       "    </tr>\n",
       "    <tr>\n",
       "      <th>7</th>\n",
       "      <td>475.0</td>\n",
       "      <td>65.0</td>\n",
       "      <td>1</td>\n",
       "      <td>0</td>\n",
       "      <td>0</td>\n",
       "      <td>0</td>\n",
       "      <td>0</td>\n",
       "      <td>0</td>\n",
       "      <td>0</td>\n",
       "      <td>0</td>\n",
       "      <td>...</td>\n",
       "      <td>0</td>\n",
       "      <td>1</td>\n",
       "      <td>0</td>\n",
       "      <td>0</td>\n",
       "      <td>0</td>\n",
       "      <td>0</td>\n",
       "      <td>0</td>\n",
       "      <td>0</td>\n",
       "      <td>0</td>\n",
       "      <td>0</td>\n",
       "    </tr>\n",
       "    <tr>\n",
       "      <th>8</th>\n",
       "      <td>400.0</td>\n",
       "      <td>44.0</td>\n",
       "      <td>1</td>\n",
       "      <td>0</td>\n",
       "      <td>0</td>\n",
       "      <td>0</td>\n",
       "      <td>0</td>\n",
       "      <td>0</td>\n",
       "      <td>0</td>\n",
       "      <td>0</td>\n",
       "      <td>...</td>\n",
       "      <td>0</td>\n",
       "      <td>0</td>\n",
       "      <td>0</td>\n",
       "      <td>0</td>\n",
       "      <td>0</td>\n",
       "      <td>0</td>\n",
       "      <td>0</td>\n",
       "      <td>0</td>\n",
       "      <td>0</td>\n",
       "      <td>0</td>\n",
       "    </tr>\n",
       "  </tbody>\n",
       "</table>\n",
       "<p>5 rows × 87 columns</p>\n",
       "</div>"
      ],
      "text/plain": [
       "    price  space  Andrei Muresanu  Borhanci  Bulgaria  Buna Ziua  \\\n",
       "2  1990.0  250.0                1         0         0          0   \n",
       "5  2000.0  160.0                1         0         0          0   \n",
       "6   470.0   63.0                1         0         0          0   \n",
       "7   475.0   65.0                1         0         0          0   \n",
       "8   400.0   44.0                1         0         0          0   \n",
       "\n",
       "   Calea Turzii  Central  Dambul Rotund  Europa  ...  Etaj 2  Etaj 3  Etaj 4  \\\n",
       "2             0        0              0       0  ...       0       0       0   \n",
       "5             0        0              0       0  ...       0       0       0   \n",
       "6             0        0              0       0  ...       1       0       0   \n",
       "7             0        0              0       0  ...       0       1       0   \n",
       "8             0        0              0       0  ...       0       0       0   \n",
       "\n",
       "   Etaj 5  Etaj 6  Etaj 7  Etaj 8  Etaj 9  Mansarda  Parter  \n",
       "2       0       0       0       0       0         0       0  \n",
       "5       0       0       0       0       0         0       1  \n",
       "6       0       0       0       0       0         0       0  \n",
       "7       0       0       0       0       0         0       0  \n",
       "8       0       0       0       0       0         0       0  \n",
       "\n",
       "[5 rows x 87 columns]"
      ]
     },
     "execution_count": 128,
     "metadata": {},
     "output_type": "execute_result"
    }
   ],
   "source": [
    "df = df.drop(['neighborhood', 'new_building', 'partitioning', 'rooms', 'floor'], axis='columns') \n",
    "df.head()"
   ]
  },
  {
   "cell_type": "markdown",
   "metadata": {},
   "source": [
    "## 3. Building the model"
   ]
  },
  {
   "cell_type": "code",
   "execution_count": 129,
   "metadata": {},
   "outputs": [
    {
     "data": {
      "text/plain": [
       "(2201, 87)"
      ]
     },
     "execution_count": 129,
     "metadata": {},
     "output_type": "execute_result"
    }
   ],
   "source": [
    "df.shape"
   ]
  },
  {
   "cell_type": "code",
   "execution_count": 130,
   "metadata": {},
   "outputs": [
    {
     "data": {
      "text/html": [
       "<div>\n",
       "<style scoped>\n",
       "    .dataframe tbody tr th:only-of-type {\n",
       "        vertical-align: middle;\n",
       "    }\n",
       "\n",
       "    .dataframe tbody tr th {\n",
       "        vertical-align: top;\n",
       "    }\n",
       "\n",
       "    .dataframe thead th {\n",
       "        text-align: right;\n",
       "    }\n",
       "</style>\n",
       "<table border=\"1\" class=\"dataframe\">\n",
       "  <thead>\n",
       "    <tr style=\"text-align: right;\">\n",
       "      <th></th>\n",
       "      <th>space</th>\n",
       "      <th>Andrei Muresanu</th>\n",
       "      <th>Borhanci</th>\n",
       "      <th>Bulgaria</th>\n",
       "      <th>Buna Ziua</th>\n",
       "      <th>Calea Turzii</th>\n",
       "      <th>Central</th>\n",
       "      <th>Dambul Rotund</th>\n",
       "      <th>Europa</th>\n",
       "      <th>Gara</th>\n",
       "      <th>...</th>\n",
       "      <th>Etaj 2</th>\n",
       "      <th>Etaj 3</th>\n",
       "      <th>Etaj 4</th>\n",
       "      <th>Etaj 5</th>\n",
       "      <th>Etaj 6</th>\n",
       "      <th>Etaj 7</th>\n",
       "      <th>Etaj 8</th>\n",
       "      <th>Etaj 9</th>\n",
       "      <th>Mansarda</th>\n",
       "      <th>Parter</th>\n",
       "    </tr>\n",
       "  </thead>\n",
       "  <tbody>\n",
       "    <tr>\n",
       "      <th>2</th>\n",
       "      <td>250.0</td>\n",
       "      <td>1</td>\n",
       "      <td>0</td>\n",
       "      <td>0</td>\n",
       "      <td>0</td>\n",
       "      <td>0</td>\n",
       "      <td>0</td>\n",
       "      <td>0</td>\n",
       "      <td>0</td>\n",
       "      <td>0</td>\n",
       "      <td>...</td>\n",
       "      <td>0</td>\n",
       "      <td>0</td>\n",
       "      <td>0</td>\n",
       "      <td>0</td>\n",
       "      <td>0</td>\n",
       "      <td>0</td>\n",
       "      <td>0</td>\n",
       "      <td>0</td>\n",
       "      <td>0</td>\n",
       "      <td>0</td>\n",
       "    </tr>\n",
       "    <tr>\n",
       "      <th>5</th>\n",
       "      <td>160.0</td>\n",
       "      <td>1</td>\n",
       "      <td>0</td>\n",
       "      <td>0</td>\n",
       "      <td>0</td>\n",
       "      <td>0</td>\n",
       "      <td>0</td>\n",
       "      <td>0</td>\n",
       "      <td>0</td>\n",
       "      <td>0</td>\n",
       "      <td>...</td>\n",
       "      <td>0</td>\n",
       "      <td>0</td>\n",
       "      <td>0</td>\n",
       "      <td>0</td>\n",
       "      <td>0</td>\n",
       "      <td>0</td>\n",
       "      <td>0</td>\n",
       "      <td>0</td>\n",
       "      <td>0</td>\n",
       "      <td>1</td>\n",
       "    </tr>\n",
       "    <tr>\n",
       "      <th>6</th>\n",
       "      <td>63.0</td>\n",
       "      <td>1</td>\n",
       "      <td>0</td>\n",
       "      <td>0</td>\n",
       "      <td>0</td>\n",
       "      <td>0</td>\n",
       "      <td>0</td>\n",
       "      <td>0</td>\n",
       "      <td>0</td>\n",
       "      <td>0</td>\n",
       "      <td>...</td>\n",
       "      <td>1</td>\n",
       "      <td>0</td>\n",
       "      <td>0</td>\n",
       "      <td>0</td>\n",
       "      <td>0</td>\n",
       "      <td>0</td>\n",
       "      <td>0</td>\n",
       "      <td>0</td>\n",
       "      <td>0</td>\n",
       "      <td>0</td>\n",
       "    </tr>\n",
       "    <tr>\n",
       "      <th>7</th>\n",
       "      <td>65.0</td>\n",
       "      <td>1</td>\n",
       "      <td>0</td>\n",
       "      <td>0</td>\n",
       "      <td>0</td>\n",
       "      <td>0</td>\n",
       "      <td>0</td>\n",
       "      <td>0</td>\n",
       "      <td>0</td>\n",
       "      <td>0</td>\n",
       "      <td>...</td>\n",
       "      <td>0</td>\n",
       "      <td>1</td>\n",
       "      <td>0</td>\n",
       "      <td>0</td>\n",
       "      <td>0</td>\n",
       "      <td>0</td>\n",
       "      <td>0</td>\n",
       "      <td>0</td>\n",
       "      <td>0</td>\n",
       "      <td>0</td>\n",
       "    </tr>\n",
       "    <tr>\n",
       "      <th>8</th>\n",
       "      <td>44.0</td>\n",
       "      <td>1</td>\n",
       "      <td>0</td>\n",
       "      <td>0</td>\n",
       "      <td>0</td>\n",
       "      <td>0</td>\n",
       "      <td>0</td>\n",
       "      <td>0</td>\n",
       "      <td>0</td>\n",
       "      <td>0</td>\n",
       "      <td>...</td>\n",
       "      <td>0</td>\n",
       "      <td>0</td>\n",
       "      <td>0</td>\n",
       "      <td>0</td>\n",
       "      <td>0</td>\n",
       "      <td>0</td>\n",
       "      <td>0</td>\n",
       "      <td>0</td>\n",
       "      <td>0</td>\n",
       "      <td>0</td>\n",
       "    </tr>\n",
       "  </tbody>\n",
       "</table>\n",
       "<p>5 rows × 86 columns</p>\n",
       "</div>"
      ],
      "text/plain": [
       "   space  Andrei Muresanu  Borhanci  Bulgaria  Buna Ziua  Calea Turzii  \\\n",
       "2  250.0                1         0         0          0             0   \n",
       "5  160.0                1         0         0          0             0   \n",
       "6   63.0                1         0         0          0             0   \n",
       "7   65.0                1         0         0          0             0   \n",
       "8   44.0                1         0         0          0             0   \n",
       "\n",
       "   Central  Dambul Rotund  Europa  Gara  ...  Etaj 2  Etaj 3  Etaj 4  Etaj 5  \\\n",
       "2        0              0       0     0  ...       0       0       0       0   \n",
       "5        0              0       0     0  ...       0       0       0       0   \n",
       "6        0              0       0     0  ...       1       0       0       0   \n",
       "7        0              0       0     0  ...       0       1       0       0   \n",
       "8        0              0       0     0  ...       0       0       0       0   \n",
       "\n",
       "   Etaj 6  Etaj 7  Etaj 8  Etaj 9  Mansarda  Parter  \n",
       "2       0       0       0       0         0       0  \n",
       "5       0       0       0       0         0       1  \n",
       "6       0       0       0       0         0       0  \n",
       "7       0       0       0       0         0       0  \n",
       "8       0       0       0       0         0       0  \n",
       "\n",
       "[5 rows x 86 columns]"
      ]
     },
     "execution_count": 130,
     "metadata": {},
     "output_type": "execute_result"
    }
   ],
   "source": [
    "X = df.drop(['price'],axis='columns')\n",
    "X.head()"
   ]
  },
  {
   "cell_type": "code",
   "execution_count": 131,
   "metadata": {},
   "outputs": [
    {
     "data": {
      "text/plain": [
       "(2201, 86)"
      ]
     },
     "execution_count": 131,
     "metadata": {},
     "output_type": "execute_result"
    }
   ],
   "source": [
    "X.shape"
   ]
  },
  {
   "cell_type": "code",
   "execution_count": 132,
   "metadata": {},
   "outputs": [
    {
     "data": {
      "text/plain": [
       "2    1990.0\n",
       "5    2000.0\n",
       "6     470.0\n",
       "7     475.0\n",
       "8     400.0\n",
       "Name: price, dtype: float64"
      ]
     },
     "execution_count": 132,
     "metadata": {},
     "output_type": "execute_result"
    }
   ],
   "source": [
    "y = df.price\n",
    "y.head()"
   ]
  },
  {
   "cell_type": "code",
   "execution_count": 133,
   "metadata": {},
   "outputs": [
    {
     "data": {
      "text/plain": [
       "2201"
      ]
     },
     "execution_count": 133,
     "metadata": {},
     "output_type": "execute_result"
    }
   ],
   "source": [
    "len(y)"
   ]
  },
  {
   "cell_type": "code",
   "execution_count": 134,
   "metadata": {},
   "outputs": [],
   "source": [
    "from sklearn.model_selection import train_test_split\n",
    "X_train, X_test, y_train, y_test = train_test_split(X,y,test_size=0.2,random_state=15)"
   ]
  },
  {
   "cell_type": "code",
   "execution_count": 135,
   "metadata": {},
   "outputs": [],
   "source": [
    "from sklearn.linear_model import LinearRegression"
   ]
  },
  {
   "cell_type": "code",
   "execution_count": 137,
   "metadata": {},
   "outputs": [
    {
     "data": {
      "text/plain": [
       "LinearRegression()"
      ]
     },
     "execution_count": 137,
     "metadata": {},
     "output_type": "execute_result"
    }
   ],
   "source": [
    "linear_regression = LinearRegression()\n",
    "linear_regression.fit(X_train, y_train)"
   ]
  },
  {
   "cell_type": "code",
   "execution_count": 138,
   "metadata": {},
   "outputs": [
    {
     "data": {
      "text/plain": [
       "0.8552424538713835"
      ]
     },
     "execution_count": 138,
     "metadata": {},
     "output_type": "execute_result"
    }
   ],
   "source": [
    "linear_regression.score(X_test, y_test)"
   ]
  },
  {
   "cell_type": "markdown",
   "metadata": {},
   "source": [
    "### Use K Fold cross validation to measure accuracy of our LinearRegression model"
   ]
  },
  {
   "cell_type": "code",
   "execution_count": 139,
   "metadata": {},
   "outputs": [
    {
     "data": {
      "text/plain": [
       "array([0.82078735, 0.83773153, 0.81736773, 0.82497372, 0.89350727])"
      ]
     },
     "execution_count": 139,
     "metadata": {},
     "output_type": "execute_result"
    }
   ],
   "source": [
    "from sklearn.model_selection import ShuffleSplit\n",
    "from sklearn.model_selection import cross_val_score\n",
    "\n",
    "cv = ShuffleSplit(n_splits = 5, test_size=0.2, random_state=0)\n",
    "\n",
    "cross_val_score(LinearRegression(), X, y, cv=cv)"
   ]
  },
  {
   "cell_type": "markdown",
   "metadata": {},
   "source": [
    "### Test the model for few properties"
   ]
  },
  {
   "cell_type": "code",
   "execution_count": 141,
   "metadata": {},
   "outputs": [],
   "source": [
    "def predict_price(neighborhood,partitioning, new_building, space,floor,rooms):    \n",
    "    loc_index = np.where(X.columns==neighborhood)[0][0]\n",
    "    loc_index1 = np.where(X.columns==partitioning)[0][0]\n",
    "    loc_index2 = np.where(X.columns==new_building)[0][0]\n",
    "    loc_index3 = np.where(X.columns==rooms)[0][0]\n",
    "    loc_index4 = np.where(X.columns==floor)[0][0]\n",
    "    \n",
    "    x = np.zeros(len(X.columns))\n",
    "    x[0] = space\n",
    "    if loc_index >= 0 and loc_index1 >= 0 and loc_index2 >= 0 and loc_index3 >= 0 and loc_index4 >= 0:\n",
    "        x[loc_index] = 1\n",
    "        x[loc_index1] = 1\n",
    "        x[loc_index2] = 1\n",
    "        x[loc_index3] = 1\n",
    "        x[loc_index4] = 1\n",
    "        \n",
    "    return linear_regression.predict([x])[0]"
   ]
  },
  {
   "cell_type": "code",
   "execution_count": 142,
   "metadata": {},
   "outputs": [
    {
     "data": {
      "text/plain": [
       "221.72144274564005"
      ]
     },
     "execution_count": 142,
     "metadata": {},
     "output_type": "execute_result"
    }
   ],
   "source": [
    "predict_price('Marasti', 'Semidecomandat', 'Imobil vechi', 28,'Etaj 2',1)"
   ]
  },
  {
   "cell_type": "code",
   "execution_count": 143,
   "metadata": {},
   "outputs": [
    {
     "data": {
      "text/plain": [
       "2178.423250411379"
      ]
     },
     "execution_count": 143,
     "metadata": {},
     "output_type": "execute_result"
    }
   ],
   "source": [
    "predict_price('Andrei Muresanu', 'Circular', 'Imobil vechi', 250, 'Parter', 4)"
   ]
  },
  {
   "cell_type": "code",
   "execution_count": 144,
   "metadata": {},
   "outputs": [
    {
     "data": {
      "text/plain": [
       "534.1340991641929"
      ]
     },
     "execution_count": 144,
     "metadata": {},
     "output_type": "execute_result"
    }
   ],
   "source": [
    "predict_price('Central', 'Semidecomandat', 'Imobil vechi', 50, 'Etaj 5', 2)"
   ]
  },
  {
   "cell_type": "code",
   "execution_count": 145,
   "metadata": {},
   "outputs": [
    {
     "data": {
      "text/plain": [
       "447.2260898384801"
      ]
     },
     "execution_count": 145,
     "metadata": {},
     "output_type": "execute_result"
    }
   ],
   "source": [
    "predict_price('Manastur','Semidecomandat', 'Imobil vechi',45,'Etaj 8', 2)"
   ]
  },
  {
   "cell_type": "code",
   "execution_count": 146,
   "metadata": {
    "scrolled": true
   },
   "outputs": [
    {
     "data": {
      "text/plain": [
       "376.9538011388431"
      ]
     },
     "execution_count": 146,
     "metadata": {},
     "output_type": "execute_result"
    }
   ],
   "source": [
    "predict_price('Marasti', 'Semidecomandat', 'Imobil vechi', 40,'Etaj 2',2)"
   ]
  },
  {
   "cell_type": "markdown",
   "metadata": {},
   "source": [
    "#### Export the model to a pickle file"
   ]
  },
  {
   "cell_type": "code",
   "execution_count": 148,
   "metadata": {
    "scrolled": true
   },
   "outputs": [],
   "source": [
    "import pickle\n",
    "with open('cluj_napoca_rent_price_model.pickle','wb') as f:\n",
    "    pickle.dump(linear_regression,f)"
   ]
  },
  {
   "cell_type": "markdown",
   "metadata": {},
   "source": [
    "#### Export location and column information to a file that will be used in the prediction application"
   ]
  },
  {
   "cell_type": "code",
   "execution_count": 171,
   "metadata": {},
   "outputs": [],
   "source": [
    "import json\n",
    "columns = {\n",
    "    'data_columns' : [col for col in X.columns]\n",
    "}\n",
    "with open(\"columns.json\",\"w\") as f:\n",
    "    f.write(json.dumps(columns))"
   ]
  }
 ],
 "metadata": {
  "kernelspec": {
   "display_name": "Python 3",
   "language": "python",
   "name": "python3"
  },
  "language_info": {
   "codemirror_mode": {
    "name": "ipython",
    "version": 3
   },
   "file_extension": ".py",
   "mimetype": "text/x-python",
   "name": "python",
   "nbconvert_exporter": "python",
   "pygments_lexer": "ipython3",
   "version": "3.8.3"
  }
 },
 "nbformat": 4,
 "nbformat_minor": 4
}
